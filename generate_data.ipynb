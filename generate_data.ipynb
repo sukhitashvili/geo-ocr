{
 "cells": [
  {
   "cell_type": "code",
   "execution_count": 1,
   "id": "b0da98ab",
   "metadata": {},
   "outputs": [],
   "source": [
    "# %cd ./TextRecognitionDataGenerator/"
   ]
  },
  {
   "cell_type": "code",
   "execution_count": 6,
   "id": "1d70cbfa",
   "metadata": {},
   "outputs": [],
   "source": [
    "# !pip install ."
   ]
  },
  {
   "cell_type": "code",
   "execution_count": 5,
   "id": "b2fc42ad",
   "metadata": {},
   "outputs": [],
   "source": [
    "# %cd ../"
   ]
  },
  {
   "cell_type": "code",
   "execution_count": 402,
   "id": "dc5e41d6",
   "metadata": {},
   "outputs": [],
   "source": [
    "from glob import glob\n",
    "import os\n",
    "import pandas as pd\n",
    "import random\n",
    "import numpy as np\n",
    "from random import randrange\n",
    "from tqdm import tqdm\n",
    "from datetime import timedelta\n",
    "from datetime import datetime\n",
    "from PIL import Image\n",
    "\n",
    "\n",
    "from trdg.generators import (\n",
    "    GeneratorFromDict,\n",
    "    GeneratorFromRandom,\n",
    "    GeneratorFromStrings,\n",
    "    GeneratorFromWikipedia,\n",
    ")"
   ]
  },
  {
   "cell_type": "code",
   "execution_count": 12,
   "id": "a50127ff",
   "metadata": {},
   "outputs": [],
   "source": [
    "df = pd.read_csv('./TextRecognitionDataGenerator/trdg/dicts/ka.txt', header=None)\n",
    "geo_words = df.iloc[:, 0].values.tolist()"
   ]
  },
  {
   "cell_type": "code",
   "execution_count": 389,
   "id": "7fec0906",
   "metadata": {},
   "outputs": [],
   "source": [
    "text_symbols = [',', '.', '!', '?', '']\n",
    "\n",
    "def get_words():\n",
    "    word_number = np.random.randint(low=2, high=6, size=1).item()\n",
    "    rand_symbol = random.sample(text_symbols, k=1)\n",
    "    word_list = random.sample(geo_words, k=word_number)\n",
    "    break_index = np.random.randint(low=0, high=len(word_list), size=1).item()\n",
    "    first_part = word_list[:break_index]\n",
    "    second_part = word_list[break_index:]\n",
    "    words = ' '.join(first_part) + rand_symbol[0] + ' ' +  ' '.join(second_part)\n",
    "    words = words.strip()\n",
    "    if words[0] in text_symbols:\n",
    "        return words[2:]\n",
    "    return words"
   ]
  },
  {
   "cell_type": "code",
   "execution_count": 390,
   "id": "0cedc673",
   "metadata": {},
   "outputs": [
    {
     "data": {
      "text/plain": [
       "'ათუალვა შეწირულობის ვარაყშეყრილი'"
      ]
     },
     "execution_count": 390,
     "metadata": {},
     "output_type": "execute_result"
    }
   ],
   "source": [
    "get_words()"
   ]
  },
  {
   "cell_type": "code",
   "execution_count": 391,
   "id": "bad6c6da",
   "metadata": {},
   "outputs": [],
   "source": [
    "def random_date(start, end):\n",
    "    \"\"\"\n",
    "    This function will return a random datetime between two datetime \n",
    "    objects.\n",
    "    \"\"\"\n",
    "    delta = end - start\n",
    "    int_delta = (delta.days * 24 * 60 * 60) + delta.seconds\n",
    "    random_second = randrange(int_delta)\n",
    "    return start + timedelta(seconds=random_second)\n",
    "\n",
    "\n",
    "start = datetime.strptime('01/01/2001', '%d/%m/%Y')\n",
    "end = datetime.strptime('16/11/2021', '%d/%m/%Y')\n",
    "\n",
    "def get_date():\n",
    "    date = random_date(start, end).strftime(\"%d.%m.%Y\")\n",
    "    return date"
   ]
  },
  {
   "cell_type": "code",
   "execution_count": 392,
   "id": "ea42f208",
   "metadata": {},
   "outputs": [
    {
     "data": {
      "text/plain": [
       "'28.09.2013'"
      ]
     },
     "execution_count": 392,
     "metadata": {},
     "output_type": "execute_result"
    }
   ],
   "source": [
    "get_date()"
   ]
  },
  {
   "cell_type": "code",
   "execution_count": 393,
   "id": "29986aab",
   "metadata": {},
   "outputs": [],
   "source": [
    "math_symbols = ['', '%', '$', '.', ',']\n",
    "\n",
    "def numbers():\n",
    "    rand_symbol = random.sample(math_symbols, k=1)\n",
    "    numbers = np.random.randint(low=0, high=10000)\n",
    "    numbers = str(numbers) + rand_symbol[0]\n",
    "    if numbers[-1] == '.':\n",
    "        numbers += str(np.random.randint(low=0, high=100))\n",
    "\n",
    "    return numbers"
   ]
  },
  {
   "cell_type": "code",
   "execution_count": 394,
   "id": "f863d2f3",
   "metadata": {},
   "outputs": [],
   "source": [
    "def get_string(how_many: int, gen_words_dates_numbers: tuple = (0.6, 0.2, 0.2)):\n",
    "    strings = []\n",
    "    \n",
    "    while not len(strings) == how_many:\n",
    "        random_number = np.random.random()\n",
    "        text = None\n",
    "        if random_number < sum(gen_words_dates_numbers[:1]):\n",
    "            text = get_words()\n",
    "        elif random_number > sum(gen_words_dates_numbers[:1]) and random_number < sum(gen_words_dates_numbers[:2]):\n",
    "            text = get_date()\n",
    "        else:\n",
    "            text = numbers()\n",
    "        strings.append(text)\n",
    "        \n",
    "    return strings"
   ]
  },
  {
   "cell_type": "code",
   "execution_count": 400,
   "id": "b58a2521",
   "metadata": {},
   "outputs": [
    {
     "data": {
      "text/plain": [
       "['11.04.2001',\n",
       " 'დაარბილა? კვანძური მოისპობა პატრულირებული დრომ',\n",
       " '1025$',\n",
       " 'უპრიანია ბელგარდი',\n",
       " 'საცერები ბრილის']"
      ]
     },
     "execution_count": 400,
     "metadata": {},
     "output_type": "execute_result"
    }
   ],
   "source": [
    "get_string(5)"
   ]
  },
  {
   "cell_type": "markdown",
   "id": "65168bbb",
   "metadata": {},
   "source": [
    "# First genrate white background images"
   ]
  },
  {
   "cell_type": "code",
   "execution_count": 4,
   "id": "63d1f9d2",
   "metadata": {},
   "outputs": [
    {
     "data": {
      "text/plain": [
       "\u001b[0;31mInit signature:\u001b[0m\n",
       "\u001b[0mGeneratorFromStrings\u001b[0m\u001b[0;34m(\u001b[0m\u001b[0;34m\u001b[0m\n",
       "\u001b[0;34m\u001b[0m    \u001b[0mstrings\u001b[0m\u001b[0;34m,\u001b[0m\u001b[0;34m\u001b[0m\n",
       "\u001b[0;34m\u001b[0m    \u001b[0mcount\u001b[0m\u001b[0;34m=\u001b[0m\u001b[0;34m-\u001b[0m\u001b[0;36m1\u001b[0m\u001b[0;34m,\u001b[0m\u001b[0;34m\u001b[0m\n",
       "\u001b[0;34m\u001b[0m    \u001b[0mfonts\u001b[0m\u001b[0;34m=\u001b[0m\u001b[0;34m[\u001b[0m\u001b[0;34m]\u001b[0m\u001b[0;34m,\u001b[0m\u001b[0;34m\u001b[0m\n",
       "\u001b[0;34m\u001b[0m    \u001b[0mlanguage\u001b[0m\u001b[0;34m=\u001b[0m\u001b[0;34m'en'\u001b[0m\u001b[0;34m,\u001b[0m\u001b[0;34m\u001b[0m\n",
       "\u001b[0;34m\u001b[0m    \u001b[0msize\u001b[0m\u001b[0;34m=\u001b[0m\u001b[0;36m32\u001b[0m\u001b[0;34m,\u001b[0m\u001b[0;34m\u001b[0m\n",
       "\u001b[0;34m\u001b[0m    \u001b[0mskewing_angle\u001b[0m\u001b[0;34m=\u001b[0m\u001b[0;36m0\u001b[0m\u001b[0;34m,\u001b[0m\u001b[0;34m\u001b[0m\n",
       "\u001b[0;34m\u001b[0m    \u001b[0mrandom_skew\u001b[0m\u001b[0;34m=\u001b[0m\u001b[0;32mFalse\u001b[0m\u001b[0;34m,\u001b[0m\u001b[0;34m\u001b[0m\n",
       "\u001b[0;34m\u001b[0m    \u001b[0mblur\u001b[0m\u001b[0;34m=\u001b[0m\u001b[0;36m0\u001b[0m\u001b[0;34m,\u001b[0m\u001b[0;34m\u001b[0m\n",
       "\u001b[0;34m\u001b[0m    \u001b[0mrandom_blur\u001b[0m\u001b[0;34m=\u001b[0m\u001b[0;32mFalse\u001b[0m\u001b[0;34m,\u001b[0m\u001b[0;34m\u001b[0m\n",
       "\u001b[0;34m\u001b[0m    \u001b[0mbackground_type\u001b[0m\u001b[0;34m=\u001b[0m\u001b[0;36m0\u001b[0m\u001b[0;34m,\u001b[0m\u001b[0;34m\u001b[0m\n",
       "\u001b[0;34m\u001b[0m    \u001b[0mdistorsion_type\u001b[0m\u001b[0;34m=\u001b[0m\u001b[0;36m0\u001b[0m\u001b[0;34m,\u001b[0m\u001b[0;34m\u001b[0m\n",
       "\u001b[0;34m\u001b[0m    \u001b[0mdistorsion_orientation\u001b[0m\u001b[0;34m=\u001b[0m\u001b[0;36m0\u001b[0m\u001b[0;34m,\u001b[0m\u001b[0;34m\u001b[0m\n",
       "\u001b[0;34m\u001b[0m    \u001b[0mis_handwritten\u001b[0m\u001b[0;34m=\u001b[0m\u001b[0;32mFalse\u001b[0m\u001b[0;34m,\u001b[0m\u001b[0;34m\u001b[0m\n",
       "\u001b[0;34m\u001b[0m    \u001b[0mwidth\u001b[0m\u001b[0;34m=\u001b[0m\u001b[0;34m-\u001b[0m\u001b[0;36m1\u001b[0m\u001b[0;34m,\u001b[0m\u001b[0;34m\u001b[0m\n",
       "\u001b[0;34m\u001b[0m    \u001b[0malignment\u001b[0m\u001b[0;34m=\u001b[0m\u001b[0;36m1\u001b[0m\u001b[0;34m,\u001b[0m\u001b[0;34m\u001b[0m\n",
       "\u001b[0;34m\u001b[0m    \u001b[0mtext_color\u001b[0m\u001b[0;34m=\u001b[0m\u001b[0;34m'#282828'\u001b[0m\u001b[0;34m,\u001b[0m\u001b[0;34m\u001b[0m\n",
       "\u001b[0;34m\u001b[0m    \u001b[0morientation\u001b[0m\u001b[0;34m=\u001b[0m\u001b[0;36m0\u001b[0m\u001b[0;34m,\u001b[0m\u001b[0;34m\u001b[0m\n",
       "\u001b[0;34m\u001b[0m    \u001b[0mspace_width\u001b[0m\u001b[0;34m=\u001b[0m\u001b[0;36m1.0\u001b[0m\u001b[0;34m,\u001b[0m\u001b[0;34m\u001b[0m\n",
       "\u001b[0;34m\u001b[0m    \u001b[0mcharacter_spacing\u001b[0m\u001b[0;34m=\u001b[0m\u001b[0;36m0\u001b[0m\u001b[0;34m,\u001b[0m\u001b[0;34m\u001b[0m\n",
       "\u001b[0;34m\u001b[0m    \u001b[0mmargins\u001b[0m\u001b[0;34m=\u001b[0m\u001b[0;34m(\u001b[0m\u001b[0;36m5\u001b[0m\u001b[0;34m,\u001b[0m \u001b[0;36m5\u001b[0m\u001b[0;34m,\u001b[0m \u001b[0;36m5\u001b[0m\u001b[0;34m,\u001b[0m \u001b[0;36m5\u001b[0m\u001b[0;34m)\u001b[0m\u001b[0;34m,\u001b[0m\u001b[0;34m\u001b[0m\n",
       "\u001b[0;34m\u001b[0m    \u001b[0mfit\u001b[0m\u001b[0;34m=\u001b[0m\u001b[0;32mFalse\u001b[0m\u001b[0;34m,\u001b[0m\u001b[0;34m\u001b[0m\n",
       "\u001b[0;34m\u001b[0m    \u001b[0moutput_mask\u001b[0m\u001b[0;34m=\u001b[0m\u001b[0;32mFalse\u001b[0m\u001b[0;34m,\u001b[0m\u001b[0;34m\u001b[0m\n",
       "\u001b[0;34m\u001b[0m    \u001b[0mword_split\u001b[0m\u001b[0;34m=\u001b[0m\u001b[0;32mFalse\u001b[0m\u001b[0;34m,\u001b[0m\u001b[0;34m\u001b[0m\n",
       "\u001b[0;34m\u001b[0m    \u001b[0mimage_dir\u001b[0m\u001b[0;34m=\u001b[0m\u001b[0;34m'/home/ec2-user/SageMaker/ocr/TextRecognitionDataGenerator/trdg/generators/images'\u001b[0m\u001b[0;34m,\u001b[0m\u001b[0;34m\u001b[0m\n",
       "\u001b[0;34m\u001b[0m    \u001b[0mstroke_width\u001b[0m\u001b[0;34m=\u001b[0m\u001b[0;36m0\u001b[0m\u001b[0;34m,\u001b[0m\u001b[0;34m\u001b[0m\n",
       "\u001b[0;34m\u001b[0m    \u001b[0mstroke_fill\u001b[0m\u001b[0;34m=\u001b[0m\u001b[0;34m'#282828'\u001b[0m\u001b[0;34m,\u001b[0m\u001b[0;34m\u001b[0m\n",
       "\u001b[0;34m\u001b[0m    \u001b[0mimage_mode\u001b[0m\u001b[0;34m=\u001b[0m\u001b[0;34m'RGB'\u001b[0m\u001b[0;34m,\u001b[0m\u001b[0;34m\u001b[0m\n",
       "\u001b[0;34m\u001b[0m\u001b[0;34m)\u001b[0m\u001b[0;34m\u001b[0m\u001b[0;34m\u001b[0m\u001b[0m\n",
       "\u001b[0;31mDocstring:\u001b[0m      Generator that uses a given list of strings\n",
       "\u001b[0;31mFile:\u001b[0m           ~/SageMaker/ocr/TextRecognitionDataGenerator/trdg/generators/from_strings.py\n",
       "\u001b[0;31mType:\u001b[0m           type\n",
       "\u001b[0;31mSubclasses:\u001b[0m     \n"
      ]
     },
     "metadata": {},
     "output_type": "display_data"
    }
   ],
   "source": [
    "GeneratorFromStrings?"
   ]
  },
  {
   "cell_type": "markdown",
   "id": "57d751b6",
   "metadata": {},
   "source": [
    "train = 200000\n",
    "val = 3000\n",
    "test = 3000"
   ]
  },
  {
   "cell_type": "code",
   "execution_count": 460,
   "id": "472513f6",
   "metadata": {},
   "outputs": [],
   "source": [
    "training_strings = get_string(30_000)\n",
    "val_strings = get_string(1500)\n",
    "test_strings = get_string(1500)"
   ]
  },
  {
   "cell_type": "code",
   "execution_count": 461,
   "id": "e3806f5e",
   "metadata": {},
   "outputs": [
    {
     "data": {
      "text/plain": [
       "['./TextRecognitionDataGenerator/trdg/fonts/ka/bpg_nino_mtavruli_normal.ttf',\n",
       " './TextRecognitionDataGenerator/trdg/fonts/ka/arial_geo.ttf',\n",
       " './TextRecognitionDataGenerator/trdg/fonts/ka/bpg_glaho_sylfaen.ttf',\n",
       " './TextRecognitionDataGenerator/trdg/fonts/ka/bpg_mrgvlovani_caps_2010.ttf',\n",
       " './TextRecognitionDataGenerator/trdg/fonts/ka/bpg_nino_mtavruli_bold.ttf',\n",
       " './TextRecognitionDataGenerator/trdg/fonts/ka/bpg_glaho.ttf']"
      ]
     },
     "execution_count": 461,
     "metadata": {},
     "output_type": "execute_result"
    }
   ],
   "source": [
    "fonts_pathes = glob('./TextRecognitionDataGenerator/trdg/fonts/ka/*')\n",
    "fonts_pathes"
   ]
  },
  {
   "cell_type": "markdown",
   "id": "c5f93cb7",
   "metadata": {},
   "source": [
    "# Generate Train"
   ]
  },
  {
   "cell_type": "code",
   "execution_count": 453,
   "id": "e36fc243",
   "metadata": {},
   "outputs": [],
   "source": [
    "# The generators use the same arguments as the CLI, only as parameters\n",
    "train_generator = GeneratorFromStrings(\n",
    "    strings=training_strings,\n",
    "    fonts=fonts_pathes,\n",
    "    language='ka',\n",
    "    skewing_angle=5,\n",
    "    random_skew=True,\n",
    "    blur=1,\n",
    "    random_blur=True,\n",
    "    background_type=1,\n",
    ")"
   ]
  },
  {
   "cell_type": "code",
   "execution_count": 463,
   "id": "36b83d7d",
   "metadata": {},
   "outputs": [
    {
     "name": "stderr",
     "output_type": "stream",
     "text": [
      "31023it [30:25, 17.00it/s]\n"
     ]
    },
    {
     "ename": "KeyboardInterrupt",
     "evalue": "",
     "output_type": "error",
     "traceback": [
      "\u001b[0;31m---------------------------------------------------------------------------\u001b[0m",
      "\u001b[0;31mKeyboardInterrupt\u001b[0m                         Traceback (most recent call last)",
      "\u001b[0;32m<ipython-input-463-3591fff8ae44>\u001b[0m in \u001b[0;36m<module>\u001b[0;34m\u001b[0m\n\u001b[1;32m      3\u001b[0m \u001b[0mos\u001b[0m\u001b[0;34m.\u001b[0m\u001b[0mmakedirs\u001b[0m\u001b[0;34m(\u001b[0m\u001b[0;34m'train_white'\u001b[0m\u001b[0;34m,\u001b[0m \u001b[0mexist_ok\u001b[0m\u001b[0;34m=\u001b[0m\u001b[0;32mTrue\u001b[0m\u001b[0;34m)\u001b[0m\u001b[0;34m\u001b[0m\u001b[0;34m\u001b[0m\u001b[0m\n\u001b[1;32m      4\u001b[0m \u001b[0;34m\u001b[0m\u001b[0m\n\u001b[0;32m----> 5\u001b[0;31m \u001b[0;32mfor\u001b[0m \u001b[0mi\u001b[0m\u001b[0;34m,\u001b[0m \u001b[0;34m(\u001b[0m\u001b[0mimg\u001b[0m\u001b[0;34m,\u001b[0m \u001b[0mlbl\u001b[0m\u001b[0;34m)\u001b[0m \u001b[0;32min\u001b[0m \u001b[0mtqdm\u001b[0m\u001b[0;34m(\u001b[0m\u001b[0menumerate\u001b[0m\u001b[0;34m(\u001b[0m\u001b[0mtrain_generator\u001b[0m\u001b[0;34m)\u001b[0m\u001b[0;34m)\u001b[0m\u001b[0;34m:\u001b[0m\u001b[0;34m\u001b[0m\u001b[0;34m\u001b[0m\u001b[0m\n\u001b[0m\u001b[1;32m      6\u001b[0m     \u001b[0mimage_path\u001b[0m \u001b[0;34m=\u001b[0m \u001b[0mos\u001b[0m\u001b[0;34m.\u001b[0m\u001b[0mpath\u001b[0m\u001b[0;34m.\u001b[0m\u001b[0mjoin\u001b[0m\u001b[0;34m(\u001b[0m\u001b[0;34m'train_white'\u001b[0m\u001b[0;34m,\u001b[0m \u001b[0;34mf'{lbl}_{i}.jpg'\u001b[0m\u001b[0;34m)\u001b[0m\u001b[0;34m\u001b[0m\u001b[0;34m\u001b[0m\u001b[0m\n\u001b[1;32m      7\u001b[0m     \u001b[0mimg\u001b[0m\u001b[0;34m.\u001b[0m\u001b[0msave\u001b[0m\u001b[0;34m(\u001b[0m\u001b[0mimage_path\u001b[0m\u001b[0;34m)\u001b[0m\u001b[0;34m\u001b[0m\u001b[0;34m\u001b[0m\u001b[0m\n",
      "\u001b[0;32m~/anaconda3/envs/amazonei_pytorch_latest_p36/lib/python3.6/site-packages/tqdm/std.py\u001b[0m in \u001b[0;36m__iter__\u001b[0;34m(self)\u001b[0m\n\u001b[1;32m   1176\u001b[0m \u001b[0;34m\u001b[0m\u001b[0m\n\u001b[1;32m   1177\u001b[0m         \u001b[0;32mtry\u001b[0m\u001b[0;34m:\u001b[0m\u001b[0;34m\u001b[0m\u001b[0;34m\u001b[0m\u001b[0m\n\u001b[0;32m-> 1178\u001b[0;31m             \u001b[0;32mfor\u001b[0m \u001b[0mobj\u001b[0m \u001b[0;32min\u001b[0m \u001b[0miterable\u001b[0m\u001b[0;34m:\u001b[0m\u001b[0;34m\u001b[0m\u001b[0;34m\u001b[0m\u001b[0m\n\u001b[0m\u001b[1;32m   1179\u001b[0m                 \u001b[0;32myield\u001b[0m \u001b[0mobj\u001b[0m\u001b[0;34m\u001b[0m\u001b[0;34m\u001b[0m\u001b[0m\n\u001b[1;32m   1180\u001b[0m                 \u001b[0;31m# Update and possibly print the progressbar.\u001b[0m\u001b[0;34m\u001b[0m\u001b[0;34m\u001b[0m\u001b[0;34m\u001b[0m\u001b[0m\n",
      "\u001b[0;32m~/anaconda3/envs/amazonei_pytorch_latest_p36/lib/python3.6/site-packages/trdg/generators/from_strings.py\u001b[0m in \u001b[0;36m__next__\u001b[0;34m(self)\u001b[0m\n\u001b[1;32m     75\u001b[0m \u001b[0;34m\u001b[0m\u001b[0m\n\u001b[1;32m     76\u001b[0m     \u001b[0;32mdef\u001b[0m \u001b[0m__next__\u001b[0m\u001b[0;34m(\u001b[0m\u001b[0mself\u001b[0m\u001b[0;34m)\u001b[0m\u001b[0;34m:\u001b[0m\u001b[0;34m\u001b[0m\u001b[0;34m\u001b[0m\u001b[0m\n\u001b[0;32m---> 77\u001b[0;31m         \u001b[0;32mreturn\u001b[0m \u001b[0mself\u001b[0m\u001b[0;34m.\u001b[0m\u001b[0mnext\u001b[0m\u001b[0;34m(\u001b[0m\u001b[0;34m)\u001b[0m\u001b[0;34m\u001b[0m\u001b[0;34m\u001b[0m\u001b[0m\n\u001b[0m\u001b[1;32m     78\u001b[0m \u001b[0;34m\u001b[0m\u001b[0m\n\u001b[1;32m     79\u001b[0m     \u001b[0;32mdef\u001b[0m \u001b[0mnext\u001b[0m\u001b[0;34m(\u001b[0m\u001b[0mself\u001b[0m\u001b[0;34m)\u001b[0m\u001b[0;34m:\u001b[0m\u001b[0;34m\u001b[0m\u001b[0;34m\u001b[0m\u001b[0m\n",
      "\u001b[0;32m~/anaconda3/envs/amazonei_pytorch_latest_p36/lib/python3.6/site-packages/trdg/generators/from_strings.py\u001b[0m in \u001b[0;36mnext\u001b[0;34m(self)\u001b[0m\n\u001b[1;32m    111\u001b[0m                 \u001b[0mself\u001b[0m\u001b[0;34m.\u001b[0m\u001b[0mstroke_width\u001b[0m\u001b[0;34m,\u001b[0m\u001b[0;34m\u001b[0m\u001b[0;34m\u001b[0m\u001b[0m\n\u001b[1;32m    112\u001b[0m                 \u001b[0mself\u001b[0m\u001b[0;34m.\u001b[0m\u001b[0mstroke_fill\u001b[0m\u001b[0;34m,\u001b[0m\u001b[0;34m\u001b[0m\u001b[0;34m\u001b[0m\u001b[0m\n\u001b[0;32m--> 113\u001b[0;31m                 \u001b[0mself\u001b[0m\u001b[0;34m.\u001b[0m\u001b[0mimage_mode\u001b[0m\u001b[0;34m,\u001b[0m\u001b[0;34m\u001b[0m\u001b[0;34m\u001b[0m\u001b[0m\n\u001b[0m\u001b[1;32m    114\u001b[0m             ),\n\u001b[1;32m    115\u001b[0m             \u001b[0mself\u001b[0m\u001b[0;34m.\u001b[0m\u001b[0mstrings\u001b[0m\u001b[0;34m[\u001b[0m\u001b[0;34m(\u001b[0m\u001b[0mself\u001b[0m\u001b[0;34m.\u001b[0m\u001b[0mgenerated_count\u001b[0m \u001b[0;34m-\u001b[0m \u001b[0;36m1\u001b[0m\u001b[0;34m)\u001b[0m \u001b[0;34m%\u001b[0m \u001b[0mlen\u001b[0m\u001b[0;34m(\u001b[0m\u001b[0mself\u001b[0m\u001b[0;34m.\u001b[0m\u001b[0mstrings\u001b[0m\u001b[0;34m)\u001b[0m\u001b[0;34m]\u001b[0m\u001b[0;34m,\u001b[0m\u001b[0;34m\u001b[0m\u001b[0;34m\u001b[0m\u001b[0m\n",
      "\u001b[0;32m~/anaconda3/envs/amazonei_pytorch_latest_p36/lib/python3.6/site-packages/trdg/data_generator.py\u001b[0m in \u001b[0;36mgenerate\u001b[0;34m(cls, index, text, font, out_dir, size, extension, skewing_angle, random_skew, blur, random_blur, background_type, distorsion_type, distorsion_orientation, is_handwritten, name_format, width, alignment, text_color, orientation, space_width, character_spacing, margins, fit, output_mask, word_split, image_dir, stroke_width, stroke_fill, image_mode)\u001b[0m\n\u001b[1;32m     79\u001b[0m                 \u001b[0mword_split\u001b[0m\u001b[0;34m,\u001b[0m\u001b[0;34m\u001b[0m\u001b[0;34m\u001b[0m\u001b[0m\n\u001b[1;32m     80\u001b[0m                 \u001b[0mstroke_width\u001b[0m\u001b[0;34m,\u001b[0m\u001b[0;34m\u001b[0m\u001b[0;34m\u001b[0m\u001b[0m\n\u001b[0;32m---> 81\u001b[0;31m                 \u001b[0mstroke_fill\u001b[0m\u001b[0;34m,\u001b[0m\u001b[0;34m\u001b[0m\u001b[0;34m\u001b[0m\u001b[0m\n\u001b[0m\u001b[1;32m     82\u001b[0m             )\n\u001b[1;32m     83\u001b[0m         \u001b[0mrandom_angle\u001b[0m \u001b[0;34m=\u001b[0m \u001b[0mrnd\u001b[0m\u001b[0;34m.\u001b[0m\u001b[0mrandint\u001b[0m\u001b[0;34m(\u001b[0m\u001b[0;36m0\u001b[0m \u001b[0;34m-\u001b[0m \u001b[0mskewing_angle\u001b[0m\u001b[0;34m,\u001b[0m \u001b[0mskewing_angle\u001b[0m\u001b[0;34m)\u001b[0m\u001b[0;34m\u001b[0m\u001b[0;34m\u001b[0m\u001b[0m\n",
      "\u001b[0;32m~/anaconda3/envs/amazonei_pytorch_latest_p36/lib/python3.6/site-packages/trdg/computer_text_generator.py\u001b[0m in \u001b[0;36mgenerate\u001b[0;34m(text, font, text_color, font_size, orientation, space_width, character_spacing, fit, word_split, stroke_width, stroke_fill)\u001b[0m\n\u001b[1;32m     28\u001b[0m             \u001b[0mword_split\u001b[0m\u001b[0;34m,\u001b[0m\u001b[0;34m\u001b[0m\u001b[0;34m\u001b[0m\u001b[0m\n\u001b[1;32m     29\u001b[0m             \u001b[0mstroke_width\u001b[0m\u001b[0;34m,\u001b[0m\u001b[0;34m\u001b[0m\u001b[0;34m\u001b[0m\u001b[0m\n\u001b[0;32m---> 30\u001b[0;31m             \u001b[0mstroke_fill\u001b[0m\u001b[0;34m,\u001b[0m\u001b[0;34m\u001b[0m\u001b[0;34m\u001b[0m\u001b[0m\n\u001b[0m\u001b[1;32m     31\u001b[0m         )\n\u001b[1;32m     32\u001b[0m     \u001b[0;32melif\u001b[0m \u001b[0morientation\u001b[0m \u001b[0;34m==\u001b[0m \u001b[0;36m1\u001b[0m\u001b[0;34m:\u001b[0m\u001b[0;34m\u001b[0m\u001b[0;34m\u001b[0m\u001b[0m\n",
      "\u001b[0;32m~/anaconda3/envs/amazonei_pytorch_latest_p36/lib/python3.6/site-packages/trdg/computer_text_generator.py\u001b[0m in \u001b[0;36m_generate_horizontal_text\u001b[0;34m(text, font, text_color, font_size, space_width, character_spacing, fit, word_split, stroke_width, stroke_fill)\u001b[0m\n\u001b[1;32m     45\u001b[0m     \u001b[0mimage_font\u001b[0m \u001b[0;34m=\u001b[0m \u001b[0mImageFont\u001b[0m\u001b[0;34m.\u001b[0m\u001b[0mtruetype\u001b[0m\u001b[0;34m(\u001b[0m\u001b[0mfont\u001b[0m\u001b[0;34m=\u001b[0m\u001b[0mfont\u001b[0m\u001b[0;34m,\u001b[0m \u001b[0msize\u001b[0m\u001b[0;34m=\u001b[0m\u001b[0mfont_size\u001b[0m\u001b[0;34m)\u001b[0m\u001b[0;34m\u001b[0m\u001b[0;34m\u001b[0m\u001b[0m\n\u001b[1;32m     46\u001b[0m \u001b[0;34m\u001b[0m\u001b[0m\n\u001b[0;32m---> 47\u001b[0;31m     \u001b[0mspace_width\u001b[0m \u001b[0;34m=\u001b[0m \u001b[0mint\u001b[0m\u001b[0;34m(\u001b[0m\u001b[0mimage_font\u001b[0m\u001b[0;34m.\u001b[0m\u001b[0mgetsize\u001b[0m\u001b[0;34m(\u001b[0m\u001b[0;34m\" \"\u001b[0m\u001b[0;34m)\u001b[0m\u001b[0;34m[\u001b[0m\u001b[0;36m0\u001b[0m\u001b[0;34m]\u001b[0m \u001b[0;34m*\u001b[0m \u001b[0mspace_width\u001b[0m\u001b[0;34m)\u001b[0m\u001b[0;34m\u001b[0m\u001b[0;34m\u001b[0m\u001b[0m\n\u001b[0m\u001b[1;32m     48\u001b[0m \u001b[0;34m\u001b[0m\u001b[0m\n\u001b[1;32m     49\u001b[0m     \u001b[0;32mif\u001b[0m \u001b[0mword_split\u001b[0m\u001b[0;34m:\u001b[0m\u001b[0;34m\u001b[0m\u001b[0;34m\u001b[0m\u001b[0m\n",
      "\u001b[0;32m~/anaconda3/envs/amazonei_pytorch_latest_p36/lib/python3.6/site-packages/PIL/ImageFont.py\u001b[0m in \u001b[0;36mgetsize\u001b[0;34m(self, text, direction, features, language, stroke_width)\u001b[0m\n\u001b[1;32m    430\u001b[0m         \u001b[0;31m# vertical offset is added for historical reasons\u001b[0m\u001b[0;34m\u001b[0m\u001b[0;34m\u001b[0m\u001b[0;34m\u001b[0m\u001b[0m\n\u001b[1;32m    431\u001b[0m         \u001b[0;31m# see https://github.com/python-pillow/Pillow/pull/4910#discussion_r486682929\u001b[0m\u001b[0;34m\u001b[0m\u001b[0;34m\u001b[0m\u001b[0;34m\u001b[0m\u001b[0m\n\u001b[0;32m--> 432\u001b[0;31m         \u001b[0msize\u001b[0m\u001b[0;34m,\u001b[0m \u001b[0moffset\u001b[0m \u001b[0;34m=\u001b[0m \u001b[0mself\u001b[0m\u001b[0;34m.\u001b[0m\u001b[0mfont\u001b[0m\u001b[0;34m.\u001b[0m\u001b[0mgetsize\u001b[0m\u001b[0;34m(\u001b[0m\u001b[0mtext\u001b[0m\u001b[0;34m,\u001b[0m \u001b[0;34m\"L\"\u001b[0m\u001b[0;34m,\u001b[0m \u001b[0mdirection\u001b[0m\u001b[0;34m,\u001b[0m \u001b[0mfeatures\u001b[0m\u001b[0;34m,\u001b[0m \u001b[0mlanguage\u001b[0m\u001b[0;34m)\u001b[0m\u001b[0;34m\u001b[0m\u001b[0;34m\u001b[0m\u001b[0m\n\u001b[0m\u001b[1;32m    433\u001b[0m         return (\n\u001b[1;32m    434\u001b[0m             \u001b[0msize\u001b[0m\u001b[0;34m[\u001b[0m\u001b[0;36m0\u001b[0m\u001b[0;34m]\u001b[0m \u001b[0;34m+\u001b[0m \u001b[0mstroke_width\u001b[0m \u001b[0;34m*\u001b[0m \u001b[0;36m2\u001b[0m\u001b[0;34m,\u001b[0m\u001b[0;34m\u001b[0m\u001b[0;34m\u001b[0m\u001b[0m\n",
      "\u001b[0;31mKeyboardInterrupt\u001b[0m: "
     ]
    }
   ],
   "source": [
    "import os\n",
    "\n",
    "os.makedirs('train_white', exist_ok=True)\n",
    "\n",
    "for i, (img, lbl) in tqdm(enumerate(train_generator)):\n",
    "    image_path = os.path.join('train_white', f'{lbl}_{i}.jpg')\n",
    "    img.save(image_path)\n",
    "    \n",
    "    if i == len(training_strings):\n",
    "        break\n",
    "    "
   ]
  },
  {
   "cell_type": "markdown",
   "id": "789d4377",
   "metadata": {},
   "source": [
    "# Generate Test"
   ]
  },
  {
   "cell_type": "code",
   "execution_count": 464,
   "id": "bfc6a4ba",
   "metadata": {},
   "outputs": [],
   "source": [
    "# The generators use the same arguments as the CLI, only as parameters\n",
    "test_generator = GeneratorFromStrings(\n",
    "    strings=test_strings,\n",
    "    fonts=fonts_pathes,\n",
    "    language='ka',\n",
    "    skewing_angle=5,\n",
    "    random_skew=True,\n",
    "    blur=1,\n",
    "    random_blur=True,\n",
    "    background_type=1,\n",
    ")"
   ]
  },
  {
   "cell_type": "code",
   "execution_count": 465,
   "id": "b0c52640",
   "metadata": {},
   "outputs": [
    {
     "name": "stderr",
     "output_type": "stream",
     "text": [
      "1500it [02:22, 10.51it/s]\n"
     ]
    }
   ],
   "source": [
    "os.makedirs('test_white', exist_ok=True)\n",
    "\n",
    "for i, (img, lbl) in tqdm(enumerate(test_generator)):\n",
    "    image_path = os.path.join('test_white', f'{lbl}_{i}.jpg')\n",
    "    img.save(image_path)\n",
    "    \n",
    "    if i == len(test_strings):\n",
    "        break"
   ]
  },
  {
   "cell_type": "markdown",
   "id": "b27737e0",
   "metadata": {},
   "source": [
    "# Generate val"
   ]
  },
  {
   "cell_type": "code",
   "execution_count": 466,
   "id": "211ce66f",
   "metadata": {},
   "outputs": [],
   "source": [
    "# The generators use the same arguments as the CLI, only as parameters\n",
    "val_generator = GeneratorFromStrings(\n",
    "    strings=val_strings,\n",
    "    fonts=fonts_pathes,\n",
    "    language='ka',\n",
    "    skewing_angle=5,\n",
    "    random_skew=True,\n",
    "    blur=1,\n",
    "    random_blur=True,\n",
    "    background_type=1,\n",
    ")"
   ]
  },
  {
   "cell_type": "code",
   "execution_count": 467,
   "id": "a348196c",
   "metadata": {},
   "outputs": [
    {
     "name": "stderr",
     "output_type": "stream",
     "text": [
      "1500it [00:40, 37.03it/s]\n"
     ]
    }
   ],
   "source": [
    "os.makedirs('val_white', exist_ok=True)\n",
    "\n",
    "for i, (img, lbl) in tqdm(enumerate(val_generator)):\n",
    "    image_path = os.path.join('val_white', f'{lbl}_{i}.jpg')\n",
    "    img.save(image_path)\n",
    "    \n",
    "    if i == len(val_strings):\n",
    "        break"
   ]
  },
  {
   "cell_type": "markdown",
   "id": "1a0d0935",
   "metadata": {},
   "source": [
    "# Now generate black backgorund images"
   ]
  },
  {
   "cell_type": "code",
   "execution_count": 487,
   "id": "61687b19",
   "metadata": {},
   "outputs": [],
   "source": [
    "training_strings = get_string(30_000)\n",
    "val_strings = get_string(1500)\n",
    "test_strings = get_string(1500)"
   ]
  },
  {
   "cell_type": "markdown",
   "id": "94184216",
   "metadata": {},
   "source": [
    "### Train images"
   ]
  },
  {
   "cell_type": "code",
   "execution_count": 488,
   "id": "dc959105",
   "metadata": {},
   "outputs": [],
   "source": [
    "# The generators use the same arguments as the CLI, only as parameters\n",
    "train_generator = GeneratorFromStrings(\n",
    "    strings=training_strings,\n",
    "    fonts=fonts_pathes,\n",
    "    language='ka',\n",
    "    skewing_angle=5,\n",
    "    random_skew=True,\n",
    "    blur=1,\n",
    "    random_blur=True,\n",
    "    background_type=3,\n",
    "    text_color='#ffffff',\n",
    "    stroke_fill='#ffffff'\n",
    ")"
   ]
  },
  {
   "cell_type": "code",
   "execution_count": 493,
   "id": "b8efbfb0",
   "metadata": {},
   "outputs": [
    {
     "name": "stderr",
     "output_type": "stream",
     "text": [
      "170it [00:05, 35.05it/s]"
     ]
    },
    {
     "name": "stdout",
     "output_type": "stream",
     "text": [
      "value of mean pixel is too similar. Ignore this image\n",
      "resized_img_st \n",
      " [255.0, 255.0, 255.0, 192.83878504672896]\n",
      "background_img_st \n",
      " [70.38741134751773, 70.38741134751773, 70.38741134751773, 255.0]\n",
      "cannot save image: 163\n"
     ]
    },
    {
     "name": "stderr",
     "output_type": "stream",
     "text": [
      "261it [00:07, 33.04it/s]"
     ]
    },
    {
     "name": "stdout",
     "output_type": "stream",
     "text": [
      "value of mean pixel is too similar. Ignore this image\n",
      "resized_img_st \n",
      " [255.0, 255.0, 255.0, 210.33576642335765]\n",
      "background_img_st \n",
      " [71.74408783783784, 71.74408783783784, 71.74408783783784, 255.0]\n",
      "cannot save image: 255\n"
     ]
    },
    {
     "name": "stderr",
     "output_type": "stream",
     "text": [
      "307it [00:09, 32.21it/s]"
     ]
    },
    {
     "name": "stdout",
     "output_type": "stream",
     "text": [
      "value of mean pixel is too similar. Ignore this image\n",
      "resized_img_st \n",
      " [255.0, 255.0, 255.0, 206.93486590038313]\n",
      "background_img_st \n",
      " [76.91666666666667, 76.91666666666667, 76.91666666666667, 255.0]\n",
      "cannot save image: 301\n"
     ]
    },
    {
     "name": "stderr",
     "output_type": "stream",
     "text": [
      "320it [00:09, 31.32it/s]"
     ]
    },
    {
     "name": "stdout",
     "output_type": "stream",
     "text": [
      "value of mean pixel is too similar. Ignore this image\n",
      "resized_img_st \n",
      " [255.0, 255.0, 255.0, 206.89743589743588]\n",
      "background_img_st \n",
      " [70.44748711340206, 70.44748711340206, 70.44748711340206, 255.0]\n",
      "cannot save image: 314\n"
     ]
    },
    {
     "name": "stderr",
     "output_type": "stream",
     "text": [
      "375it [00:11, 32.00it/s]"
     ]
    },
    {
     "name": "stdout",
     "output_type": "stream",
     "text": [
      "value of mean pixel is too similar. Ignore this image\n",
      "resized_img_st \n",
      " [255.0, 255.0, 255.0, 198.33962264150944]\n",
      "background_img_st \n",
      " [71.24125, 71.24125, 71.24125, 255.0]\n",
      "cannot save image: 370\n"
     ]
    },
    {
     "name": "stderr",
     "output_type": "stream",
     "text": [
      "420it [00:12, 26.15it/s]"
     ]
    },
    {
     "name": "stdout",
     "output_type": "stream",
     "text": [
      "value of mean pixel is too similar. Ignore this image\n",
      "resized_img_st \n",
      " [255.0, 255.0, 255.0, 215.57654723127035]\n",
      "background_img_st \n",
      " [70.82390873015873, 70.82390873015873, 70.82390873015873, 255.0]\n",
      "cannot save image: 417\n"
     ]
    },
    {
     "name": "stderr",
     "output_type": "stream",
     "text": [
      "787it [00:24, 34.13it/s]"
     ]
    },
    {
     "name": "stdout",
     "output_type": "stream",
     "text": [
      "value of mean pixel is too similar. Ignore this image\n",
      "resized_img_st \n",
      " [255.0, 255.0, 255.0, 226.59595959595958]\n",
      "background_img_st \n",
      " [71.09747023809524, 71.09747023809524, 71.09747023809524, 255.0]\n",
      "cannot save image: 782\n"
     ]
    },
    {
     "name": "stderr",
     "output_type": "stream",
     "text": [
      "911it [00:28, 35.34it/s]"
     ]
    },
    {
     "name": "stdout",
     "output_type": "stream",
     "text": [
      "value of mean pixel is too similar. Ignore this image\n",
      "resized_img_st \n",
      " [254.35969868173257, 254.35969868173257, 254.35969868173257, 211.8113622096673]\n",
      "background_img_st \n",
      " [70.55281432748538, 70.55281432748538, 70.55281432748538, 255.0]\n",
      "cannot save image: 905\n"
     ]
    },
    {
     "name": "stderr",
     "output_type": "stream",
     "text": [
      "974it [00:30, 25.66it/s]"
     ]
    },
    {
     "name": "stdout",
     "output_type": "stream",
     "text": [
      "value of mean pixel is too similar. Ignore this image\n",
      "resized_img_st \n",
      " [255.0, 255.0, 255.0, 179.91338582677164]\n",
      "background_img_st \n",
      " [70.0726656626506, 70.0726656626506, 70.0726656626506, 255.0]\n",
      "cannot save image: 971\n"
     ]
    },
    {
     "name": "stderr",
     "output_type": "stream",
     "text": [
      "1072it [00:33, 37.59it/s]"
     ]
    },
    {
     "name": "stdout",
     "output_type": "stream",
     "text": [
      "value of mean pixel is too similar. Ignore this image\n",
      "resized_img_st \n",
      " [255.0, 255.0, 255.0, 215.4731543624161]\n",
      "background_img_st \n",
      " [70.47131147540983, 70.47131147540983, 70.47131147540983, 255.0]\n",
      "cannot save image: 1065\n"
     ]
    },
    {
     "name": "stderr",
     "output_type": "stream",
     "text": [
      "1101it [00:34, 31.44it/s]"
     ]
    },
    {
     "name": "stdout",
     "output_type": "stream",
     "text": [
      "value of mean pixel is too similar. Ignore this image\n",
      "resized_img_st \n",
      " [254.39858490566039, 254.39858490566039, 254.39858490566039, 198.07783018867926]\n",
      "background_img_st \n",
      " [70.24472891566265, 70.24472891566265, 70.24472891566265, 255.0]\n",
      "cannot save image: 1098\n"
     ]
    },
    {
     "name": "stderr",
     "output_type": "stream",
     "text": [
      "1184it [00:37, 34.98it/s]"
     ]
    },
    {
     "name": "stdout",
     "output_type": "stream",
     "text": [
      "value of mean pixel is too similar. Ignore this image\n",
      "resized_img_st \n",
      " [255.0, 255.0, 255.0, 216.12020460358056]\n",
      "background_img_st \n",
      " [71.06929347826087, 71.06929347826087, 71.06929347826087, 255.0]\n",
      "cannot save image: 1179\n"
     ]
    },
    {
     "name": "stderr",
     "output_type": "stream",
     "text": [
      "1198it [00:37, 25.07it/s]"
     ]
    },
    {
     "name": "stdout",
     "output_type": "stream",
     "text": [
      "value of mean pixel is too similar. Ignore this image\n",
      "resized_img_st \n",
      " [253.5801781737194, 253.5801781737194, 253.5801781737194, 183.00278396436525]\n",
      "background_img_st \n",
      " [69.32950191570882, 69.32950191570882, 69.32950191570882, 255.0]\n",
      "cannot save image: 1194\n"
     ]
    },
    {
     "name": "stderr",
     "output_type": "stream",
     "text": [
      "1251it [00:39, 28.39it/s]"
     ]
    },
    {
     "name": "stdout",
     "output_type": "stream",
     "text": [
      "value of mean pixel is too similar. Ignore this image\n",
      "resized_img_st \n",
      " [251.5520282186949, 251.5520282186949, 251.5520282186949, 175.29394473838917]\n",
      "background_img_st \n",
      " [69.84903258655804, 69.84903258655804, 69.84903258655804, 255.0]\n",
      "cannot save image: 1248\n"
     ]
    },
    {
     "name": "stderr",
     "output_type": "stream",
     "text": [
      "1275it [00:40, 30.67it/s]"
     ]
    },
    {
     "name": "stdout",
     "output_type": "stream",
     "text": [
      "value of mean pixel is too similar. Ignore this image\n",
      "resized_img_st \n",
      " [253.28859060402684, 253.28859060402684, 253.28859060402684, 215.17897091722594]\n",
      "background_img_st \n",
      " [72.42365506329114, 74.34493670886076, 71.2440664556962, 255.0]\n",
      "cannot save image: 1269\n"
     ]
    },
    {
     "name": "stderr",
     "output_type": "stream",
     "text": [
      "1523it [00:47, 35.81it/s]"
     ]
    },
    {
     "name": "stdout",
     "output_type": "stream",
     "text": [
      "value of mean pixel is too similar. Ignore this image\n",
      "resized_img_st \n",
      " [255.0, 255.0, 255.0, 189.3298969072165]\n",
      "background_img_st \n",
      " [72.73876953125, 72.73876953125, 72.73876953125, 255.0]\n",
      "cannot save image: 1517\n"
     ]
    },
    {
     "name": "stderr",
     "output_type": "stream",
     "text": [
      "1752it [00:54, 32.12it/s]"
     ]
    },
    {
     "name": "stdout",
     "output_type": "stream",
     "text": [
      "value of mean pixel is too similar. Ignore this image\n",
      "resized_img_st \n",
      " [255.0, 255.0, 255.0, 207.64327485380116]\n",
      "background_img_st \n",
      " [72.30885416666666, 72.30885416666666, 72.30885416666666, 255.0]\n",
      "cannot save image: 1748\n"
     ]
    },
    {
     "name": "stderr",
     "output_type": "stream",
     "text": [
      "1887it [01:02, 14.20it/s]"
     ]
    },
    {
     "name": "stdout",
     "output_type": "stream",
     "text": [
      "value of mean pixel is too similar. Ignore this image\n",
      "resized_img_st \n",
      " [255.0, 255.0, 255.0, 196.9923076923077]\n",
      "background_img_st \n",
      " [73.17410714285714, 73.17410714285714, 73.17410714285714, 255.0]\n",
      "cannot save image: 1883\n"
     ]
    },
    {
     "name": "stderr",
     "output_type": "stream",
     "text": [
      "1893it [01:02, 12.53it/s]"
     ]
    },
    {
     "name": "stdout",
     "output_type": "stream",
     "text": [
      "value of mean pixel is too similar. Ignore this image\n",
      "resized_img_st \n",
      " [255.0, 255.0, 255.0, 208.53145336225597]\n",
      "background_img_st \n",
      " [70.66592920353982, 70.66592920353982, 70.66592920353982, 255.0]\n",
      "cannot save image: 1890\n"
     ]
    },
    {
     "name": "stderr",
     "output_type": "stream",
     "text": [
      "1980it [01:17,  5.63it/s]"
     ]
    },
    {
     "name": "stdout",
     "output_type": "stream",
     "text": [
      "value of mean pixel is too similar. Ignore this image\n",
      "resized_img_st \n",
      " [255.0, 255.0, 255.0, 204.3779527559055]\n",
      "background_img_st \n",
      " [70.95926339285714, 72.96205357142857, 69.85267857142857, 255.0]\n",
      "cannot save image: 1978\n"
     ]
    },
    {
     "name": "stderr",
     "output_type": "stream",
     "text": [
      "2005it [01:21,  7.47it/s]"
     ]
    },
    {
     "name": "stdout",
     "output_type": "stream",
     "text": [
      "value of mean pixel is too similar. Ignore this image\n",
      "resized_img_st \n",
      " [255.0, 255.0, 255.0, 187.7037037037037]\n",
      "background_img_st \n",
      " [69.74359939759036, 71.69126506024097, 68.62914156626506, 255.0]\n",
      "cannot save image: 2003\n"
     ]
    },
    {
     "name": "stderr",
     "output_type": "stream",
     "text": [
      "2015it [01:22,  9.46it/s]"
     ]
    },
    {
     "name": "stdout",
     "output_type": "stream",
     "text": [
      "value of mean pixel is too similar. Ignore this image\n",
      "resized_img_st \n",
      " [255.0, 255.0, 255.0, 217.11699164345404]\n",
      "background_img_st \n",
      " [72.40293560606061, 72.40293560606061, 72.40293560606061, 255.0]\n",
      "cannot save image: 2013\n"
     ]
    },
    {
     "name": "stderr",
     "output_type": "stream",
     "text": [
      "2049it [01:28, 11.68it/s]"
     ]
    },
    {
     "name": "stdout",
     "output_type": "stream",
     "text": [
      "value of mean pixel is too similar. Ignore this image\n",
      "resized_img_st \n",
      " [255.0, 255.0, 255.0, 182.25099601593627]\n",
      "background_img_st \n",
      " [70.27269345238095, 72.25223214285714, 69.19308035714286, 255.0]\n",
      "cannot save image: 2045\n"
     ]
    },
    {
     "name": "stderr",
     "output_type": "stream",
     "text": [
      "2072it [01:29, 23.74it/s]"
     ]
    },
    {
     "name": "stdout",
     "output_type": "stream",
     "text": [
      "value of mean pixel is too similar. Ignore this image\n",
      "resized_img_st \n",
      " [255.0, 255.0, 255.0, 209.49583333333334]\n",
      "background_img_st \n",
      " [70.93243243243244, 72.90920608108108, 69.85092905405405, 255.0]\n",
      "cannot save image: 2066\n"
     ]
    },
    {
     "name": "stderr",
     "output_type": "stream",
     "text": [
      "2147it [01:31, 34.11it/s]"
     ]
    },
    {
     "name": "stdout",
     "output_type": "stream",
     "text": [
      "value of mean pixel is too similar. Ignore this image\n",
      "resized_img_st \n",
      " [255.0, 255.0, 255.0, 210.61777777777777]\n",
      "background_img_st \n",
      " [70.18479330708661, 72.13853346456693, 68.96924212598425, 255.0]\n",
      "cannot save image: 2144\n"
     ]
    },
    {
     "name": "stderr",
     "output_type": "stream",
     "text": [
      "2170it [01:31, 34.74it/s]"
     ]
    },
    {
     "name": "stdout",
     "output_type": "stream",
     "text": [
      "value of mean pixel is too similar. Ignore this image\n",
      "resized_img_st \n",
      " [255.0, 255.0, 255.0, 199.4014598540146]\n",
      "background_img_st \n",
      " [71.40454545454546, 71.40454545454546, 71.40454545454546, 255.0]\n",
      "cannot save image: 2167\n"
     ]
    },
    {
     "name": "stderr",
     "output_type": "stream",
     "text": [
      "2324it [01:36, 33.44it/s]"
     ]
    },
    {
     "name": "stdout",
     "output_type": "stream",
     "text": [
      "value of mean pixel is too similar. Ignore this image\n",
      "resized_img_st \n",
      " [255.0, 255.0, 255.0, 200.15652173913043]\n",
      "background_img_st \n",
      " [70.80704365079364, 70.80704365079364, 70.80704365079364, 255.0]\n",
      "cannot save image: 2320\n"
     ]
    },
    {
     "name": "stderr",
     "output_type": "stream",
     "text": [
      "2556it [01:44, 27.12it/s]"
     ]
    },
    {
     "name": "stdout",
     "output_type": "stream",
     "text": [
      "value of mean pixel is too similar. Ignore this image\n",
      "resized_img_st \n",
      " [255.0, 255.0, 255.0, 215.86654804270464]\n",
      "background_img_st \n",
      " [72.37908878504673, 72.37908878504673, 72.37908878504673, 255.0]\n",
      "cannot save image: 2553\n"
     ]
    },
    {
     "name": "stderr",
     "output_type": "stream",
     "text": [
      "2576it [01:45, 36.35it/s]"
     ]
    },
    {
     "name": "stdout",
     "output_type": "stream",
     "text": [
      "value of mean pixel is too similar. Ignore this image\n",
      "resized_img_st \n",
      " [254.28370786516854, 254.28370786516854, 254.28370786516854, 195.30898876404495]\n",
      "background_img_st \n",
      " [73.1826171875, 75.12548828125, 72.03955078125, 255.0]\n",
      "cannot save image: 2566\n"
     ]
    },
    {
     "name": "stderr",
     "output_type": "stream",
     "text": [
      "2610it [01:46, 35.16it/s]"
     ]
    },
    {
     "name": "stdout",
     "output_type": "stream",
     "text": [
      "value of mean pixel is too similar. Ignore this image\n",
      "resized_img_st \n",
      " [255.0, 255.0, 255.0, 205.38486842105263]\n",
      "background_img_st \n",
      " [70.00600961538461, 70.00600961538461, 70.00600961538461, 255.0]\n",
      "cannot save image: 2605\n"
     ]
    },
    {
     "name": "stderr",
     "output_type": "stream",
     "text": [
      "2660it [01:48, 31.40it/s]"
     ]
    },
    {
     "name": "stdout",
     "output_type": "stream",
     "text": [
      "value of mean pixel is too similar. Ignore this image\n",
      "resized_img_st \n",
      " [254.3013698630137, 254.3013698630137, 254.3013698630137, 192.0849315068493]\n",
      "background_img_st \n",
      " [70.53536184210526, 70.53536184210526, 70.53536184210526, 255.0]\n",
      "cannot save image: 2656\n"
     ]
    },
    {
     "name": "stderr",
     "output_type": "stream",
     "text": [
      "2707it [01:49, 29.51it/s]"
     ]
    },
    {
     "name": "stdout",
     "output_type": "stream",
     "text": [
      "value of mean pixel is too similar. Ignore this image\n",
      "resized_img_st \n",
      " [255.0, 255.0, 255.0, 182.22392638036808]\n",
      "background_img_st \n",
      " [71.04953457446808, 71.04953457446808, 71.04953457446808, 255.0]\n",
      "cannot save image: 2705\n"
     ]
    },
    {
     "name": "stderr",
     "output_type": "stream",
     "text": [
      "2765it [01:51, 39.40it/s]"
     ]
    },
    {
     "name": "stdout",
     "output_type": "stream",
     "text": [
      "value of mean pixel is too similar. Ignore this image\n",
      "resized_img_st \n",
      " [253.49112426035504, 253.49112426035504, 253.49112426035504, 189.3284023668639]\n",
      "background_img_st \n",
      " [69.91044776119404, 69.91044776119404, 69.91044776119404, 255.0]\n",
      "cannot save image: 2758\n"
     ]
    },
    {
     "name": "stderr",
     "output_type": "stream",
     "text": [
      "2809it [01:52, 37.02it/s]"
     ]
    },
    {
     "name": "stdout",
     "output_type": "stream",
     "text": [
      "value of mean pixel is too similar. Ignore this image\n",
      "resized_img_st \n",
      " [255.0, 255.0, 255.0, 212.59016393442624]\n",
      "background_img_st \n",
      " [72.48206521739131, 72.48206521739131, 72.48206521739131, 255.0]\n",
      "cannot save image: 2804\n",
      "value of mean pixel is too similar. Ignore this image\n",
      "resized_img_st \n",
      " [255.0, 255.0, 255.0, 213.63492063492063]\n",
      "background_img_st \n",
      " [71.45381944444445, 71.45381944444445, 71.45381944444445, 255.0]\n",
      "cannot save image: 2805\n"
     ]
    },
    {
     "name": "stderr",
     "output_type": "stream",
     "text": [
      "2892it [01:55, 36.17it/s]"
     ]
    },
    {
     "name": "stdout",
     "output_type": "stream",
     "text": [
      "value of mean pixel is too similar. Ignore this image\n",
      "resized_img_st \n",
      " [255.0, 255.0, 255.0, 214.46174863387978]\n",
      "background_img_st \n",
      " [71.59782608695652, 71.59782608695652, 71.59782608695652, 255.0]\n",
      "cannot save image: 2888\n"
     ]
    },
    {
     "name": "stderr",
     "output_type": "stream",
     "text": [
      "3006it [01:58, 29.53it/s]"
     ]
    },
    {
     "name": "stdout",
     "output_type": "stream",
     "text": [
      "value of mean pixel is too similar. Ignore this image\n",
      "resized_img_st \n",
      " [255.0, 255.0, 255.0, 205.85263157894738]\n",
      "background_img_st \n",
      " [73.87780448717949, 73.87780448717949, 73.87780448717949, 255.0]\n",
      "cannot save image: 3002\n"
     ]
    },
    {
     "name": "stderr",
     "output_type": "stream",
     "text": [
      "3109it [02:02, 35.54it/s]"
     ]
    },
    {
     "name": "stdout",
     "output_type": "stream",
     "text": [
      "value of mean pixel is too similar. Ignore this image\n",
      "resized_img_st \n",
      " [255.0, 255.0, 255.0, 203.09213483146067]\n",
      "background_img_st \n",
      " [72.26662844036697, 72.26662844036697, 72.26662844036697, 255.0]\n",
      "cannot save image: 3101\n"
     ]
    },
    {
     "name": "stderr",
     "output_type": "stream",
     "text": [
      "3123it [02:02, 39.69it/s]"
     ]
    },
    {
     "name": "stdout",
     "output_type": "stream",
     "text": [
      "value of mean pixel is too similar. Ignore this image\n",
      "resized_img_st \n",
      " [255.0, 255.0, 255.0, 189.52811735941322]\n",
      "background_img_st \n",
      " [71.24566831683168, 71.24566831683168, 71.24566831683168, 255.0]\n",
      "cannot save image: 3119\n"
     ]
    },
    {
     "name": "stderr",
     "output_type": "stream",
     "text": [
      "3485it [02:15, 39.60it/s]"
     ]
    },
    {
     "name": "stdout",
     "output_type": "stream",
     "text": [
      "value of mean pixel is too similar. Ignore this image\n",
      "resized_img_st \n",
      " [255.0, 255.0, 255.0, 211.0]\n",
      "background_img_st \n",
      " [70.26988636363636, 70.26988636363636, 70.26988636363636, 255.0]\n",
      "cannot save image: 3476\n"
     ]
    },
    {
     "name": "stderr",
     "output_type": "stream",
     "text": [
      "3546it [02:17, 34.19it/s]"
     ]
    },
    {
     "name": "stdout",
     "output_type": "stream",
     "text": [
      "value of mean pixel is too similar. Ignore this image\n",
      "resized_img_st \n",
      " [255.0, 255.0, 255.0, 203.99203187250995]\n",
      "background_img_st \n",
      " [70.13873106060606, 70.13873106060606, 70.13873106060606, 255.0]\n",
      "cannot save image: 3541\n"
     ]
    },
    {
     "name": "stderr",
     "output_type": "stream",
     "text": [
      "3590it [02:18, 37.52it/s]"
     ]
    },
    {
     "name": "stdout",
     "output_type": "stream",
     "text": [
      "value of mean pixel is too similar. Ignore this image\n",
      "resized_img_st \n",
      " [255.0, 255.0, 255.0, 211.02678571428572]\n",
      "background_img_st \n",
      " [76.86160714285714, 76.86160714285714, 76.86160714285714, 255.0]\n",
      "cannot save image: 3584\n"
     ]
    },
    {
     "name": "stderr",
     "output_type": "stream",
     "text": [
      "3628it [02:19, 38.47it/s]"
     ]
    },
    {
     "name": "stdout",
     "output_type": "stream",
     "text": [
      "value of mean pixel is too similar. Ignore this image\n",
      "resized_img_st \n",
      " [255.0, 255.0, 255.0, 195.6341463414634]\n",
      "background_img_st \n",
      " [72.7, 74.7, 71.564375, 255.0]\n",
      "cannot save image: 3623\n"
     ]
    },
    {
     "name": "stderr",
     "output_type": "stream",
     "text": [
      "3648it [02:20, 31.00it/s]"
     ]
    },
    {
     "name": "stdout",
     "output_type": "stream",
     "text": [
      "value of mean pixel is too similar. Ignore this image\n",
      "resized_img_st \n",
      " [255.0, 255.0, 255.0, 213.61772853185596]\n",
      "background_img_st \n",
      " [71.5323153409091, 71.5323153409091, 71.5323153409091, 255.0]\n",
      "cannot save image: 3645\n",
      "value of mean pixel is too similar. Ignore this image\n",
      "resized_img_st \n",
      " [255.0, 255.0, 255.0, 215.52768729641693]\n",
      "background_img_st \n",
      " [76.73325892857143, 78.64955357142857, 75.47935267857143, 255.0]\n",
      "cannot save image: 3651\n"
     ]
    },
    {
     "name": "stderr",
     "output_type": "stream",
     "text": [
      "3691it [02:21, 30.58it/s]"
     ]
    },
    {
     "name": "stdout",
     "output_type": "stream",
     "text": [
      "value of mean pixel is too similar. Ignore this image\n",
      "resized_img_st \n",
      " [254.103690685413, 254.103690685413, 254.103690685413, 195.96133567662565]\n",
      "background_img_st \n",
      " [70.85604508196721, 72.83401639344262, 69.68288934426229, 255.0]\n",
      "cannot save image: 3688\n"
     ]
    },
    {
     "name": "stderr",
     "output_type": "stream",
     "text": [
      "3779it [02:24, 33.11it/s]"
     ]
    },
    {
     "name": "stdout",
     "output_type": "stream",
     "text": [
      "value of mean pixel is too similar. Ignore this image\n",
      "resized_img_st \n",
      " [255.0, 255.0, 255.0, 204.78451178451178]\n",
      "background_img_st \n",
      " [71.21710526315789, 73.21710526315789, 70.0357730263158, 255.0]\n",
      "cannot save image: 3775\n"
     ]
    },
    {
     "name": "stderr",
     "output_type": "stream",
     "text": [
      "3892it [02:27, 36.32it/s]"
     ]
    },
    {
     "name": "stdout",
     "output_type": "stream",
     "text": [
      "value of mean pixel is too similar. Ignore this image\n",
      "resized_img_st \n",
      " [255.0, 255.0, 255.0, 221.7783251231527]\n",
      "background_img_st \n",
      " [72.25875, 74.224375, 71.188125, 255.0]\n",
      "cannot save image: 3885\n"
     ]
    },
    {
     "name": "stderr",
     "output_type": "stream",
     "text": [
      "4118it [02:34, 38.92it/s]"
     ]
    },
    {
     "name": "stdout",
     "output_type": "stream",
     "text": [
      "value of mean pixel is too similar. Ignore this image\n",
      "resized_img_st \n",
      " [255.0, 255.0, 255.0, 205.74131274131275]\n",
      "background_img_st \n",
      " [77.50885416666667, 79.403125, 76.11822916666667, 255.0]\n",
      "cannot save image: 4110\n"
     ]
    },
    {
     "name": "stderr",
     "output_type": "stream",
     "text": [
      "4137it [02:34, 39.26it/s]"
     ]
    },
    {
     "name": "stdout",
     "output_type": "stream",
     "text": [
      "value of mean pixel is too similar. Ignore this image\n",
      "resized_img_st \n",
      " [255.0, 255.0, 255.0, 191.6987951807229]\n",
      "background_img_st \n",
      " [70.91116071428571, 70.91116071428571, 70.91116071428571, 255.0]\n",
      "cannot save image: 4133\n"
     ]
    },
    {
     "name": "stderr",
     "output_type": "stream",
     "text": [
      "4233it [02:38, 39.98it/s]"
     ]
    },
    {
     "name": "stdout",
     "output_type": "stream",
     "text": [
      "value of mean pixel is too similar. Ignore this image\n",
      "resized_img_st \n",
      " [255.0, 255.0, 255.0, 196.1831831831832]\n",
      "background_img_st \n",
      " [70.2060546875, 70.2060546875, 70.2060546875, 255.0]\n",
      "cannot save image: 4223\n"
     ]
    },
    {
     "name": "stderr",
     "output_type": "stream",
     "text": [
      "4414it [02:43, 34.84it/s]"
     ]
    },
    {
     "name": "stdout",
     "output_type": "stream",
     "text": [
      "value of mean pixel is too similar. Ignore this image\n",
      "resized_img_st \n",
      " [255.0, 255.0, 255.0, 208.72937293729373]\n",
      "background_img_st \n",
      " [71.37348790322581, 71.37348790322581, 71.37348790322581, 255.0]\n",
      "cannot save image: 4410\n"
     ]
    },
    {
     "name": "stderr",
     "output_type": "stream",
     "text": [
      "4470it [02:45, 30.82it/s]"
     ]
    },
    {
     "name": "stdout",
     "output_type": "stream",
     "text": [
      "value of mean pixel is too similar. Ignore this image\n",
      "resized_img_st \n",
      " [255.0, 255.0, 255.0, 208.4349593495935]\n",
      "background_img_st \n",
      " [70.95521907216495, 70.95521907216495, 70.95521907216495, 255.0]\n",
      "cannot save image: 4466\n"
     ]
    },
    {
     "name": "stderr",
     "output_type": "stream",
     "text": [
      "4660it [03:02, 12.34it/s]"
     ]
    },
    {
     "name": "stdout",
     "output_type": "stream",
     "text": [
      "value of mean pixel is too similar. Ignore this image\n",
      "resized_img_st \n",
      " [255.0, 255.0, 255.0, 220.23611111111111]\n",
      "background_img_st \n",
      " [70.13599537037037, 70.13599537037037, 70.13599537037037, 255.0]\n",
      "cannot save image: 4659\n"
     ]
    },
    {
     "name": "stderr",
     "output_type": "stream",
     "text": [
      "4695it [03:06, 12.73it/s]"
     ]
    },
    {
     "name": "stdout",
     "output_type": "stream",
     "text": [
      "value of mean pixel is too similar. Ignore this image\n",
      "resized_img_st \n",
      " [253.48214285714286, 253.48214285714286, 253.48214285714286, 190.08630952380952]\n",
      "background_img_st \n",
      " [71.61458333333333, 73.61458333333333, 70.50452898550725, 255.0]\n",
      "cannot save image: 4691\n"
     ]
    },
    {
     "name": "stderr",
     "output_type": "stream",
     "text": [
      "4746it [03:10, 11.19it/s]"
     ]
    },
    {
     "name": "stdout",
     "output_type": "stream",
     "text": [
      "value of mean pixel is too similar. Ignore this image\n",
      "resized_img_st \n",
      " [255.0, 255.0, 255.0, 219.58630952380952]\n",
      "background_img_st \n",
      " [72.77734375, 72.77734375, 72.77734375, 255.0]\n",
      "cannot save image: 4743\n"
     ]
    },
    {
     "name": "stderr",
     "output_type": "stream",
     "text": [
      "4848it [03:21, 10.10it/s]"
     ]
    },
    {
     "name": "stdout",
     "output_type": "stream",
     "text": [
      "value of mean pixel is too similar. Ignore this image\n",
      "resized_img_st \n",
      " [255.0, 255.0, 255.0, 214.6095238095238]\n",
      "background_img_st \n",
      " [70.54660087719299, 70.54660087719299, 70.54660087719299, 255.0]\n",
      "cannot save image: 4845\n"
     ]
    },
    {
     "name": "stderr",
     "output_type": "stream",
     "text": [
      "4950it [03:31, 10.83it/s]"
     ]
    },
    {
     "name": "stdout",
     "output_type": "stream",
     "text": [
      "value of mean pixel is too similar. Ignore this image\n",
      "resized_img_st \n",
      " [255.0, 255.0, 255.0, 182.53745928338762]\n",
      "background_img_st \n",
      " [74.86588541666667, 74.86588541666667, 74.86588541666667, 255.0]\n",
      "cannot save image: 4949\n"
     ]
    },
    {
     "name": "stderr",
     "output_type": "stream",
     "text": [
      "5041it [03:43,  6.97it/s]"
     ]
    },
    {
     "name": "stdout",
     "output_type": "stream",
     "text": [
      "value of mean pixel is too similar. Ignore this image\n",
      "resized_img_st \n",
      " [255.0, 255.0, 255.0, 184.81923076923076]\n",
      "background_img_st \n",
      " [70.07626488095238, 70.07626488095238, 70.07626488095238, 255.0]\n",
      "cannot save image: 5039\n"
     ]
    },
    {
     "name": "stderr",
     "output_type": "stream",
     "text": [
      "5367it [04:26,  9.58it/s]"
     ]
    },
    {
     "name": "stdout",
     "output_type": "stream",
     "text": [
      "value of mean pixel is too similar. Ignore this image\n",
      "resized_img_st \n",
      " [255.0, 255.0, 255.0, 212.72373540856032]\n",
      "background_img_st \n",
      " [71.42332848837209, 71.42332848837209, 71.42332848837209, 255.0]\n",
      "cannot save image: 5366\n"
     ]
    },
    {
     "name": "stderr",
     "output_type": "stream",
     "text": [
      "5444it [04:34, 12.99it/s]"
     ]
    },
    {
     "name": "stdout",
     "output_type": "stream",
     "text": [
      "value of mean pixel is too similar. Ignore this image\n",
      "resized_img_st \n",
      " [255.0, 255.0, 255.0, 206.9936305732484]\n",
      "background_img_st \n",
      " [72.35190217391305, 72.35190217391305, 72.35190217391305, 255.0]\n",
      "cannot save image: 5442\n"
     ]
    },
    {
     "name": "stderr",
     "output_type": "stream",
     "text": [
      "5498it [04:39, 10.00it/s]"
     ]
    },
    {
     "name": "stdout",
     "output_type": "stream",
     "text": [
      "value of mean pixel is too similar. Ignore this image\n",
      "resized_img_st \n",
      " [255.0, 255.0, 255.0, 204.94244604316546]\n",
      "background_img_st \n",
      " [73.03298611111111, 74.95173611111112, 71.815625, 255.0]\n",
      "cannot save image: 5496\n"
     ]
    },
    {
     "name": "stderr",
     "output_type": "stream",
     "text": [
      "5524it [04:42, 11.08it/s]"
     ]
    },
    {
     "name": "stdout",
     "output_type": "stream",
     "text": [
      "value of mean pixel is too similar. Ignore this image\n",
      "resized_img_st \n",
      " [255.0, 255.0, 255.0, 218.87982832618025]\n",
      "background_img_st \n",
      " [73.56369047619047, 73.56369047619047, 73.56369047619047, 255.0]\n",
      "cannot save image: 5522\n"
     ]
    },
    {
     "name": "stderr",
     "output_type": "stream",
     "text": [
      "5871it [05:27,  8.74it/s]"
     ]
    },
    {
     "name": "stdout",
     "output_type": "stream",
     "text": [
      "value of mean pixel is too similar. Ignore this image\n",
      "resized_img_st \n",
      " [255.0, 255.0, 255.0, 145.26909090909092]\n",
      "background_img_st \n",
      " [70.04806385869566, 70.04908288043478, 70.04483695652173, 255.0]\n",
      "cannot save image: 5870\n"
     ]
    },
    {
     "name": "stderr",
     "output_type": "stream",
     "text": [
      "5929it [05:33, 12.50it/s]"
     ]
    },
    {
     "name": "stdout",
     "output_type": "stream",
     "text": [
      "value of mean pixel is too similar. Ignore this image\n",
      "resized_img_st \n",
      " [255.0, 255.0, 255.0, 191.09150326797385]\n",
      "background_img_st \n",
      " [71.57552083333333, 71.57552083333333, 71.57552083333333, 255.0]\n",
      "cannot save image: 5927\n"
     ]
    },
    {
     "name": "stderr",
     "output_type": "stream",
     "text": [
      "6029it [05:44,  7.62it/s]"
     ]
    },
    {
     "name": "stdout",
     "output_type": "stream",
     "text": [
      "value of mean pixel is too similar. Ignore this image\n",
      "resized_img_st \n",
      " [255.0, 255.0, 255.0, 216.95731707317074]\n",
      "background_img_st \n",
      " [72.18359375, 74.18115234375, 71.0439453125, 255.0]\n",
      "cannot save image: 6027\n"
     ]
    },
    {
     "name": "stderr",
     "output_type": "stream",
     "text": [
      "6259it [06:06, 10.74it/s]"
     ]
    },
    {
     "name": "stdout",
     "output_type": "stream",
     "text": [
      "value of mean pixel is too similar. Ignore this image\n",
      "resized_img_st \n",
      " [255.0, 255.0, 255.0, 195.7172131147541]\n",
      "background_img_st \n",
      " [74.60461956521739, 76.59103260869566, 73.3600543478261, 255.0]\n",
      "cannot save image: 6256\n"
     ]
    },
    {
     "name": "stderr",
     "output_type": "stream",
     "text": [
      "6419it [06:22, 10.13it/s]"
     ]
    },
    {
     "name": "stdout",
     "output_type": "stream",
     "text": [
      "value of mean pixel is too similar. Ignore this image\n",
      "resized_img_st \n",
      " [255.0, 255.0, 255.0, 179.6]\n",
      "background_img_st \n",
      " [70.45321428571428, 70.45321428571428, 70.45321428571428, 255.0]\n",
      "cannot save image: 6417\n"
     ]
    },
    {
     "name": "stderr",
     "output_type": "stream",
     "text": [
      "6504it [06:28, 38.07it/s]"
     ]
    },
    {
     "name": "stdout",
     "output_type": "stream",
     "text": [
      "value of mean pixel is too similar. Ignore this image\n",
      "resized_img_st \n",
      " [255.0, 255.0, 255.0, 211.06007751937983]\n",
      "background_img_st \n",
      " [70.14199029126213, 70.14199029126213, 70.14199029126213, 255.0]\n",
      "cannot save image: 6501\n"
     ]
    },
    {
     "name": "stderr",
     "output_type": "stream",
     "text": [
      "6596it [06:31, 36.80it/s]"
     ]
    },
    {
     "name": "stdout",
     "output_type": "stream",
     "text": [
      "value of mean pixel is too similar. Ignore this image\n",
      "resized_img_st \n",
      " [255.0, 255.0, 255.0, 193.37623762376236]\n",
      "background_img_st \n",
      " [71.14031862745098, 71.14031862745098, 71.14031862745098, 255.0]\n",
      "cannot save image: 6593\n"
     ]
    },
    {
     "name": "stderr",
     "output_type": "stream",
     "text": [
      "6630it [06:32, 32.72it/s]"
     ]
    },
    {
     "name": "stdout",
     "output_type": "stream",
     "text": [
      "value of mean pixel is too similar. Ignore this image\n",
      "resized_img_st \n",
      " [255.0, 255.0, 255.0, 213.84545454545454]\n",
      "background_img_st \n",
      " [75.5752840909091, 75.5752840909091, 75.5752840909091, 255.0]\n",
      "cannot save image: 6627\n"
     ]
    },
    {
     "name": "stderr",
     "output_type": "stream",
     "text": [
      "6649it [06:33, 28.73it/s]"
     ]
    },
    {
     "name": "stdout",
     "output_type": "stream",
     "text": [
      "value of mean pixel is too similar. Ignore this image\n",
      "resized_img_st \n",
      " [255.0, 255.0, 255.0, 195.765625]\n",
      "background_img_st \n",
      " [72.39936440677967, 74.39936440677967, 71.24947033898304, 255.0]\n",
      "cannot save image: 6642\n"
     ]
    },
    {
     "name": "stderr",
     "output_type": "stream",
     "text": [
      "6901it [06:41, 31.67it/s]"
     ]
    },
    {
     "name": "stdout",
     "output_type": "stream",
     "text": [
      "value of mean pixel is too similar. Ignore this image\n",
      "resized_img_st \n",
      " [254.2755681818182, 254.2755681818182, 254.2755681818182, 201.35511363636363]\n",
      "background_img_st \n",
      " [69.73914930555556, 69.73914930555556, 69.73914930555556, 255.0]\n",
      "cannot save image: 6895\n"
     ]
    },
    {
     "name": "stderr",
     "output_type": "stream",
     "text": [
      "7034it [06:45, 32.08it/s]"
     ]
    },
    {
     "name": "stdout",
     "output_type": "stream",
     "text": [
      "value of mean pixel is too similar. Ignore this image\n",
      "resized_img_st \n",
      " [255.0, 255.0, 255.0, 200.6225806451613]\n",
      "background_img_st \n",
      " [73.359375, 75.35984848484848, 72.15672348484848, 255.0]\n",
      "cannot save image: 7032\n"
     ]
    },
    {
     "name": "stderr",
     "output_type": "stream",
     "text": [
      "7524it [06:59, 42.10it/s]"
     ]
    },
    {
     "name": "stdout",
     "output_type": "stream",
     "text": [
      "value of mean pixel is too similar. Ignore this image\n",
      "resized_img_st \n",
      " [255.0, 255.0, 255.0, 213.66567164179105]\n",
      "background_img_st \n",
      " [75.43031609195403, 77.36135057471265, 74.08369252873563, 255.0]\n",
      "cannot save image: 7521\n"
     ]
    },
    {
     "name": "stderr",
     "output_type": "stream",
     "text": [
      "7535it [07:00, 36.44it/s]"
     ]
    },
    {
     "name": "stdout",
     "output_type": "stream",
     "text": [
      "value of mean pixel is too similar. Ignore this image\n",
      "resized_img_st \n",
      " [255.0, 255.0, 255.0, 223.34360554699538]\n",
      "background_img_st \n",
      " [71.84260110294117, 71.84260110294117, 71.84260110294117, 255.0]\n",
      "cannot save image: 7531\n"
     ]
    },
    {
     "name": "stderr",
     "output_type": "stream",
     "text": [
      "7599it [07:02, 28.24it/s]"
     ]
    },
    {
     "name": "stdout",
     "output_type": "stream",
     "text": [
      "value of mean pixel is too similar. Ignore this image\n",
      "resized_img_st \n",
      " [255.0, 255.0, 255.0, 198.46846846846847]\n",
      "background_img_st \n",
      " [72.32428278688525, 72.32428278688525, 72.32428278688525, 255.0]\n",
      "cannot save image: 7596\n"
     ]
    },
    {
     "name": "stderr",
     "output_type": "stream",
     "text": [
      "7608it [07:02, 30.59it/s]"
     ]
    },
    {
     "name": "stdout",
     "output_type": "stream",
     "text": [
      "value of mean pixel is too similar. Ignore this image\n",
      "resized_img_st \n",
      " [255.0, 255.0, 255.0, 220.55270229919378]\n",
      "background_img_st \n",
      " [70.50862068965517, 70.50862068965517, 70.50862068965517, 255.0]\n",
      "cannot save image: 7604\n"
     ]
    },
    {
     "name": "stderr",
     "output_type": "stream",
     "text": [
      "7853it [07:10, 29.07it/s]"
     ]
    },
    {
     "name": "stdout",
     "output_type": "stream",
     "text": [
      "value of mean pixel is too similar. Ignore this image\n",
      "resized_img_st \n",
      " [255.0, 255.0, 255.0, 212.95294117647057]\n",
      "background_img_st \n",
      " [72.34241071428572, 72.34241071428572, 72.34241071428572, 255.0]\n",
      "cannot save image: 7849\n"
     ]
    },
    {
     "name": "stderr",
     "output_type": "stream",
     "text": [
      "7878it [07:11, 33.69it/s]"
     ]
    },
    {
     "name": "stdout",
     "output_type": "stream",
     "text": [
      "value of mean pixel is too similar. Ignore this image\n",
      "resized_img_st \n",
      " [255.0, 255.0, 255.0, 190.14349775784754]\n",
      "background_img_st \n",
      " [74.73828125, 74.73828125, 74.73828125, 255.0]\n",
      "cannot save image: 7871\n",
      "value of mean pixel is too similar. Ignore this image\n",
      "resized_img_st \n",
      " [255.0, 255.0, 255.0, 204.17341040462426]\n",
      "background_img_st \n",
      " [71.0640625, 71.0640625, 71.0640625, 255.0]\n",
      "cannot save image: 7872\n"
     ]
    },
    {
     "name": "stderr",
     "output_type": "stream",
     "text": [
      "8104it [07:18, 28.61it/s]"
     ]
    },
    {
     "name": "stdout",
     "output_type": "stream",
     "text": [
      "value of mean pixel is too similar. Ignore this image\n",
      "resized_img_st \n",
      " [255.0, 255.0, 255.0, 184.52747252747253]\n",
      "background_img_st \n",
      " [70.24347527472527, 72.24381868131869, 69.02163461538461, 255.0]\n",
      "cannot save image: 8099\n"
     ]
    },
    {
     "name": "stderr",
     "output_type": "stream",
     "text": [
      "8190it [07:21, 33.10it/s]"
     ]
    },
    {
     "name": "stdout",
     "output_type": "stream",
     "text": [
      "value of mean pixel is too similar. Ignore this image\n",
      "resized_img_st \n",
      " [255.0, 255.0, 255.0, 203.3170731707317]\n",
      "background_img_st \n",
      " [75.93397177419355, 75.93397177419355, 75.93397177419355, 255.0]\n",
      "cannot save image: 8188\n"
     ]
    },
    {
     "name": "stderr",
     "output_type": "stream",
     "text": [
      "8284it [07:24, 28.83it/s]"
     ]
    },
    {
     "name": "stdout",
     "output_type": "stream",
     "text": [
      "value of mean pixel is too similar. Ignore this image\n",
      "resized_img_st \n",
      " [255.0, 255.0, 255.0, 193.73809523809524]\n",
      "background_img_st \n",
      " [72.55208333333333, 72.55208333333333, 72.55208333333333, 255.0]\n",
      "cannot save image: 8281\n"
     ]
    },
    {
     "name": "stderr",
     "output_type": "stream",
     "text": [
      "8374it [07:27, 35.78it/s]"
     ]
    },
    {
     "name": "stdout",
     "output_type": "stream",
     "text": [
      "value of mean pixel is too similar. Ignore this image\n",
      "resized_img_st \n",
      " [255.0, 255.0, 255.0, 200.9271844660194]\n",
      "background_img_st \n",
      " [75.03637295081967, 75.03637295081967, 75.03637295081967, 255.0]\n",
      "cannot save image: 8364\n"
     ]
    },
    {
     "name": "stderr",
     "output_type": "stream",
     "text": [
      "8493it [07:31, 36.25it/s]"
     ]
    },
    {
     "name": "stdout",
     "output_type": "stream",
     "text": [
      "value of mean pixel is too similar. Ignore this image\n",
      "resized_img_st \n",
      " [254.03041825095056, 254.03041825095056, 254.03041825095056, 197.58174904942965]\n",
      "background_img_st \n",
      " [69.73214285714286, 69.73214285714286, 69.73214285714286, 255.0]\n",
      "cannot save image: 8488\n"
     ]
    },
    {
     "name": "stderr",
     "output_type": "stream",
     "text": [
      "8567it [07:33, 25.63it/s]"
     ]
    },
    {
     "name": "stdout",
     "output_type": "stream",
     "text": [
      "value of mean pixel is too similar. Ignore this image\n",
      "resized_img_st \n",
      " [255.0, 255.0, 255.0, 157.96464646464648]\n",
      "background_img_st \n",
      " [70.47426470588235, 70.47426470588235, 70.47426470588235, 255.0]\n",
      "cannot save image: 8562\n"
     ]
    },
    {
     "name": "stderr",
     "output_type": "stream",
     "text": [
      "8646it [07:36, 33.07it/s]"
     ]
    },
    {
     "name": "stdout",
     "output_type": "stream",
     "text": [
      "value of mean pixel is too similar. Ignore this image\n",
      "resized_img_st \n",
      " [255.0, 255.0, 255.0, 208.15322580645162]\n",
      "background_img_st \n",
      " [72.209375, 72.209375, 72.209375, 255.0]\n",
      "cannot save image: 8640\n"
     ]
    },
    {
     "name": "stderr",
     "output_type": "stream",
     "text": [
      "8654it [07:37, 31.89it/s]"
     ]
    },
    {
     "name": "stdout",
     "output_type": "stream",
     "text": [
      "value of mean pixel is too similar. Ignore this image\n",
      "resized_img_st \n",
      " [254.0590405904059, 254.0590405904059, 254.0590405904059, 202.39114391143912]\n",
      "background_img_st \n",
      " [75.99635416666666, 75.99635416666666, 75.99635416666666, 255.0]\n",
      "cannot save image: 8650\n"
     ]
    },
    {
     "name": "stderr",
     "output_type": "stream",
     "text": [
      "8824it [08:04, 10.01it/s]"
     ]
    },
    {
     "name": "stdout",
     "output_type": "stream",
     "text": [
      "value of mean pixel is too similar. Ignore this image\n",
      "resized_img_st \n",
      " [255.0, 255.0, 255.0, 212.33738601823708]\n",
      "background_img_st \n",
      " [71.46473214285714, 71.46473214285714, 71.46473214285714, 255.0]\n",
      "cannot save image: 8823\n"
     ]
    },
    {
     "name": "stderr",
     "output_type": "stream",
     "text": [
      "8934it [08:24,  3.86it/s]"
     ]
    },
    {
     "name": "stdout",
     "output_type": "stream",
     "text": [
      "value of mean pixel is too similar. Ignore this image\n",
      "resized_img_st \n",
      " [255.0, 255.0, 255.0, 211.95035460992906]\n",
      "background_img_st \n",
      " [75.17796610169492, 75.17796610169492, 75.17796610169492, 255.0]\n",
      "cannot save image: 8934\n"
     ]
    },
    {
     "name": "stderr",
     "output_type": "stream",
     "text": [
      "9022it [08:42,  5.72it/s]"
     ]
    },
    {
     "name": "stdout",
     "output_type": "stream",
     "text": [
      "value of mean pixel is too similar. Ignore this image\n",
      "resized_img_st \n",
      " [252.85714285714286, 252.85714285714286, 252.85714285714286, 210.8781512605042]\n",
      "background_img_st \n",
      " [74.91065705128206, 74.91065705128206, 74.91065705128206, 255.0]\n",
      "cannot save image: 9021\n"
     ]
    },
    {
     "name": "stderr",
     "output_type": "stream",
     "text": [
      "9256it [09:15, 10.65it/s]"
     ]
    },
    {
     "name": "stdout",
     "output_type": "stream",
     "text": [
      "value of mean pixel is too similar. Ignore this image\n",
      "resized_img_st \n",
      " [255.0, 255.0, 255.0, 204.760101010101]\n",
      "background_img_st \n",
      " [71.8767523364486, 71.8767523364486, 71.8767523364486, 255.0]\n",
      "cannot save image: 9253\n"
     ]
    },
    {
     "name": "stderr",
     "output_type": "stream",
     "text": [
      "9302it [09:22,  9.22it/s]"
     ]
    },
    {
     "name": "stdout",
     "output_type": "stream",
     "text": [
      "value of mean pixel is too similar. Ignore this image\n",
      "resized_img_st \n",
      " [255.0, 255.0, 255.0, 182.4298245614035]\n",
      "background_img_st \n",
      " [75.80087209302326, 77.75799418604652, 74.66569767441861, 255.0]\n",
      "cannot save image: 9299\n"
     ]
    },
    {
     "name": "stderr",
     "output_type": "stream",
     "text": [
      "9311it [09:23, 11.09it/s]"
     ]
    },
    {
     "name": "stdout",
     "output_type": "stream",
     "text": [
      "value of mean pixel is too similar. Ignore this image\n",
      "resized_img_st \n",
      " [255.0, 255.0, 255.0, 200.9214876033058]\n",
      "background_img_st \n",
      " [71.85361842105263, 71.85361842105263, 71.85361842105263, 255.0]\n",
      "cannot save image: 9310\n"
     ]
    },
    {
     "name": "stderr",
     "output_type": "stream",
     "text": [
      "9315it [09:23, 10.76it/s]"
     ]
    },
    {
     "name": "stdout",
     "output_type": "stream",
     "text": [
      "value of mean pixel is too similar. Ignore this image\n",
      "resized_img_st \n",
      " [255.0, 255.0, 255.0, 222.14741035856574]\n",
      "background_img_st \n",
      " [75.20491071428572, 75.20491071428572, 75.20491071428572, 255.0]\n",
      "cannot save image: 9313\n"
     ]
    },
    {
     "name": "stderr",
     "output_type": "stream",
     "text": [
      "9420it [09:40, 11.16it/s]"
     ]
    },
    {
     "name": "stdout",
     "output_type": "stream",
     "text": [
      "value of mean pixel is too similar. Ignore this image\n",
      "resized_img_st \n",
      " [254.35279187817258, 254.35279187817258, 254.35279187817258, 199.21065989847716]\n",
      "background_img_st \n",
      " [72.19801682692308, 72.19801682692308, 72.19801682692308, 255.0]\n",
      "cannot save image: 9418\n"
     ]
    },
    {
     "name": "stderr",
     "output_type": "stream",
     "text": [
      "9457it [09:44,  9.81it/s]"
     ]
    },
    {
     "name": "stdout",
     "output_type": "stream",
     "text": [
      "value of mean pixel is too similar. Ignore this image\n",
      "resized_img_st \n",
      " [255.0, 255.0, 255.0, 197.62809917355372]\n",
      "background_img_st \n",
      " [74.44586267605634, 76.42825704225352, 73.29445422535211, 255.0]\n",
      "cannot save image: 9455\n"
     ]
    },
    {
     "name": "stderr",
     "output_type": "stream",
     "text": [
      "9477it [09:48,  7.79it/s]"
     ]
    },
    {
     "name": "stdout",
     "output_type": "stream",
     "text": [
      "value of mean pixel is too similar. Ignore this image\n",
      "resized_img_st \n",
      " [254.54787234042553, 254.54787234042553, 254.54787234042553, 201.29432624113474]\n",
      "background_img_st \n",
      " [72.08069029850746, 72.08069029850746, 72.08069029850746, 255.0]\n",
      "cannot save image: 9475\n"
     ]
    },
    {
     "name": "stderr",
     "output_type": "stream",
     "text": [
      "9623it [10:06,  8.76it/s]"
     ]
    },
    {
     "name": "stdout",
     "output_type": "stream",
     "text": [
      "value of mean pixel is too similar. Ignore this image\n",
      "resized_img_st \n",
      " [255.0, 255.0, 255.0, 220.62537764350452]\n",
      "background_img_st \n",
      " [75.8938492063492, 77.81299603174604, 74.6686507936508, 255.0]\n",
      "cannot save image: 9621\n"
     ]
    },
    {
     "name": "stderr",
     "output_type": "stream",
     "text": [
      "9811it [10:27,  9.51it/s]"
     ]
    },
    {
     "name": "stdout",
     "output_type": "stream",
     "text": [
      "value of mean pixel is too similar. Ignore this image\n",
      "resized_img_st \n",
      " [254.49901768172887, 254.49901768172887, 254.49901768172887, 181.7878192534381]\n",
      "background_img_st \n",
      " [70.31373587570621, 70.31373587570621, 70.31373587570621, 255.0]\n",
      "cannot save image: 9809\n"
     ]
    },
    {
     "name": "stderr",
     "output_type": "stream",
     "text": [
      "9954it [10:42, 14.06it/s]"
     ]
    },
    {
     "name": "stdout",
     "output_type": "stream",
     "text": [
      "value of mean pixel is too similar. Ignore this image\n",
      "resized_img_st \n",
      " [255.0, 255.0, 255.0, 203.96006389776358]\n",
      "background_img_st \n",
      " [70.84158805031447, 70.84158805031447, 70.84158805031447, 255.0]\n",
      "cannot save image: 9951\n"
     ]
    },
    {
     "name": "stderr",
     "output_type": "stream",
     "text": [
      "9988it [10:45, 10.78it/s]"
     ]
    },
    {
     "name": "stdout",
     "output_type": "stream",
     "text": [
      "value of mean pixel is too similar. Ignore this image\n",
      "resized_img_st \n",
      " [255.0, 255.0, 255.0, 206.57368421052632]\n",
      "background_img_st \n",
      " [70.75963785046729, 72.71320093457943, 69.60981308411215, 255.0]\n",
      "cannot save image: 9985\n"
     ]
    },
    {
     "name": "stderr",
     "output_type": "stream",
     "text": [
      "10005it [10:47, 11.03it/s]"
     ]
    },
    {
     "name": "stdout",
     "output_type": "stream",
     "text": [
      "value of mean pixel is too similar. Ignore this image\n",
      "resized_img_st \n",
      " [250.5907780979827, 250.5907780979827, 250.5907780979827, 196.0806916426513]\n",
      "background_img_st \n",
      " [67.10579819277109, 67.10579819277109, 67.10579819277109, 255.0]\n",
      "cannot save image: 10003\n"
     ]
    },
    {
     "name": "stderr",
     "output_type": "stream",
     "text": [
      "10067it [10:53,  8.71it/s]"
     ]
    },
    {
     "name": "stdout",
     "output_type": "stream",
     "text": [
      "value of mean pixel is too similar. Ignore this image\n",
      "resized_img_st \n",
      " [255.0, 255.0, 255.0, 206.40247678018576]\n",
      "background_img_st \n",
      " [71.77115384615385, 71.77115384615385, 71.77115384615385, 255.0]\n",
      "cannot save image: 10065\n"
     ]
    },
    {
     "name": "stderr",
     "output_type": "stream",
     "text": [
      "10368it [11:28, 26.41it/s]"
     ]
    },
    {
     "name": "stdout",
     "output_type": "stream",
     "text": [
      "value of mean pixel is too similar. Ignore this image\n",
      "resized_img_st \n",
      " [255.0, 255.0, 255.0, 196.6782608695652]\n",
      "background_img_st \n",
      " [72.03427419354838, 72.03427419354838, 72.03427419354838, 255.0]\n",
      "cannot save image: 10360\n"
     ]
    },
    {
     "name": "stderr",
     "output_type": "stream",
     "text": [
      "10400it [11:29, 37.01it/s]"
     ]
    },
    {
     "name": "stdout",
     "output_type": "stream",
     "text": [
      "value of mean pixel is too similar. Ignore this image\n",
      "resized_img_st \n",
      " [255.0, 255.0, 255.0, 213.46774193548387]\n",
      "background_img_st \n",
      " [75.20833333333333, 77.12549603174604, 74.00545634920636, 255.0]\n",
      "cannot save image: 10394\n"
     ]
    },
    {
     "name": "stderr",
     "output_type": "stream",
     "text": [
      "10440it [11:30, 31.99it/s]"
     ]
    },
    {
     "name": "stdout",
     "output_type": "stream",
     "text": [
      "value of mean pixel is too similar. Ignore this image\n",
      "resized_img_st \n",
      " [253.5054945054945, 253.5054945054945, 253.5054945054945, 181.9150183150183]\n",
      "background_img_st \n",
      " [69.23535839160839, 69.23783508158508, 69.22494172494173, 255.0]\n",
      "cannot save image: 10434\n"
     ]
    },
    {
     "name": "stderr",
     "output_type": "stream",
     "text": [
      "10516it [11:32, 36.09it/s]"
     ]
    },
    {
     "name": "stdout",
     "output_type": "stream",
     "text": [
      "value of mean pixel is too similar. Ignore this image\n",
      "resized_img_st \n",
      " [255.0, 255.0, 255.0, 213.65594059405942]\n",
      "background_img_st \n",
      " [72.20176630434783, 72.20176630434783, 72.20176630434783, 255.0]\n",
      "cannot save image: 10509\n"
     ]
    },
    {
     "name": "stderr",
     "output_type": "stream",
     "text": [
      "10606it [11:35, 34.09it/s]"
     ]
    },
    {
     "name": "stdout",
     "output_type": "stream",
     "text": [
      "value of mean pixel is too similar. Ignore this image\n",
      "resized_img_st \n",
      " [255.0, 255.0, 255.0, 216.95289855072463]\n",
      "background_img_st \n",
      " [72.19438559322033, 72.19438559322033, 72.19438559322033, 255.0]\n",
      "cannot save image: 10599\n"
     ]
    },
    {
     "name": "stderr",
     "output_type": "stream",
     "text": [
      "10656it [11:37, 34.84it/s]"
     ]
    },
    {
     "name": "stdout",
     "output_type": "stream",
     "text": [
      "value of mean pixel is too similar. Ignore this image\n",
      "resized_img_st \n",
      " [250.75, 250.75, 250.75, 194.91944444444445]\n",
      "background_img_st \n",
      " [72.25715361445783, 72.25715361445783, 72.25715361445783, 255.0]\n",
      "cannot save image: 10651\n",
      "value of mean pixel is too similar. Ignore this image\n",
      "resized_img_st \n",
      " [255.0, 255.0, 255.0, 206.9108108108108]\n",
      "background_img_st \n",
      " [71.74288366336634, 71.74288366336634, 71.74288366336634, 255.0]\n",
      "cannot save image: 10657\n"
     ]
    },
    {
     "name": "stderr",
     "output_type": "stream",
     "text": [
      "10695it [11:38, 33.01it/s]"
     ]
    },
    {
     "name": "stdout",
     "output_type": "stream",
     "text": [
      "value of mean pixel is too similar. Ignore this image\n",
      "resized_img_st \n",
      " [255.0, 255.0, 255.0, 212.4]\n",
      "background_img_st \n",
      " [72.11337209302326, 74.1140988372093, 70.81867732558139, 255.0]\n",
      "cannot save image: 10689\n"
     ]
    },
    {
     "name": "stderr",
     "output_type": "stream",
     "text": [
      "10712it [11:38, 30.74it/s]"
     ]
    },
    {
     "name": "stdout",
     "output_type": "stream",
     "text": [
      "value of mean pixel is too similar. Ignore this image\n",
      "resized_img_st \n",
      " [255.0, 255.0, 255.0, 207.5546218487395]\n",
      "background_img_st \n",
      " [71.07847222222222, 71.07847222222222, 71.07847222222222, 255.0]\n",
      "cannot save image: 10710\n"
     ]
    },
    {
     "name": "stderr",
     "output_type": "stream",
     "text": [
      "10783it [11:41, 27.42it/s]"
     ]
    },
    {
     "name": "stdout",
     "output_type": "stream",
     "text": [
      "value of mean pixel is too similar. Ignore this image\n",
      "resized_img_st \n",
      " [255.0, 255.0, 255.0, 208.15398075240594]\n",
      "background_img_st \n",
      " [70.00695903361344, 70.00932247899159, 69.99803046218487, 255.0]\n",
      "cannot save image: 10779\n"
     ]
    },
    {
     "name": "stderr",
     "output_type": "stream",
     "text": [
      "10834it [11:42, 32.14it/s]"
     ]
    },
    {
     "name": "stdout",
     "output_type": "stream",
     "text": [
      "value of mean pixel is too similar. Ignore this image\n",
      "resized_img_st \n",
      " [255.0, 255.0, 255.0, 192.39240506329114]\n",
      "background_img_st \n",
      " [71.77380952380952, 71.77380952380952, 71.77380952380952, 255.0]\n",
      "cannot save image: 10831\n"
     ]
    },
    {
     "name": "stderr",
     "output_type": "stream",
     "text": [
      "10921it [11:45, 32.02it/s]"
     ]
    },
    {
     "name": "stdout",
     "output_type": "stream",
     "text": [
      "value of mean pixel is too similar. Ignore this image\n",
      "resized_img_st \n",
      " [255.0, 255.0, 255.0, 207.30601092896174]\n",
      "background_img_st \n",
      " [72.97616525423729, 72.97616525423729, 72.97616525423729, 255.0]\n",
      "cannot save image: 10915\n"
     ]
    },
    {
     "name": "stderr",
     "output_type": "stream",
     "text": [
      "10937it [11:45, 39.16it/s]"
     ]
    },
    {
     "name": "stdout",
     "output_type": "stream",
     "text": [
      "value of mean pixel is too similar. Ignore this image\n",
      "resized_img_st \n",
      " [254.09252669039145, 254.09252669039145, 254.09252669039145, 223.16370106761565]\n",
      "background_img_st \n",
      " [76.02414772727273, 76.02414772727273, 76.02414772727273, 255.0]\n",
      "cannot save image: 10927\n"
     ]
    },
    {
     "name": "stderr",
     "output_type": "stream",
     "text": [
      "10954it [11:46, 36.64it/s]"
     ]
    },
    {
     "name": "stdout",
     "output_type": "stream",
     "text": [
      "value of mean pixel is too similar. Ignore this image\n",
      "resized_img_st \n",
      " [255.0, 255.0, 255.0, 206.66666666666666]\n",
      "background_img_st \n",
      " [74.08072916666667, 76.03645833333333, 72.928125, 255.0]\n",
      "cannot save image: 10948\n"
     ]
    },
    {
     "name": "stderr",
     "output_type": "stream",
     "text": [
      "10966it [11:46, 32.14it/s]"
     ]
    },
    {
     "name": "stdout",
     "output_type": "stream",
     "text": [
      "value of mean pixel is too similar. Ignore this image\n",
      "resized_img_st \n",
      " [255.0, 255.0, 255.0, 202.626213592233]\n",
      "background_img_st \n",
      " [70.80191532258064, 70.80191532258064, 70.80191532258064, 255.0]\n",
      "cannot save image: 10960\n",
      "value of mean pixel is too similar. Ignore this image\n",
      "resized_img_st \n",
      " [255.0, 255.0, 255.0, 206.7231182795699]\n",
      "background_img_st \n",
      " [73.83044554455445, 73.83044554455445, 73.83044554455445, 255.0]\n",
      "cannot save image: 10963\n"
     ]
    },
    {
     "name": "stderr",
     "output_type": "stream",
     "text": [
      "10970it [11:46, 30.65it/s]"
     ]
    },
    {
     "name": "stdout",
     "output_type": "stream",
     "text": [
      "value of mean pixel is too similar. Ignore this image\n",
      "resized_img_st \n",
      " [253.26530612244898, 253.26530612244898, 253.26530612244898, 170.42403628117913]\n",
      "background_img_st \n",
      " [69.14256535947712, 69.14256535947712, 69.14256535947712, 255.0]\n",
      "cannot save image: 10967\n"
     ]
    },
    {
     "name": "stderr",
     "output_type": "stream",
     "text": [
      "11081it [11:50, 35.78it/s]"
     ]
    },
    {
     "name": "stdout",
     "output_type": "stream",
     "text": [
      "value of mean pixel is too similar. Ignore this image\n",
      "resized_img_st \n",
      " [255.0, 255.0, 255.0, 205.11111111111111]\n",
      "background_img_st \n",
      " [70.390625, 70.390625, 70.390625, 255.0]\n",
      "cannot save image: 11076\n"
     ]
    },
    {
     "name": "stderr",
     "output_type": "stream",
     "text": [
      "11121it [11:51, 27.16it/s]"
     ]
    },
    {
     "name": "stdout",
     "output_type": "stream",
     "text": [
      "value of mean pixel is too similar. Ignore this image\n",
      "resized_img_st \n",
      " [252.73534635879219, 252.73534635879219, 252.73534635879219, 201.60301953818828]\n",
      "background_img_st \n",
      " [69.89604831144466, 69.89874530956848, 69.88420497185741, 255.0]\n",
      "cannot save image: 11117\n"
     ]
    },
    {
     "name": "stderr",
     "output_type": "stream",
     "text": [
      "11268it [11:56, 35.40it/s]"
     ]
    },
    {
     "name": "stdout",
     "output_type": "stream",
     "text": [
      "value of mean pixel is too similar. Ignore this image\n",
      "resized_img_st \n",
      " [255.0, 255.0, 255.0, 207.82009345794393]\n",
      "background_img_st \n",
      " [71.15652654867256, 71.15652654867256, 71.15652654867256, 255.0]\n",
      "cannot save image: 11262\n"
     ]
    },
    {
     "name": "stderr",
     "output_type": "stream",
     "text": [
      "11307it [11:57, 33.04it/s]"
     ]
    },
    {
     "name": "stdout",
     "output_type": "stream",
     "text": [
      "value of mean pixel is too similar. Ignore this image\n",
      "resized_img_st \n",
      " [255.0, 255.0, 255.0, 187.06451612903226]\n",
      "background_img_st \n",
      " [75.6299715909091, 77.54758522727273, 74.30859375, 255.0]\n",
      "cannot save image: 11303\n"
     ]
    },
    {
     "name": "stderr",
     "output_type": "stream",
     "text": [
      "11348it [11:58, 29.49it/s]"
     ]
    },
    {
     "name": "stdout",
     "output_type": "stream",
     "text": [
      "value of mean pixel is too similar. Ignore this image\n",
      "resized_img_st \n",
      " [255.0, 255.0, 255.0, 189.45698924731184]\n",
      "background_img_st \n",
      " [71.63201530612245, 71.63201530612245, 71.63201530612245, 255.0]\n",
      "cannot save image: 11345\n"
     ]
    },
    {
     "name": "stderr",
     "output_type": "stream",
     "text": [
      "11552it [12:05, 34.18it/s]"
     ]
    },
    {
     "name": "stdout",
     "output_type": "stream",
     "text": [
      "value of mean pixel is too similar. Ignore this image\n",
      "resized_img_st \n",
      " [255.0, 255.0, 255.0, 208.58823529411765]\n",
      "background_img_st \n",
      " [71.81483644859813, 71.81483644859813, 71.81483644859813, 255.0]\n",
      "cannot save image: 11545\n"
     ]
    },
    {
     "name": "stderr",
     "output_type": "stream",
     "text": [
      "11729it [12:11, 37.67it/s]"
     ]
    },
    {
     "name": "stdout",
     "output_type": "stream",
     "text": [
      "value of mean pixel is too similar. Ignore this image\n",
      "resized_img_st \n",
      " [255.0, 255.0, 255.0, 209.74708171206225]\n",
      "background_img_st \n",
      " [73.52323717948718, 75.52363782051282, 72.17788461538461, 255.0]\n",
      "cannot save image: 11720\n",
      "value of mean pixel is too similar. Ignore this image\n",
      "resized_img_st \n",
      " [255.0, 255.0, 255.0, 222.9208211143695]\n",
      "background_img_st \n",
      " [77.60040983606558, 79.51229508196721, 76.23002049180327, 255.0]\n",
      "cannot save image: 11721\n",
      "value of mean pixel is too similar. Ignore this image\n",
      "resized_img_st \n",
      " [255.0, 255.0, 255.0, 214.53726708074535]\n",
      "background_img_st \n",
      " [71.14492753623189, 71.14492753623189, 71.14492753623189, 255.0]\n",
      "cannot save image: 11727\n"
     ]
    },
    {
     "name": "stderr",
     "output_type": "stream",
     "text": [
      "11781it [12:12, 42.98it/s]"
     ]
    },
    {
     "name": "stdout",
     "output_type": "stream",
     "text": [
      "value of mean pixel is too similar. Ignore this image\n",
      "resized_img_st \n",
      " [255.0, 255.0, 255.0, 199.135593220339]\n",
      "background_img_st \n",
      " [70.25694444444444, 70.25694444444444, 70.25694444444444, 255.0]\n",
      "cannot save image: 11773\n"
     ]
    },
    {
     "name": "stderr",
     "output_type": "stream",
     "text": [
      "11926it [12:16, 41.33it/s]"
     ]
    },
    {
     "name": "stdout",
     "output_type": "stream",
     "text": [
      "value of mean pixel is too similar. Ignore this image\n",
      "resized_img_st \n",
      " [252.87056367432152, 252.87056367432152, 252.87056367432152, 209.69311064718164]\n",
      "background_img_st \n",
      " [71.13701923076923, 71.13701923076923, 71.13701923076923, 255.0]\n",
      "cannot save image: 11919\n"
     ]
    },
    {
     "name": "stderr",
     "output_type": "stream",
     "text": [
      "12082it [12:21, 33.09it/s]"
     ]
    },
    {
     "name": "stdout",
     "output_type": "stream",
     "text": [
      "value of mean pixel is too similar. Ignore this image\n",
      "resized_img_st \n",
      " [255.0, 255.0, 255.0, 221.0513833992095]\n",
      "background_img_st \n",
      " [75.30381944444444, 77.1863425925926, 74.04108796296296, 255.0]\n",
      "cannot save image: 12075\n",
      "value of mean pixel is too similar. Ignore this image\n",
      "resized_img_st \n",
      " [253.95705521472394, 253.95705521472394, 253.95705521472394, 197.6646216768916]\n",
      "background_img_st \n",
      " [71.78475215517241, 71.78475215517241, 71.78475215517241, 255.0]\n",
      "cannot save image: 12082\n"
     ]
    },
    {
     "name": "stderr",
     "output_type": "stream",
     "text": [
      "12134it [12:23, 30.14it/s]"
     ]
    },
    {
     "name": "stdout",
     "output_type": "stream",
     "text": [
      "value of mean pixel is too similar. Ignore this image\n",
      "resized_img_st \n",
      " [255.0, 255.0, 255.0, 196.01650943396226]\n",
      "background_img_st \n",
      " [73.6688701923077, 73.6688701923077, 73.6688701923077, 255.0]\n",
      "cannot save image: 12130\n"
     ]
    },
    {
     "name": "stderr",
     "output_type": "stream",
     "text": [
      "12193it [12:25, 42.80it/s]"
     ]
    },
    {
     "name": "stdout",
     "output_type": "stream",
     "text": [
      "value of mean pixel is too similar. Ignore this image\n",
      "resized_img_st \n",
      " [255.0, 255.0, 255.0, 220.04]\n",
      "background_img_st \n",
      " [72.07198660714286, 72.07198660714286, 72.07198660714286, 255.0]\n",
      "cannot save image: 12189\n"
     ]
    },
    {
     "name": "stderr",
     "output_type": "stream",
     "text": [
      "12251it [12:27, 32.16it/s]"
     ]
    },
    {
     "name": "stdout",
     "output_type": "stream",
     "text": [
      "value of mean pixel is too similar. Ignore this image\n",
      "resized_img_st \n",
      " [255.0, 255.0, 255.0, 212.46296296296296]\n",
      "background_img_st \n",
      " [71.55743243243244, 71.55743243243244, 71.55743243243244, 255.0]\n",
      "cannot save image: 12248\n"
     ]
    },
    {
     "name": "stderr",
     "output_type": "stream",
     "text": [
      "12478it [12:34, 30.27it/s]"
     ]
    },
    {
     "name": "stdout",
     "output_type": "stream",
     "text": [
      "value of mean pixel is too similar. Ignore this image\n",
      "resized_img_st \n",
      " [255.0, 255.0, 255.0, 216.8949880668258]\n",
      "background_img_st \n",
      " [71.20394736842105, 71.20394736842105, 71.20394736842105, 255.0]\n",
      "cannot save image: 12471\n"
     ]
    },
    {
     "name": "stderr",
     "output_type": "stream",
     "text": [
      "12521it [12:36, 26.30it/s]"
     ]
    },
    {
     "name": "stdout",
     "output_type": "stream",
     "text": [
      "value of mean pixel is too similar. Ignore this image\n",
      "resized_img_st \n",
      " [255.0, 255.0, 255.0, 177.23076923076923]\n",
      "background_img_st \n",
      " [70.33923192771084, 70.33923192771084, 70.33923192771084, 255.0]\n",
      "cannot save image: 12515\n"
     ]
    },
    {
     "name": "stderr",
     "output_type": "stream",
     "text": [
      "12605it [12:42, 11.33it/s]"
     ]
    },
    {
     "name": "stdout",
     "output_type": "stream",
     "text": [
      "value of mean pixel is too similar. Ignore this image\n",
      "resized_img_st \n",
      " [255.0, 255.0, 255.0, 198.42666666666668]\n",
      "background_img_st \n",
      " [70.27926587301587, 70.27926587301587, 70.27926587301587, 255.0]\n",
      "cannot save image: 12605\n"
     ]
    },
    {
     "name": "stderr",
     "output_type": "stream",
     "text": [
      "13022it [13:26, 11.43it/s]"
     ]
    },
    {
     "name": "stdout",
     "output_type": "stream",
     "text": [
      "value of mean pixel is too similar. Ignore this image\n",
      "resized_img_st \n",
      " [255.0, 255.0, 255.0, 205.14527027027026]\n",
      "background_img_st \n",
      " [71.38343253968254, 73.38343253968254, 70.24702380952381, 255.0]\n",
      "cannot save image: 13020\n"
     ]
    },
    {
     "name": "stderr",
     "output_type": "stream",
     "text": [
      "13242it [14:11,  6.78it/s]"
     ]
    },
    {
     "name": "stdout",
     "output_type": "stream",
     "text": [
      "value of mean pixel is too similar. Ignore this image\n",
      "resized_img_st \n",
      " [255.0, 255.0, 255.0, 206.19642857142858]\n",
      "background_img_st \n",
      " [70.44308035714286, 70.44308035714286, 70.44308035714286, 255.0]\n",
      "cannot save image: 13240\n"
     ]
    },
    {
     "name": "stderr",
     "output_type": "stream",
     "text": [
      "13505it [14:42, 11.56it/s]"
     ]
    },
    {
     "name": "stdout",
     "output_type": "stream",
     "text": [
      "value of mean pixel is too similar. Ignore this image\n",
      "resized_img_st \n",
      " [255.0, 255.0, 255.0, 214.66374269005848]\n",
      "background_img_st \n",
      " [72.91594827586206, 72.91594827586206, 72.91594827586206, 255.0]\n",
      "cannot save image: 13503\n"
     ]
    },
    {
     "name": "stderr",
     "output_type": "stream",
     "text": [
      "13585it [14:50, 10.00it/s]"
     ]
    },
    {
     "name": "stdout",
     "output_type": "stream",
     "text": [
      "value of mean pixel is too similar. Ignore this image\n",
      "resized_img_st \n",
      " [255.0, 255.0, 255.0, 194.6917098445596]\n",
      "background_img_st \n",
      " [70.14665841584159, 72.14820544554455, 68.88892326732673, 255.0]\n",
      "cannot save image: 13583\n"
     ]
    },
    {
     "name": "stderr",
     "output_type": "stream",
     "text": [
      "13672it [14:59,  7.74it/s]"
     ]
    },
    {
     "name": "stdout",
     "output_type": "stream",
     "text": [
      "value of mean pixel is too similar. Ignore this image\n",
      "resized_img_st \n",
      " [255.0, 255.0, 255.0, 204.25888665325286]\n",
      "background_img_st \n",
      " [70.1754068716094, 70.17721518987342, 70.16777802893309, 255.0]\n",
      "cannot save image: 13670\n"
     ]
    },
    {
     "name": "stderr",
     "output_type": "stream",
     "text": [
      "13757it [15:08, 13.66it/s]"
     ]
    },
    {
     "name": "stdout",
     "output_type": "stream",
     "text": [
      "value of mean pixel is too similar. Ignore this image\n",
      "resized_img_st \n",
      " [255.0, 255.0, 255.0, 198.6936170212766]\n",
      "background_img_st \n",
      " [70.69399752475248, 70.69492574257426, 70.68997524752476, 255.0]\n",
      "cannot save image: 13754\n"
     ]
    },
    {
     "name": "stderr",
     "output_type": "stream",
     "text": [
      "13821it [15:15, 10.70it/s]"
     ]
    },
    {
     "name": "stdout",
     "output_type": "stream",
     "text": [
      "value of mean pixel is too similar. Ignore this image\n",
      "resized_img_st \n",
      " [255.0, 255.0, 255.0, 204.32142857142858]\n",
      "background_img_st \n",
      " [70.10983910891089, 70.10983910891089, 70.10983910891089, 255.0]\n",
      "cannot save image: 13819\n"
     ]
    },
    {
     "name": "stderr",
     "output_type": "stream",
     "text": [
      "13826it [15:15, 12.11it/s]"
     ]
    },
    {
     "name": "stdout",
     "output_type": "stream",
     "text": [
      "value of mean pixel is too similar. Ignore this image\n",
      "resized_img_st \n",
      " [255.0, 255.0, 255.0, 183.6086956521739]\n",
      "background_img_st \n",
      " [74.6161380597015, 76.6161380597015, 73.21781716417911, 255.0]\n",
      "cannot save image: 13823\n",
      "value of mean pixel is too similar. Ignore this image\n",
      "resized_img_st \n",
      " [255.0, 255.0, 255.0, 206.32022471910113]\n",
      "background_img_st \n",
      " [70.0297181372549, 70.0297181372549, 70.0297181372549, 255.0]\n",
      "cannot save image: 13824\n"
     ]
    },
    {
     "name": "stderr",
     "output_type": "stream",
     "text": [
      "13880it [15:20, 11.98it/s]"
     ]
    },
    {
     "name": "stdout",
     "output_type": "stream",
     "text": [
      "value of mean pixel is too similar. Ignore this image\n",
      "resized_img_st \n",
      " [255.0, 255.0, 255.0, 203.86170212765958]\n",
      "background_img_st \n",
      " [70.99660326086956, 72.97622282608695, 69.89979619565217, 255.0]\n",
      "cannot save image: 13879\n"
     ]
    },
    {
     "name": "stderr",
     "output_type": "stream",
     "text": [
      "13908it [15:24,  9.14it/s]"
     ]
    },
    {
     "name": "stdout",
     "output_type": "stream",
     "text": [
      "value of mean pixel is too similar. Ignore this image\n",
      "resized_img_st \n",
      " [255.0, 255.0, 255.0, 194.4356846473029]\n",
      "background_img_st \n",
      " [74.10190217391305, 74.10190217391305, 74.10190217391305, 255.0]\n",
      "cannot save image: 13906\n"
     ]
    },
    {
     "name": "stderr",
     "output_type": "stream",
     "text": [
      "13971it [15:30, 11.02it/s]"
     ]
    },
    {
     "name": "stdout",
     "output_type": "stream",
     "text": [
      "value of mean pixel is too similar. Ignore this image\n",
      "resized_img_st \n",
      " [254.01544401544402, 254.01544401544402, 254.01544401544402, 204.01544401544402]\n",
      "background_img_st \n",
      " [71.52083333333333, 71.52083333333333, 71.52083333333333, 255.0]\n",
      "cannot save image: 13968\n"
     ]
    },
    {
     "name": "stderr",
     "output_type": "stream",
     "text": [
      "14023it [15:35, 11.78it/s]"
     ]
    },
    {
     "name": "stdout",
     "output_type": "stream",
     "text": [
      "value of mean pixel is too similar. Ignore this image\n",
      "resized_img_st \n",
      " [254.1296928327645, 254.1296928327645, 254.1296928327645, 199.54607508532422]\n",
      "background_img_st \n",
      " [69.81982421875, 69.81982421875, 69.81982421875, 255.0]\n",
      "cannot save image: 14020\n"
     ]
    },
    {
     "name": "stderr",
     "output_type": "stream",
     "text": [
      "14145it [15:46, 11.24it/s]"
     ]
    },
    {
     "name": "stdout",
     "output_type": "stream",
     "text": [
      "value of mean pixel is too similar. Ignore this image\n",
      "resized_img_st \n",
      " [255.0, 255.0, 255.0, 200.69635627530366]\n",
      "background_img_st \n",
      " [70.04397123893806, 70.04397123893806, 70.04397123893806, 255.0]\n",
      "cannot save image: 14143\n"
     ]
    },
    {
     "name": "stderr",
     "output_type": "stream",
     "text": [
      "14189it [15:51,  8.31it/s]"
     ]
    },
    {
     "name": "stdout",
     "output_type": "stream",
     "text": [
      "value of mean pixel is too similar. Ignore this image\n",
      "resized_img_st \n",
      " [255.0, 255.0, 255.0, 211.37062937062936]\n",
      "background_img_st \n",
      " [75.15920608108108, 75.15920608108108, 75.15920608108108, 255.0]\n",
      "cannot save image: 14187\n"
     ]
    },
    {
     "name": "stderr",
     "output_type": "stream",
     "text": [
      "14214it [15:54, 10.20it/s]"
     ]
    },
    {
     "name": "stdout",
     "output_type": "stream",
     "text": [
      "value of mean pixel is too similar. Ignore this image\n",
      "resized_img_st \n",
      " [255.0, 255.0, 255.0, 190.68608414239483]\n",
      "background_img_st \n",
      " [70.31827445652173, 70.31827445652173, 70.31827445652173, 255.0]\n",
      "cannot save image: 14213\n"
     ]
    },
    {
     "name": "stderr",
     "output_type": "stream",
     "text": [
      "14460it [16:19,  7.92it/s]"
     ]
    },
    {
     "name": "stdout",
     "output_type": "stream",
     "text": [
      "value of mean pixel is too similar. Ignore this image\n",
      "resized_img_st \n",
      " [253.725, 253.725, 253.725, 198.88833333333332]\n",
      "background_img_st \n",
      " [69.7576844262295, 69.7576844262295, 69.7576844262295, 255.0]\n",
      "cannot save image: 14458\n"
     ]
    },
    {
     "name": "stderr",
     "output_type": "stream",
     "text": [
      "14540it [16:28, 13.71it/s]"
     ]
    },
    {
     "name": "stdout",
     "output_type": "stream",
     "text": [
      "value of mean pixel is too similar. Ignore this image\n",
      "resized_img_st \n",
      " [255.0, 255.0, 255.0, 219.5204081632653]\n",
      "background_img_st \n",
      " [70.59601272015655, 70.59598214285714, 70.59610445205479, 255.0]\n",
      "cannot save image: 14534\n"
     ]
    },
    {
     "name": "stderr",
     "output_type": "stream",
     "text": [
      "14578it [16:29, 36.89it/s]"
     ]
    },
    {
     "name": "stdout",
     "output_type": "stream",
     "text": [
      "value of mean pixel is too similar. Ignore this image\n",
      "resized_img_st \n",
      " [255.0, 255.0, 255.0, 214.6140350877193]\n",
      "background_img_st \n",
      " [70.42991504854369, 70.42991504854369, 70.42991504854369, 255.0]\n",
      "cannot save image: 14571\n"
     ]
    },
    {
     "name": "stderr",
     "output_type": "stream",
     "text": [
      "14696it [16:32, 41.09it/s]"
     ]
    },
    {
     "name": "stdout",
     "output_type": "stream",
     "text": [
      "value of mean pixel is too similar. Ignore this image\n",
      "resized_img_st \n",
      " [255.0, 255.0, 255.0, 182.7287234042553]\n",
      "background_img_st \n",
      " [72.35913461538462, 74.29230769230769, 71.2201923076923, 255.0]\n",
      "cannot save image: 14693\n",
      "value of mean pixel is too similar. Ignore this image\n",
      "resized_img_st \n",
      " [255.0, 255.0, 255.0, 182.88541666666666]\n",
      "background_img_st \n",
      " [72.66554054054055, 72.66554054054055, 72.66554054054055, 255.0]\n",
      "cannot save image: 14695\n"
     ]
    },
    {
     "name": "stderr",
     "output_type": "stream",
     "text": [
      "14863it [16:37, 42.80it/s]"
     ]
    },
    {
     "name": "stdout",
     "output_type": "stream",
     "text": [
      "value of mean pixel is too similar. Ignore this image\n",
      "resized_img_st \n",
      " [255.0, 255.0, 255.0, 209.30670103092783]\n",
      "background_img_st \n",
      " [73.43691588785046, 73.43691588785046, 73.43691588785046, 255.0]\n",
      "cannot save image: 14857\n"
     ]
    },
    {
     "name": "stderr",
     "output_type": "stream",
     "text": [
      "15170it [16:47, 32.33it/s]"
     ]
    },
    {
     "name": "stdout",
     "output_type": "stream",
     "text": [
      "value of mean pixel is too similar. Ignore this image\n",
      "resized_img_st \n",
      " [255.0, 255.0, 255.0, 162.8793565683646]\n",
      "background_img_st \n",
      " [71.1687863372093, 71.1687863372093, 71.1687863372093, 255.0]\n",
      "cannot save image: 15167\n"
     ]
    },
    {
     "name": "stderr",
     "output_type": "stream",
     "text": [
      "15430it [16:54, 41.96it/s]"
     ]
    },
    {
     "name": "stdout",
     "output_type": "stream",
     "text": [
      "value of mean pixel is too similar. Ignore this image\n",
      "resized_img_st \n",
      " [255.0, 255.0, 255.0, 205.08264462809916]\n",
      "background_img_st \n",
      " [71.58279639175258, 71.58279639175258, 71.58279639175258, 255.0]\n",
      "cannot save image: 15422\n"
     ]
    },
    {
     "name": "stderr",
     "output_type": "stream",
     "text": [
      "15503it [16:57, 29.85it/s]"
     ]
    },
    {
     "name": "stdout",
     "output_type": "stream",
     "text": [
      "value of mean pixel is too similar. Ignore this image\n",
      "resized_img_st \n",
      " [255.0, 255.0, 255.0, 190.3550295857988]\n",
      "background_img_st \n",
      " [71.11704545454545, 71.11704545454545, 71.11704545454545, 255.0]\n",
      "cannot save image: 15497\n"
     ]
    },
    {
     "name": "stderr",
     "output_type": "stream",
     "text": [
      "15651it [17:02, 33.13it/s]"
     ]
    },
    {
     "name": "stdout",
     "output_type": "stream",
     "text": [
      "value of mean pixel is too similar. Ignore this image\n",
      "resized_img_st \n",
      " [255.0, 255.0, 255.0, 210.41340782122904]\n",
      "background_img_st \n",
      " [75.349375, 77.27625, 74.16625, 255.0]\n",
      "cannot save image: 15644\n"
     ]
    },
    {
     "name": "stderr",
     "output_type": "stream",
     "text": [
      "15711it [17:03, 32.95it/s]"
     ]
    },
    {
     "name": "stdout",
     "output_type": "stream",
     "text": [
      "value of mean pixel is too similar. Ignore this image\n",
      "resized_img_st \n",
      " [255.0, 255.0, 255.0, 205.8174273858921]\n",
      "background_img_st \n",
      " [71.87760416666667, 71.87760416666667, 71.87760416666667, 255.0]\n",
      "cannot save image: 15704\n",
      "value of mean pixel is too similar. Ignore this image\n",
      "resized_img_st \n",
      " [255.0, 255.0, 255.0, 191.20670391061452]\n",
      "background_img_st \n",
      " [75.82045454545455, 75.82045454545455, 75.82045454545455, 255.0]\n",
      "cannot save image: 15707\n"
     ]
    },
    {
     "name": "stderr",
     "output_type": "stream",
     "text": [
      "15939it [17:11, 30.92it/s]"
     ]
    },
    {
     "name": "stdout",
     "output_type": "stream",
     "text": [
      "value of mean pixel is too similar. Ignore this image\n",
      "resized_img_st \n",
      " [255.0, 255.0, 255.0, 196.51931330472104]\n",
      "background_img_st \n",
      " [73.33531746031746, 73.33531746031746, 73.33531746031746, 255.0]\n",
      "cannot save image: 15935\n"
     ]
    },
    {
     "name": "stderr",
     "output_type": "stream",
     "text": [
      "15949it [17:11, 35.48it/s]"
     ]
    },
    {
     "name": "stdout",
     "output_type": "stream",
     "text": [
      "value of mean pixel is too similar. Ignore this image\n",
      "resized_img_st \n",
      " [253.8815789473684, 253.8815789473684, 253.8815789473684, 204.33552631578948]\n",
      "background_img_st \n",
      " [69.49928977272727, 69.49928977272727, 69.49928977272727, 255.0]\n",
      "cannot save image: 15946\n"
     ]
    },
    {
     "name": "stderr",
     "output_type": "stream",
     "text": [
      "16053it [17:14, 31.80it/s]"
     ]
    },
    {
     "name": "stdout",
     "output_type": "stream",
     "text": [
      "value of mean pixel is too similar. Ignore this image\n",
      "resized_img_st \n",
      " [254.65771812080536, 254.65771812080536, 254.65771812080536, 203.91319910514542]\n",
      "background_img_st \n",
      " [69.82479296066252, 69.82731625258799, 69.81353519668737, 255.0]\n",
      "cannot save image: 16048\n"
     ]
    },
    {
     "name": "stderr",
     "output_type": "stream",
     "text": [
      "16062it [17:15, 31.62it/s]"
     ]
    },
    {
     "name": "stdout",
     "output_type": "stream",
     "text": [
      "value of mean pixel is too similar. Ignore this image\n",
      "resized_img_st \n",
      " [255.0, 255.0, 255.0, 205.8235294117647]\n",
      "background_img_st \n",
      " [70.8983644859813, 70.8983644859813, 70.8983644859813, 255.0]\n",
      "cannot save image: 16057\n"
     ]
    },
    {
     "name": "stderr",
     "output_type": "stream",
     "text": [
      "16105it [17:16, 35.34it/s]"
     ]
    },
    {
     "name": "stdout",
     "output_type": "stream",
     "text": [
      "value of mean pixel is too similar. Ignore this image\n",
      "resized_img_st \n",
      " [255.0, 255.0, 255.0, 141.69230769230768]\n",
      "background_img_st \n",
      " [70.4592962184874, 70.4592962184874, 70.4592962184874, 255.0]\n",
      "cannot save image: 16098\n"
     ]
    },
    {
     "name": "stderr",
     "output_type": "stream",
     "text": [
      "16272it [17:21, 32.10it/s]"
     ]
    },
    {
     "name": "stdout",
     "output_type": "stream",
     "text": [
      "value of mean pixel is too similar. Ignore this image\n",
      "resized_img_st \n",
      " [255.0, 255.0, 255.0, 214.4293948126801]\n",
      "background_img_st \n",
      " [70.12638888888888, 70.12638888888888, 70.12638888888888, 255.0]\n",
      "cannot save image: 16269\n"
     ]
    },
    {
     "name": "stderr",
     "output_type": "stream",
     "text": [
      "16387it [17:25, 33.84it/s]"
     ]
    },
    {
     "name": "stdout",
     "output_type": "stream",
     "text": [
      "value of mean pixel is too similar. Ignore this image\n",
      "resized_img_st \n",
      " [255.0, 255.0, 255.0, 191.10997442455243]\n",
      "background_img_st \n",
      " [71.49533045977012, 71.49533045977012, 71.49533045977012, 255.0]\n",
      "cannot save image: 16385\n"
     ]
    },
    {
     "name": "stderr",
     "output_type": "stream",
     "text": [
      "16713it [17:47, 13.94it/s]"
     ]
    },
    {
     "name": "stdout",
     "output_type": "stream",
     "text": [
      "value of mean pixel is too similar. Ignore this image\n",
      "resized_img_st \n",
      " [255.0, 255.0, 255.0, 188.26666666666668]\n",
      "background_img_st \n",
      " [71.1624053030303, 71.1624053030303, 71.1624053030303, 255.0]\n",
      "cannot save image: 16709\n"
     ]
    },
    {
     "name": "stderr",
     "output_type": "stream",
     "text": [
      "16774it [17:54,  9.55it/s]"
     ]
    },
    {
     "name": "stdout",
     "output_type": "stream",
     "text": [
      "value of mean pixel is too similar. Ignore this image\n",
      "resized_img_st \n",
      " [255.0, 255.0, 255.0, 209.40449438202248]\n",
      "background_img_st \n",
      " [71.16360294117646, 71.16360294117646, 71.16360294117646, 255.0]\n",
      "cannot save image: 16773\n"
     ]
    },
    {
     "name": "stderr",
     "output_type": "stream",
     "text": [
      "16805it [17:57, 10.83it/s]"
     ]
    },
    {
     "name": "stdout",
     "output_type": "stream",
     "text": [
      "value of mean pixel is too similar. Ignore this image\n",
      "resized_img_st \n",
      " [255.0, 255.0, 255.0, 218.8622754491018]\n",
      "background_img_st \n",
      " [70.43137254901961, 70.43137254901961, 70.43137254901961, 255.0]\n",
      "cannot save image: 16803\n"
     ]
    },
    {
     "name": "stderr",
     "output_type": "stream",
     "text": [
      "16817it [17:58,  9.09it/s]"
     ]
    },
    {
     "name": "stdout",
     "output_type": "stream",
     "text": [
      "value of mean pixel is too similar. Ignore this image\n",
      "resized_img_st \n",
      " [255.0, 255.0, 255.0, 185.10266159695817]\n",
      "background_img_st \n",
      " [70.06790865384616, 70.06790865384616, 70.06790865384616, 255.0]\n",
      "cannot save image: 16816\n"
     ]
    },
    {
     "name": "stderr",
     "output_type": "stream",
     "text": [
      "16843it [18:01, 11.88it/s]"
     ]
    },
    {
     "name": "stdout",
     "output_type": "stream",
     "text": [
      "value of mean pixel is too similar. Ignore this image\n",
      "resized_img_st \n",
      " [255.0, 255.0, 255.0, 197.43058350100603]\n",
      "background_img_st \n",
      " [71.19164823008849, 71.19164823008849, 71.19164823008849, 255.0]\n",
      "cannot save image: 16841\n"
     ]
    },
    {
     "name": "stderr",
     "output_type": "stream",
     "text": [
      "16950it [18:12,  8.45it/s]"
     ]
    },
    {
     "name": "stdout",
     "output_type": "stream",
     "text": [
      "value of mean pixel is too similar. Ignore this image\n",
      "resized_img_st \n",
      " [255.0, 255.0, 255.0, 204.825]\n",
      "background_img_st \n",
      " [75.96408045977012, 77.902658045977, 74.61494252873563, 255.0]\n",
      "cannot save image: 16948\n"
     ]
    },
    {
     "name": "stderr",
     "output_type": "stream",
     "text": [
      "17283it [18:48,  9.20it/s]"
     ]
    },
    {
     "name": "stdout",
     "output_type": "stream",
     "text": [
      "value of mean pixel is too similar. Ignore this image\n",
      "resized_img_st \n",
      " [255.0, 255.0, 255.0, 206.87854251012146]\n",
      "background_img_st \n",
      " [71.53125, 71.53125, 71.53125, 255.0]\n",
      "cannot save image: 17281\n"
     ]
    },
    {
     "name": "stderr",
     "output_type": "stream",
     "text": [
      "17290it [18:48, 10.82it/s]"
     ]
    },
    {
     "name": "stdout",
     "output_type": "stream",
     "text": [
      "value of mean pixel is too similar. Ignore this image\n",
      "resized_img_st \n",
      " [255.0, 255.0, 255.0, 207.12156862745098]\n",
      "background_img_st \n",
      " [72.73485824742268, 72.73485824742268, 72.73485824742268, 255.0]\n",
      "cannot save image: 17288\n",
      "value of mean pixel is too similar. Ignore this image\n",
      "resized_img_st \n",
      " [255.0, 255.0, 255.0, 216.33726415094338]\n",
      "background_img_st \n",
      " [70.06116071428572, 70.06116071428572, 70.06116071428572, 255.0]\n",
      "cannot save image: 17289\n"
     ]
    },
    {
     "name": "stderr",
     "output_type": "stream",
     "text": [
      "17540it [19:13, 11.04it/s]"
     ]
    },
    {
     "name": "stdout",
     "output_type": "stream",
     "text": [
      "value of mean pixel is too similar. Ignore this image\n",
      "resized_img_st \n",
      " [255.0, 255.0, 255.0, 209.74734607218684]\n",
      "background_img_st \n",
      " [71.1578125, 71.1578125, 71.1578125, 255.0]\n",
      "cannot save image: 17539\n"
     ]
    },
    {
     "name": "stderr",
     "output_type": "stream",
     "text": [
      "17594it [19:19, 14.79it/s]"
     ]
    },
    {
     "name": "stdout",
     "output_type": "stream",
     "text": [
      "value of mean pixel is too similar. Ignore this image\n",
      "resized_img_st \n",
      " [255.0, 255.0, 255.0, 210.93939393939394]\n",
      "background_img_st \n",
      " [75.0109649122807, 77.01370614035088, 73.65899122807018, 255.0]\n",
      "cannot save image: 17590\n"
     ]
    },
    {
     "name": "stderr",
     "output_type": "stream",
     "text": [
      "17625it [19:22, 10.18it/s]"
     ]
    },
    {
     "name": "stdout",
     "output_type": "stream",
     "text": [
      "value of mean pixel is too similar. Ignore this image\n",
      "resized_img_st \n",
      " [254.23880597014926, 254.23880597014926, 254.23880597014926, 211.40298507462686]\n",
      "background_img_st \n",
      " [71.53412828947368, 71.53412828947368, 71.53412828947368, 255.0]\n",
      "cannot save image: 17622\n"
     ]
    },
    {
     "name": "stderr",
     "output_type": "stream",
     "text": [
      "17772it [19:37,  6.97it/s]"
     ]
    },
    {
     "name": "stdout",
     "output_type": "stream",
     "text": [
      "value of mean pixel is too similar. Ignore this image\n",
      "resized_img_st \n",
      " [255.0, 255.0, 255.0, 204.44664031620553]\n",
      "background_img_st \n",
      " [70.04819915254237, 70.04819915254237, 70.04819915254237, 255.0]\n",
      "cannot save image: 17772\n"
     ]
    },
    {
     "name": "stderr",
     "output_type": "stream",
     "text": [
      "17971it [19:58, 10.66it/s]"
     ]
    },
    {
     "name": "stdout",
     "output_type": "stream",
     "text": [
      "value of mean pixel is too similar. Ignore this image\n",
      "resized_img_st \n",
      " [254.1237113402062, 254.1237113402062, 254.1237113402062, 200.8831615120275]\n",
      "background_img_st \n",
      " [71.45021186440678, 73.42425847457628, 70.32309322033899, 255.0]\n",
      "cannot save image: 17968\n"
     ]
    },
    {
     "name": "stderr",
     "output_type": "stream",
     "text": [
      "17977it [19:59, 11.06it/s]"
     ]
    },
    {
     "name": "stdout",
     "output_type": "stream",
     "text": [
      "value of mean pixel is too similar. Ignore this image\n",
      "resized_img_st \n",
      " [254.43080357142858, 254.43080357142858, 254.43080357142858, 196.70089285714286]\n",
      "background_img_st \n",
      " [71.5108173076923, 71.5108173076923, 71.5108173076923, 255.0]\n",
      "cannot save image: 17974\n"
     ]
    },
    {
     "name": "stderr",
     "output_type": "stream",
     "text": [
      "18196it [20:30, 11.66it/s]"
     ]
    },
    {
     "name": "stdout",
     "output_type": "stream",
     "text": [
      "value of mean pixel is too similar. Ignore this image\n",
      "resized_img_st \n",
      " [255.0, 255.0, 255.0, 213.23463687150837]\n",
      "background_img_st \n",
      " [73.85221354166667, 75.83984375, 72.77994791666667, 255.0]\n",
      "cannot save image: 18195\n"
     ]
    },
    {
     "name": "stderr",
     "output_type": "stream",
     "text": [
      "18237it [20:34, 13.34it/s]"
     ]
    },
    {
     "name": "stdout",
     "output_type": "stream",
     "text": [
      "value of mean pixel is too similar. Ignore this image\n",
      "resized_img_st \n",
      " [255.0, 255.0, 255.0, 205.48684210526315]\n",
      "background_img_st \n",
      " [70.11623831775701, 70.11623831775701, 70.11623831775701, 255.0]\n",
      "cannot save image: 18235\n"
     ]
    },
    {
     "name": "stderr",
     "output_type": "stream",
     "text": [
      "18280it [20:38,  9.97it/s]"
     ]
    },
    {
     "name": "stdout",
     "output_type": "stream",
     "text": [
      "value of mean pixel is too similar. Ignore this image\n",
      "resized_img_st \n",
      " [255.0, 255.0, 255.0, 214.95754716981133]\n",
      "background_img_st \n",
      " [70.85289634146342, 70.85289634146342, 70.85289634146342, 255.0]\n",
      "cannot save image: 18279\n"
     ]
    },
    {
     "name": "stderr",
     "output_type": "stream",
     "text": [
      "18342it [20:45,  9.14it/s]"
     ]
    },
    {
     "name": "stdout",
     "output_type": "stream",
     "text": [
      "value of mean pixel is too similar. Ignore this image\n",
      "resized_img_st \n",
      " [255.0, 255.0, 255.0, 159.74468085106383]\n",
      "background_img_st \n",
      " [70.63553779069767, 70.63553779069767, 70.63553779069767, 255.0]\n",
      "cannot save image: 18342\n"
     ]
    },
    {
     "name": "stderr",
     "output_type": "stream",
     "text": [
      "18390it [20:50, 10.20it/s]"
     ]
    },
    {
     "name": "stdout",
     "output_type": "stream",
     "text": [
      "value of mean pixel is too similar. Ignore this image\n",
      "resized_img_st \n",
      " [255.0, 255.0, 255.0, 196.3206997084548]\n",
      "background_img_st \n",
      " [70.414453125, 70.414453125, 70.414453125, 255.0]\n",
      "cannot save image: 18388\n"
     ]
    },
    {
     "name": "stderr",
     "output_type": "stream",
     "text": [
      "18411it [20:53,  6.66it/s]"
     ]
    },
    {
     "name": "stdout",
     "output_type": "stream",
     "text": [
      "value of mean pixel is too similar. Ignore this image\n",
      "resized_img_st \n",
      " [254.83653846153845, 254.83653846153845, 254.83653846153845, 204.33141025641027]\n",
      "background_img_st \n",
      " [70.22135007849293, 70.22135007849293, 70.22135007849293, 255.0]\n",
      "cannot save image: 18409\n"
     ]
    },
    {
     "name": "stderr",
     "output_type": "stream",
     "text": [
      "18625it [21:14, 13.54it/s]"
     ]
    },
    {
     "name": "stdout",
     "output_type": "stream",
     "text": [
      "value of mean pixel is too similar. Ignore this image\n",
      "resized_img_st \n",
      " [255.0, 255.0, 255.0, 163.2336956521739]\n",
      "background_img_st \n",
      " [70.52625, 70.52625, 70.52625, 255.0]\n",
      "cannot save image: 18624\n"
     ]
    },
    {
     "name": "stderr",
     "output_type": "stream",
     "text": [
      "18748it [21:27, 12.94it/s]"
     ]
    },
    {
     "name": "stdout",
     "output_type": "stream",
     "text": [
      "value of mean pixel is too similar. Ignore this image\n",
      "resized_img_st \n",
      " [255.0, 255.0, 255.0, 215.63333333333333]\n",
      "background_img_st \n",
      " [71.48125, 71.48125, 71.48125, 255.0]\n",
      "cannot save image: 18745\n"
     ]
    },
    {
     "name": "stderr",
     "output_type": "stream",
     "text": [
      "18768it [21:28, 28.62it/s]"
     ]
    },
    {
     "name": "stdout",
     "output_type": "stream",
     "text": [
      "value of mean pixel is too similar. Ignore this image\n",
      "resized_img_st \n",
      " [255.0, 255.0, 255.0, 193.22140221402213]\n",
      "background_img_st \n",
      " [70.04550438596492, 70.04550438596492, 70.04550438596492, 255.0]\n",
      "cannot save image: 18761\n"
     ]
    },
    {
     "name": "stderr",
     "output_type": "stream",
     "text": [
      "18795it [21:29, 26.43it/s]"
     ]
    },
    {
     "name": "stdout",
     "output_type": "stream",
     "text": [
      "value of mean pixel is too similar. Ignore this image\n",
      "resized_img_st \n",
      " [253.2759680393362, 253.2759680393362, 253.2759680393362, 185.91886908420406]\n",
      "background_img_st \n",
      " [69.43134842519684, 69.43134842519684, 69.43134842519684, 255.0]\n",
      "cannot save image: 18792\n"
     ]
    },
    {
     "name": "stderr",
     "output_type": "stream",
     "text": [
      "18821it [21:30, 32.23it/s]"
     ]
    },
    {
     "name": "stdout",
     "output_type": "stream",
     "text": [
      "value of mean pixel is too similar. Ignore this image\n",
      "resized_img_st \n",
      " [253.52601156069363, 253.52601156069363, 253.52601156069363, 210.0693641618497]\n",
      "background_img_st \n",
      " [72.7251275510204, 74.7251275510204, 71.58227040816327, 255.0]\n",
      "cannot save image: 18816\n"
     ]
    },
    {
     "name": "stderr",
     "output_type": "stream",
     "text": [
      "18916it [21:33, 27.66it/s]"
     ]
    },
    {
     "name": "stdout",
     "output_type": "stream",
     "text": [
      "value of mean pixel is too similar. Ignore this image\n",
      "resized_img_st \n",
      " [253.79146919431278, 253.79146919431278, 253.79146919431278, 148.9383886255924]\n",
      "background_img_st \n",
      " [70.83417792792793, 70.83417792792793, 70.83417792792793, 255.0]\n",
      "cannot save image: 18912\n"
     ]
    },
    {
     "name": "stderr",
     "output_type": "stream",
     "text": [
      "18939it [21:34, 34.58it/s]"
     ]
    },
    {
     "name": "stdout",
     "output_type": "stream",
     "text": [
      "value of mean pixel is too similar. Ignore this image\n",
      "resized_img_st \n",
      " [255.0, 255.0, 255.0, 202.10282776349615]\n",
      "background_img_st \n",
      " [71.1609375, 71.1609375, 71.1609375, 255.0]\n",
      "cannot save image: 18934\n"
     ]
    },
    {
     "name": "stderr",
     "output_type": "stream",
     "text": [
      "18959it [21:34, 39.87it/s]"
     ]
    },
    {
     "name": "stdout",
     "output_type": "stream",
     "text": [
      "value of mean pixel is too similar. Ignore this image\n",
      "resized_img_st \n",
      " [255.0, 255.0, 255.0, 179.2215743440233]\n",
      "background_img_st \n",
      " [71.67075892857143, 71.67075892857143, 71.67075892857143, 255.0]\n",
      "cannot save image: 18952\n"
     ]
    },
    {
     "name": "stderr",
     "output_type": "stream",
     "text": [
      "19202it [21:42, 32.28it/s]"
     ]
    },
    {
     "name": "stdout",
     "output_type": "stream",
     "text": [
      "value of mean pixel is too similar. Ignore this image\n",
      "resized_img_st \n",
      " [255.0, 255.0, 255.0, 204.35521235521236]\n",
      "background_img_st \n",
      " [73.91276041666667, 73.91276041666667, 73.91276041666667, 255.0]\n",
      "cannot save image: 19196\n"
     ]
    },
    {
     "name": "stderr",
     "output_type": "stream",
     "text": [
      "19562it [21:53, 35.47it/s]"
     ]
    },
    {
     "name": "stdout",
     "output_type": "stream",
     "text": [
      "value of mean pixel is too similar. Ignore this image\n",
      "resized_img_st \n",
      " [255.0, 255.0, 255.0, 211.93939393939394]\n",
      "background_img_st \n",
      " [70.80446428571429, 70.80446428571429, 70.80446428571429, 255.0]\n",
      "cannot save image: 19557\n"
     ]
    },
    {
     "name": "stderr",
     "output_type": "stream",
     "text": [
      "19584it [21:54, 29.70it/s]"
     ]
    },
    {
     "name": "stdout",
     "output_type": "stream",
     "text": [
      "value of mean pixel is too similar. Ignore this image\n",
      "resized_img_st \n",
      " [255.0, 255.0, 255.0, 214.44444444444446]\n",
      "background_img_st \n",
      " [76.79741379310344, 76.79741379310344, 76.79741379310344, 255.0]\n",
      "cannot save image: 19580\n"
     ]
    },
    {
     "name": "stderr",
     "output_type": "stream",
     "text": [
      "19596it [21:55, 31.87it/s]"
     ]
    },
    {
     "name": "stdout",
     "output_type": "stream",
     "text": [
      "value of mean pixel is too similar. Ignore this image\n",
      "resized_img_st \n",
      " [255.0, 255.0, 255.0, 210.77857142857144]\n",
      "background_img_st \n",
      " [74.70599489795919, 74.70599489795919, 74.70599489795919, 255.0]\n",
      "cannot save image: 19592\n"
     ]
    },
    {
     "name": "stderr",
     "output_type": "stream",
     "text": [
      "19645it [21:56, 37.58it/s]"
     ]
    },
    {
     "name": "stdout",
     "output_type": "stream",
     "text": [
      "value of mean pixel is too similar. Ignore this image\n",
      "resized_img_st \n",
      " [255.0, 255.0, 255.0, 209.4506172839506]\n",
      "background_img_st \n",
      " [74.2734375, 74.2734375, 74.2734375, 255.0]\n",
      "cannot save image: 19640\n"
     ]
    },
    {
     "name": "stderr",
     "output_type": "stream",
     "text": [
      "19759it [21:59, 36.47it/s]"
     ]
    },
    {
     "name": "stdout",
     "output_type": "stream",
     "text": [
      "value of mean pixel is too similar. Ignore this image\n",
      "resized_img_st \n",
      " [255.0, 255.0, 255.0, 221.92]\n",
      "background_img_st \n",
      " [72.15346534653466, 72.15346534653466, 72.15346534653466, 255.0]\n",
      "cannot save image: 19755\n"
     ]
    },
    {
     "name": "stderr",
     "output_type": "stream",
     "text": [
      "19959it [22:05, 37.72it/s]"
     ]
    },
    {
     "name": "stdout",
     "output_type": "stream",
     "text": [
      "value of mean pixel is too similar. Ignore this image\n",
      "resized_img_st \n",
      " [255.0, 255.0, 255.0, 220.88392857142858]\n",
      "background_img_st \n",
      " [71.0814144736842, 71.0814144736842, 71.0814144736842, 255.0]\n",
      "cannot save image: 19953\n"
     ]
    },
    {
     "name": "stderr",
     "output_type": "stream",
     "text": [
      "20146it [22:11, 38.84it/s]"
     ]
    },
    {
     "name": "stdout",
     "output_type": "stream",
     "text": [
      "value of mean pixel is too similar. Ignore this image\n",
      "resized_img_st \n",
      " [252.64976958525347, 252.64976958525347, 252.64976958525347, 201.55299539170508]\n",
      "background_img_st \n",
      " [74.17729591836735, 74.17729591836735, 74.17729591836735, 255.0]\n",
      "cannot save image: 20142\n"
     ]
    },
    {
     "name": "stderr",
     "output_type": "stream",
     "text": [
      "20160it [22:12, 34.92it/s]"
     ]
    },
    {
     "name": "stdout",
     "output_type": "stream",
     "text": [
      "value of mean pixel is too similar. Ignore this image\n",
      "resized_img_st \n",
      " [255.0, 255.0, 255.0, 207.3730407523511]\n",
      "background_img_st \n",
      " [76.27872983870968, 76.27872983870968, 76.27872983870968, 255.0]\n",
      "cannot save image: 20154\n"
     ]
    },
    {
     "name": "stderr",
     "output_type": "stream",
     "text": [
      "20310it [22:16, 31.60it/s]"
     ]
    },
    {
     "name": "stdout",
     "output_type": "stream",
     "text": [
      "value of mean pixel is too similar. Ignore this image\n",
      "resized_img_st \n",
      " [255.0, 255.0, 255.0, 214.02739726027397]\n",
      "background_img_st \n",
      " [71.659375, 71.659375, 71.659375, 255.0]\n",
      "cannot save image: 20305\n"
     ]
    },
    {
     "name": "stderr",
     "output_type": "stream",
     "text": [
      "20394it [22:19, 29.89it/s]"
     ]
    },
    {
     "name": "stdout",
     "output_type": "stream",
     "text": [
      "value of mean pixel is too similar. Ignore this image\n",
      "resized_img_st \n",
      " [255.0, 255.0, 255.0, 213.99]\n",
      "background_img_st \n",
      " [72.68353174603175, 72.68353174603175, 72.68353174603175, 255.0]\n",
      "cannot save image: 20390\n"
     ]
    },
    {
     "name": "stderr",
     "output_type": "stream",
     "text": [
      "20414it [22:19, 34.95it/s]"
     ]
    },
    {
     "name": "stdout",
     "output_type": "stream",
     "text": [
      "value of mean pixel is too similar. Ignore this image\n",
      "resized_img_st \n",
      " [255.0, 255.0, 255.0, 194.10416666666666]\n",
      "background_img_st \n",
      " [71.01318359375, 73.01318359375, 69.88427734375, 255.0]\n",
      "cannot save image: 20410\n"
     ]
    },
    {
     "name": "stderr",
     "output_type": "stream",
     "text": [
      "20592it [22:25, 38.30it/s]"
     ]
    },
    {
     "name": "stdout",
     "output_type": "stream",
     "text": [
      "value of mean pixel is too similar. Ignore this image\n",
      "resized_img_st \n",
      " [255.0, 255.0, 255.0, 183.02985074626866]\n",
      "background_img_st \n",
      " [72.69324712643679, 74.67564655172414, 71.558908045977, 255.0]\n",
      "cannot save image: 20585\n",
      "value of mean pixel is too similar. Ignore this image\n",
      "resized_img_st \n",
      " [255.0, 255.0, 255.0, 212.3146853146853]\n",
      "background_img_st \n",
      " [74.52906976744185, 74.52906976744185, 74.52906976744185, 255.0]\n",
      "cannot save image: 20588\n"
     ]
    },
    {
     "name": "stderr",
     "output_type": "stream",
     "text": [
      "20830it [22:33, 30.70it/s]"
     ]
    },
    {
     "name": "stdout",
     "output_type": "stream",
     "text": [
      "value of mean pixel is too similar. Ignore this image\n",
      "resized_img_st \n",
      " [255.0, 255.0, 255.0, 191.00985221674875]\n",
      "background_img_st \n",
      " [75.61886160714286, 77.52064732142857, 74.36272321428571, 255.0]\n",
      "cannot save image: 20824\n"
     ]
    },
    {
     "name": "stderr",
     "output_type": "stream",
     "text": [
      "20850it [22:34, 25.61it/s]"
     ]
    },
    {
     "name": "stdout",
     "output_type": "stream",
     "text": [
      "value of mean pixel is too similar. Ignore this image\n",
      "resized_img_st \n",
      " [255.0, 255.0, 255.0, 213.94017094017093]\n",
      "background_img_st \n",
      " [70.3143656716418, 70.3143656716418, 70.3143656716418, 255.0]\n",
      "cannot save image: 20847\n"
     ]
    },
    {
     "name": "stderr",
     "output_type": "stream",
     "text": [
      "21004it [22:43, 10.13it/s]"
     ]
    },
    {
     "name": "stdout",
     "output_type": "stream",
     "text": [
      "value of mean pixel is too similar. Ignore this image\n",
      "resized_img_st \n",
      " [255.0, 255.0, 255.0, 213.3862433862434]\n",
      "background_img_st \n",
      " [70.53802083333333, 72.50416666666666, 69.47604166666666, 255.0]\n",
      "cannot save image: 21002\n"
     ]
    },
    {
     "name": "stderr",
     "output_type": "stream",
     "text": [
      "21204it [23:05, 11.59it/s]"
     ]
    },
    {
     "name": "stdout",
     "output_type": "stream",
     "text": [
      "value of mean pixel is too similar. Ignore this image\n",
      "resized_img_st \n",
      " [255.0, 255.0, 255.0, 183.43333333333334]\n",
      "background_img_st \n",
      " [71.54488636363637, 71.54488636363637, 71.54488636363637, 255.0]\n",
      "cannot save image: 21203\n"
     ]
    },
    {
     "name": "stderr",
     "output_type": "stream",
     "text": [
      "21240it [23:12,  4.33it/s]"
     ]
    },
    {
     "name": "stdout",
     "output_type": "stream",
     "text": [
      "value of mean pixel is too similar. Ignore this image\n",
      "resized_img_st \n",
      " [255.0, 255.0, 255.0, 209.3963133640553]\n",
      "background_img_st \n",
      " [72.56, 72.56, 72.56, 255.0]\n",
      "cannot save image: 21240\n"
     ]
    },
    {
     "name": "stderr",
     "output_type": "stream",
     "text": [
      "21353it [23:28, 10.65it/s]"
     ]
    },
    {
     "name": "stdout",
     "output_type": "stream",
     "text": [
      "value of mean pixel is too similar. Ignore this image\n",
      "resized_img_st \n",
      " [255.0, 255.0, 255.0, 212.80235294117648]\n",
      "background_img_st \n",
      " [71.47511061946902, 71.47511061946902, 71.47511061946902, 255.0]\n",
      "cannot save image: 21351\n"
     ]
    },
    {
     "name": "stderr",
     "output_type": "stream",
     "text": [
      "21378it [23:30, 11.69it/s]"
     ]
    },
    {
     "name": "stdout",
     "output_type": "stream",
     "text": [
      "value of mean pixel is too similar. Ignore this image\n",
      "resized_img_st \n",
      " [253.0596068484464, 253.0596068484464, 253.0596068484464, 184.6563094483196]\n",
      "background_img_st \n",
      " [69.82244022869023, 69.82516891891892, 69.81198024948024, 255.0]\n",
      "cannot save image: 21378\n"
     ]
    },
    {
     "name": "stderr",
     "output_type": "stream",
     "text": [
      "21545it [23:47, 11.90it/s]"
     ]
    },
    {
     "name": "stdout",
     "output_type": "stream",
     "text": [
      "value of mean pixel is too similar. Ignore this image\n",
      "resized_img_st \n",
      " [253.7560975609756, 253.7560975609756, 253.7560975609756, 205.67560975609757]\n",
      "background_img_st \n",
      " [70.45642605633803, 70.45642605633803, 70.45642605633803, 255.0]\n",
      "cannot save image: 21543\n"
     ]
    },
    {
     "name": "stderr",
     "output_type": "stream",
     "text": [
      "21555it [23:48, 11.68it/s]"
     ]
    },
    {
     "name": "stdout",
     "output_type": "stream",
     "text": [
      "value of mean pixel is too similar. Ignore this image\n",
      "resized_img_st \n",
      " [255.0, 255.0, 255.0, 206.5139318885449]\n",
      "background_img_st \n",
      " [71.39480198019803, 71.39480198019803, 71.39480198019803, 255.0]\n",
      "cannot save image: 21553\n"
     ]
    },
    {
     "name": "stderr",
     "output_type": "stream",
     "text": [
      "21634it [23:56, 17.76it/s]"
     ]
    },
    {
     "name": "stdout",
     "output_type": "stream",
     "text": [
      "value of mean pixel is too similar. Ignore this image\n",
      "resized_img_st \n",
      " [255.0, 255.0, 255.0, 193.76165803108807]\n",
      "background_img_st \n",
      " [72.66865808823529, 72.66865808823529, 72.66865808823529, 255.0]\n",
      "cannot save image: 21629\n"
     ]
    },
    {
     "name": "stderr",
     "output_type": "stream",
     "text": [
      "21766it [24:10, 10.66it/s]"
     ]
    },
    {
     "name": "stdout",
     "output_type": "stream",
     "text": [
      "value of mean pixel is too similar. Ignore this image\n",
      "resized_img_st \n",
      " [254.42929806714142, 254.42929806714142, 254.42929806714142, 210.51698880976602]\n",
      "background_img_st \n",
      " [69.65665351506456, 69.65665351506456, 69.65665351506456, 255.0]\n",
      "cannot save image: 21765\n"
     ]
    },
    {
     "name": "stderr",
     "output_type": "stream",
     "text": [
      "21835it [24:17, 10.40it/s]"
     ]
    },
    {
     "name": "stdout",
     "output_type": "stream",
     "text": [
      "value of mean pixel is too similar. Ignore this image\n",
      "resized_img_st \n",
      " [255.0, 255.0, 255.0, 210.37735849056602]\n",
      "background_img_st \n",
      " [71.00558035714286, 71.00558035714286, 71.00558035714286, 255.0]\n",
      "cannot save image: 21834\n"
     ]
    },
    {
     "name": "stderr",
     "output_type": "stream",
     "text": [
      "22176it [24:53, 10.22it/s]"
     ]
    },
    {
     "name": "stdout",
     "output_type": "stream",
     "text": [
      "value of mean pixel is too similar. Ignore this image\n",
      "resized_img_st \n",
      " [255.0, 255.0, 255.0, 192.59177215189874]\n",
      "background_img_st \n",
      " [70.38858695652173, 70.38858695652173, 70.38858695652173, 255.0]\n",
      "cannot save image: 22175\n"
     ]
    },
    {
     "name": "stderr",
     "output_type": "stream",
     "text": [
      "22557it [25:32, 11.25it/s]"
     ]
    },
    {
     "name": "stdout",
     "output_type": "stream",
     "text": [
      "value of mean pixel is too similar. Ignore this image\n",
      "resized_img_st \n",
      " [255.0, 255.0, 255.0, 206.62921348314606]\n",
      "background_img_st \n",
      " [70.85259955752213, 70.85259955752213, 70.85259955752213, 255.0]\n",
      "cannot save image: 22555\n"
     ]
    },
    {
     "name": "stderr",
     "output_type": "stream",
     "text": [
      "22798it [25:57, 10.40it/s]"
     ]
    },
    {
     "name": "stdout",
     "output_type": "stream",
     "text": [
      "value of mean pixel is too similar. Ignore this image\n",
      "resized_img_st \n",
      " [255.0, 255.0, 255.0, 208.76078431372548]\n",
      "background_img_st \n",
      " [74.28472222222223, 76.19618055555556, 72.99652777777777, 255.0]\n",
      "cannot save image: 22794\n"
     ]
    },
    {
     "name": "stderr",
     "output_type": "stream",
     "text": [
      "22812it [25:58, 11.03it/s]"
     ]
    },
    {
     "name": "stdout",
     "output_type": "stream",
     "text": [
      "value of mean pixel is too similar. Ignore this image\n",
      "resized_img_st \n",
      " [255.0, 255.0, 255.0, 204.82666666666665]\n",
      "background_img_st \n",
      " [72.70081967213115, 74.68442622950819, 71.56557377049181, 255.0]\n",
      "cannot save image: 22810\n"
     ]
    },
    {
     "name": "stderr",
     "output_type": "stream",
     "text": [
      "22939it [26:19,  5.40it/s]"
     ]
    },
    {
     "name": "stdout",
     "output_type": "stream",
     "text": [
      "value of mean pixel is too similar. Ignore this image\n",
      "resized_img_st \n",
      " [255.0, 255.0, 255.0, 196.023598820059]\n",
      "background_img_st \n",
      " [71.6309840425532, 71.6309840425532, 71.6309840425532, 255.0]\n",
      "cannot save image: 22937\n"
     ]
    },
    {
     "name": "stderr",
     "output_type": "stream",
     "text": [
      "23082it [26:31, 30.66it/s]"
     ]
    },
    {
     "name": "stdout",
     "output_type": "stream",
     "text": [
      "value of mean pixel is too similar. Ignore this image\n",
      "resized_img_st \n",
      " [255.0, 255.0, 255.0, 195.7593984962406]\n",
      "background_img_st \n",
      " [72.149375, 72.149375, 72.149375, 255.0]\n",
      "cannot save image: 23075\n",
      "value of mean pixel is too similar. Ignore this image\n",
      "resized_img_st \n",
      " [255.0, 255.0, 255.0, 206.17100371747213]\n",
      "background_img_st \n",
      " [74.23681640625, 74.23681640625, 74.23681640625, 255.0]\n",
      "cannot save image: 23076\n"
     ]
    },
    {
     "name": "stderr",
     "output_type": "stream",
     "text": [
      "23196it [26:34, 33.55it/s]"
     ]
    },
    {
     "name": "stdout",
     "output_type": "stream",
     "text": [
      "value of mean pixel is too similar. Ignore this image\n",
      "resized_img_st \n",
      " [251.4908256880734, 251.4908256880734, 251.4908256880734, 198.63761467889907]\n",
      "background_img_st \n",
      " [70.55150462962963, 70.55150462962963, 70.55150462962963, 255.0]\n",
      "cannot save image: 23190\n"
     ]
    },
    {
     "name": "stderr",
     "output_type": "stream",
     "text": [
      "23402it [26:41, 30.58it/s]"
     ]
    },
    {
     "name": "stdout",
     "output_type": "stream",
     "text": [
      "value of mean pixel is too similar. Ignore this image\n",
      "resized_img_st \n",
      " [255.0, 255.0, 255.0, 205.87410071942446]\n",
      "background_img_st \n",
      " [72.54579741379311, 74.55010775862068, 71.32758620689656, 255.0]\n",
      "cannot save image: 23397\n"
     ]
    },
    {
     "name": "stderr",
     "output_type": "stream",
     "text": [
      "23458it [26:43, 34.39it/s]"
     ]
    },
    {
     "name": "stdout",
     "output_type": "stream",
     "text": [
      "value of mean pixel is too similar. Ignore this image\n",
      "resized_img_st \n",
      " [249.65968586387436, 249.65968586387436, 249.65968586387436, 200.7696335078534]\n",
      "background_img_st \n",
      " [70.58908045977012, 70.58908045977012, 70.58908045977012, 255.0]\n",
      "cannot save image: 23449\n",
      "value of mean pixel is too similar. Ignore this image\n",
      "resized_img_st \n",
      " [254.29945054945054, 254.29945054945054, 254.29945054945054, 191.77197802197801]\n",
      "background_img_st \n",
      " [70.24739583333333, 70.24739583333333, 70.24739583333333, 255.0]\n",
      "cannot save image: 23452\n"
     ]
    },
    {
     "name": "stderr",
     "output_type": "stream",
     "text": [
      "23671it [26:50, 40.02it/s]"
     ]
    },
    {
     "name": "stdout",
     "output_type": "stream",
     "text": [
      "value of mean pixel is too similar. Ignore this image\n",
      "resized_img_st \n",
      " [255.0, 255.0, 255.0, 208.24242424242425]\n",
      "background_img_st \n",
      " [72.36635638297872, 72.36635638297872, 72.36635638297872, 255.0]\n",
      "cannot save image: 23664\n"
     ]
    },
    {
     "name": "stderr",
     "output_type": "stream",
     "text": [
      "23768it [26:53, 25.55it/s]"
     ]
    },
    {
     "name": "stdout",
     "output_type": "stream",
     "text": [
      "value of mean pixel is too similar. Ignore this image\n",
      "resized_img_st \n",
      " [255.0, 255.0, 255.0, 183.69565217391303]\n",
      "background_img_st \n",
      " [72.04800724637681, 72.04800724637681, 72.04800724637681, 255.0]\n",
      "cannot save image: 23765\n"
     ]
    },
    {
     "name": "stderr",
     "output_type": "stream",
     "text": [
      "23913it [26:58, 30.55it/s]"
     ]
    },
    {
     "name": "stdout",
     "output_type": "stream",
     "text": [
      "value of mean pixel is too similar. Ignore this image\n",
      "resized_img_st \n",
      " [255.0, 255.0, 255.0, 193.35966735966736]\n",
      "background_img_st \n",
      " [70.76134554140127, 70.76134554140127, 70.76134554140127, 255.0]\n",
      "cannot save image: 23907\n",
      "value of mean pixel is too similar. Ignore this image\n",
      "resized_img_st \n",
      " [255.0, 255.0, 255.0, 223.69793103448276]\n",
      "background_img_st \n",
      " [71.82221638655462, 71.82221638655462, 71.82221638655462, 255.0]\n",
      "cannot save image: 23913\n"
     ]
    },
    {
     "name": "stderr",
     "output_type": "stream",
     "text": [
      "24048it [27:02, 32.50it/s]"
     ]
    },
    {
     "name": "stdout",
     "output_type": "stream",
     "text": [
      "value of mean pixel is too similar. Ignore this image\n",
      "resized_img_st \n",
      " [255.0, 255.0, 255.0, 207.64380530973452]\n",
      "background_img_st \n",
      " [72.14352876106194, 72.14352876106194, 72.14352876106194, 255.0]\n",
      "cannot save image: 24042\n"
     ]
    },
    {
     "name": "stderr",
     "output_type": "stream",
     "text": [
      "24140it [27:05, 36.21it/s]"
     ]
    },
    {
     "name": "stdout",
     "output_type": "stream",
     "text": [
      "value of mean pixel is too similar. Ignore this image\n",
      "resized_img_st \n",
      " [255.0, 255.0, 255.0, 192.24770642201835]\n",
      "background_img_st \n",
      " [73.96976902173913, 73.96976902173913, 73.96976902173913, 255.0]\n",
      "cannot save image: 24136\n"
     ]
    },
    {
     "name": "stderr",
     "output_type": "stream",
     "text": [
      "24216it [27:07, 40.05it/s]"
     ]
    },
    {
     "name": "stdout",
     "output_type": "stream",
     "text": [
      "value of mean pixel is too similar. Ignore this image\n",
      "resized_img_st \n",
      " [255.0, 255.0, 255.0, 211.37623762376236]\n",
      "background_img_st \n",
      " [70.92865044247787, 70.92865044247787, 70.92865044247787, 255.0]\n",
      "cannot save image: 24210\n"
     ]
    },
    {
     "name": "stderr",
     "output_type": "stream",
     "text": [
      "24261it [27:09, 33.21it/s]"
     ]
    },
    {
     "name": "stdout",
     "output_type": "stream",
     "text": [
      "value of mean pixel is too similar. Ignore this image\n",
      "resized_img_st \n",
      " [255.0, 255.0, 255.0, 202.84242424242424]\n",
      "background_img_st \n",
      " [72.04552801724138, 72.04552801724138, 72.04552801724138, 255.0]\n",
      "cannot save image: 24256\n"
     ]
    },
    {
     "name": "stderr",
     "output_type": "stream",
     "text": [
      "24412it [27:14, 29.05it/s]"
     ]
    },
    {
     "name": "stdout",
     "output_type": "stream",
     "text": [
      "value of mean pixel is too similar. Ignore this image\n",
      "resized_img_st \n",
      " [255.0, 255.0, 255.0, 173.50234741784038]\n",
      "background_img_st \n",
      " [70.06591796875, 70.06591796875, 70.06591796875, 255.0]\n",
      "cannot save image: 24407\n"
     ]
    },
    {
     "name": "stderr",
     "output_type": "stream",
     "text": [
      "24637it [27:21, 28.90it/s]"
     ]
    },
    {
     "name": "stdout",
     "output_type": "stream",
     "text": [
      "value of mean pixel is too similar. Ignore this image\n",
      "resized_img_st \n",
      " [255.0, 255.0, 255.0, 209.67241379310346]\n",
      "background_img_st \n",
      " [71.57302631578948, 71.57302631578948, 71.57302631578948, 255.0]\n",
      "cannot save image: 24632\n"
     ]
    },
    {
     "name": "stderr",
     "output_type": "stream",
     "text": [
      "24650it [27:21, 28.58it/s]"
     ]
    },
    {
     "name": "stdout",
     "output_type": "stream",
     "text": [
      "value of mean pixel is too similar. Ignore this image\n",
      "resized_img_st \n",
      " [255.0, 255.0, 255.0, 211.04693140794222]\n",
      "background_img_st \n",
      " [73.13627049180327, 73.13627049180327, 73.13627049180327, 255.0]\n",
      "cannot save image: 24644\n"
     ]
    },
    {
     "name": "stderr",
     "output_type": "stream",
     "text": [
      "24817it [27:27, 34.00it/s]"
     ]
    },
    {
     "name": "stdout",
     "output_type": "stream",
     "text": [
      "value of mean pixel is too similar. Ignore this image\n",
      "resized_img_st \n",
      " [254.29362880886427, 254.29362880886427, 254.29362880886427, 197.53739612188366]\n",
      "background_img_st \n",
      " [76.301171875, 78.209375, 74.93515625, 255.0]\n",
      "cannot save image: 24814\n"
     ]
    },
    {
     "name": "stderr",
     "output_type": "stream",
     "text": [
      "25049it [27:35, 31.63it/s]"
     ]
    },
    {
     "name": "stdout",
     "output_type": "stream",
     "text": [
      "value of mean pixel is too similar. Ignore this image\n",
      "resized_img_st \n",
      " [255.0, 255.0, 255.0, 199.3904761904762]\n",
      "background_img_st \n",
      " [72.99441964285714, 72.99441964285714, 72.99441964285714, 255.0]\n",
      "cannot save image: 25045\n"
     ]
    },
    {
     "name": "stderr",
     "output_type": "stream",
     "text": [
      "25101it [27:37, 27.81it/s]"
     ]
    },
    {
     "name": "stdout",
     "output_type": "stream",
     "text": [
      "value of mean pixel is too similar. Ignore this image\n",
      "resized_img_st \n",
      " [254.53125, 254.53125, 254.53125, 195.40808823529412]\n",
      "background_img_st \n",
      " [71.10766129032258, 71.10766129032258, 71.10766129032258, 255.0]\n",
      "cannot save image: 25096\n"
     ]
    },
    {
     "name": "stderr",
     "output_type": "stream",
     "text": [
      "25107it [27:37, 24.26it/s]"
     ]
    },
    {
     "name": "stdout",
     "output_type": "stream",
     "text": [
      "value of mean pixel is too similar. Ignore this image\n",
      "resized_img_st \n",
      " [255.0, 255.0, 255.0, 166.32390745501286]\n",
      "background_img_st \n",
      " [70.33545197740114, 70.3393361581921, 70.31797316384181, 255.0]\n",
      "cannot save image: 25105\n"
     ]
    },
    {
     "name": "stderr",
     "output_type": "stream",
     "text": [
      "25282it [27:52,  9.33it/s]"
     ]
    },
    {
     "name": "stdout",
     "output_type": "stream",
     "text": [
      "value of mean pixel is too similar. Ignore this image\n",
      "resized_img_st \n",
      " [255.0, 255.0, 255.0, 199.17843866171003]\n",
      "background_img_st \n",
      " [72.60983910891089, 74.55074257425743, 71.38954207920793, 255.0]\n",
      "cannot save image: 25280\n"
     ]
    },
    {
     "name": "stderr",
     "output_type": "stream",
     "text": [
      "25286it [27:53, 10.09it/s]"
     ]
    },
    {
     "name": "stdout",
     "output_type": "stream",
     "text": [
      "value of mean pixel is too similar. Ignore this image\n",
      "resized_img_st \n",
      " [255.0, 255.0, 255.0, 208.5785123966942]\n",
      "background_img_st \n",
      " [71.0929054054054, 71.0929054054054, 71.0929054054054, 255.0]\n",
      "cannot save image: 25284\n"
     ]
    },
    {
     "name": "stderr",
     "output_type": "stream",
     "text": [
      "25408it [28:06, 10.54it/s]"
     ]
    },
    {
     "name": "stdout",
     "output_type": "stream",
     "text": [
      "value of mean pixel is too similar. Ignore this image\n",
      "resized_img_st \n",
      " [255.0, 255.0, 255.0, 209.06451612903226]\n",
      "background_img_st \n",
      " [71.1846590909091, 71.1846590909091, 71.1846590909091, 255.0]\n",
      "cannot save image: 25405\n"
     ]
    },
    {
     "name": "stderr",
     "output_type": "stream",
     "text": [
      "25590it [28:25,  9.70it/s]"
     ]
    },
    {
     "name": "stdout",
     "output_type": "stream",
     "text": [
      "value of mean pixel is too similar. Ignore this image\n",
      "resized_img_st \n",
      " [254.5179584120983, 254.5179584120983, 254.5179584120983, 203.97731568998108]\n",
      "background_img_st \n",
      " [70.47131147540983, 70.47131147540983, 70.47131147540983, 255.0]\n",
      "cannot save image: 25588\n"
     ]
    },
    {
     "name": "stderr",
     "output_type": "stream",
     "text": [
      "25679it [28:34, 10.71it/s]"
     ]
    },
    {
     "name": "stdout",
     "output_type": "stream",
     "text": [
      "value of mean pixel is too similar. Ignore this image\n",
      "resized_img_st \n",
      " [255.0, 255.0, 255.0, 214.83450704225353]\n",
      "background_img_st \n",
      " [75.54114583333333, 75.54114583333333, 75.54114583333333, 255.0]\n",
      "cannot save image: 25677\n"
     ]
    },
    {
     "name": "stderr",
     "output_type": "stream",
     "text": [
      "25713it [28:38, 11.98it/s]"
     ]
    },
    {
     "name": "stdout",
     "output_type": "stream",
     "text": [
      "value of mean pixel is too similar. Ignore this image\n",
      "resized_img_st \n",
      " [255.0, 255.0, 255.0, 183.67241379310346]\n",
      "background_img_st \n",
      " [70.61616847826087, 70.61616847826087, 70.61616847826087, 255.0]\n",
      "cannot save image: 25709\n"
     ]
    },
    {
     "name": "stderr",
     "output_type": "stream",
     "text": [
      "25785it [28:44, 14.38it/s]"
     ]
    },
    {
     "name": "stdout",
     "output_type": "stream",
     "text": [
      "value of mean pixel is too similar. Ignore this image\n",
      "resized_img_st \n",
      " [255.0, 255.0, 255.0, 218.86859133897462]\n",
      "background_img_st \n",
      " [70.26120797011208, 70.26307596513075, 70.25385273972603, 255.0]\n",
      "cannot save image: 25784\n"
     ]
    },
    {
     "name": "stderr",
     "output_type": "stream",
     "text": [
      "26007it [29:10,  5.49it/s]"
     ]
    },
    {
     "name": "stdout",
     "output_type": "stream",
     "text": [
      "value of mean pixel is too similar. Ignore this image\n",
      "resized_img_st \n",
      " [255.0, 255.0, 255.0, 207.28571428571428]\n",
      "background_img_st \n",
      " [72.7703373015873, 72.7703373015873, 72.7703373015873, 255.0]\n",
      "cannot save image: 26007\n"
     ]
    },
    {
     "name": "stderr",
     "output_type": "stream",
     "text": [
      "26012it [29:11,  6.54it/s]"
     ]
    },
    {
     "name": "stdout",
     "output_type": "stream",
     "text": [
      "value of mean pixel is too similar. Ignore this image\n",
      "resized_img_st \n",
      " [255.0, 255.0, 255.0, 197.73929961089493]\n",
      "background_img_st \n",
      " [73.91707920792079, 73.91707920792079, 73.91707920792079, 255.0]\n",
      "cannot save image: 26012\n"
     ]
    },
    {
     "name": "stderr",
     "output_type": "stream",
     "text": [
      "26034it [29:14,  7.58it/s]"
     ]
    },
    {
     "name": "stdout",
     "output_type": "stream",
     "text": [
      "value of mean pixel is too similar. Ignore this image\n",
      "resized_img_st \n",
      " [255.0, 255.0, 255.0, 212.95343680709536]\n",
      "background_img_st \n",
      " [70.71223958333333, 70.71223958333333, 70.71223958333333, 255.0]\n",
      "cannot save image: 26031\n"
     ]
    },
    {
     "name": "stderr",
     "output_type": "stream",
     "text": [
      "26286it [29:45, 12.69it/s]"
     ]
    },
    {
     "name": "stdout",
     "output_type": "stream",
     "text": [
      "value of mean pixel is too similar. Ignore this image\n",
      "resized_img_st \n",
      " [255.0, 255.0, 255.0, 202.42801556420233]\n",
      "background_img_st \n",
      " [73.36743951612904, 75.36743951612904, 72.1194556451613, 255.0]\n",
      "cannot save image: 26284\n"
     ]
    },
    {
     "name": "stderr",
     "output_type": "stream",
     "text": [
      "26339it [29:50, 11.99it/s]"
     ]
    },
    {
     "name": "stdout",
     "output_type": "stream",
     "text": [
      "value of mean pixel is too similar. Ignore this image\n",
      "resized_img_st \n",
      " [253.8815789473684, 253.8815789473684, 253.8815789473684, 198.32236842105263]\n",
      "background_img_st \n",
      " [73.32990056818181, 73.32990056818181, 73.32990056818181, 255.0]\n",
      "cannot save image: 26338\n"
     ]
    },
    {
     "name": "stderr",
     "output_type": "stream",
     "text": [
      "26489it [30:05, 11.71it/s]"
     ]
    },
    {
     "name": "stdout",
     "output_type": "stream",
     "text": [
      "value of mean pixel is too similar. Ignore this image\n",
      "resized_img_st \n",
      " [255.0, 255.0, 255.0, 211.8031496062992]\n",
      "background_img_st \n",
      " [71.01025390625, 71.01025390625, 71.01025390625, 255.0]\n",
      "cannot save image: 26485\n"
     ]
    },
    {
     "name": "stderr",
     "output_type": "stream",
     "text": [
      "26520it [30:08, 14.70it/s]"
     ]
    },
    {
     "name": "stdout",
     "output_type": "stream",
     "text": [
      "value of mean pixel is too similar. Ignore this image\n",
      "resized_img_st \n",
      " [254.498031496063, 254.498031496063, 254.498031496063, 202.01181102362204]\n",
      "background_img_st \n",
      " [70.35964439655173, 70.35964439655173, 70.35964439655173, 255.0]\n",
      "cannot save image: 26518\n"
     ]
    },
    {
     "name": "stderr",
     "output_type": "stream",
     "text": [
      "27103it [31:12, 12.95it/s]"
     ]
    },
    {
     "name": "stdout",
     "output_type": "stream",
     "text": [
      "value of mean pixel is too similar. Ignore this image\n",
      "resized_img_st \n",
      " [255.0, 255.0, 255.0, 179.52786885245902]\n",
      "background_img_st \n",
      " [70.03230337078652, 71.99508426966293, 68.93679775280899, 255.0]\n",
      "cannot save image: 27101\n"
     ]
    },
    {
     "name": "stderr",
     "output_type": "stream",
     "text": [
      "27135it [31:15,  9.16it/s]"
     ]
    },
    {
     "name": "stdout",
     "output_type": "stream",
     "text": [
      "value of mean pixel is too similar. Ignore this image\n",
      "resized_img_st \n",
      " [255.0, 255.0, 255.0, 203.64777327935224]\n",
      "background_img_st \n",
      " [70.08085317460318, 72.08085317460318, 68.98462301587301, 255.0]\n",
      "cannot save image: 27132\n"
     ]
    },
    {
     "name": "stderr",
     "output_type": "stream",
     "text": [
      "27290it [31:29, 33.19it/s]"
     ]
    },
    {
     "name": "stdout",
     "output_type": "stream",
     "text": [
      "value of mean pixel is too similar. Ignore this image\n",
      "resized_img_st \n",
      " [255.0, 255.0, 255.0, 190.48984198645599]\n",
      "background_img_st \n",
      " [71.10339506172839, 71.10339506172839, 71.10339506172839, 255.0]\n",
      "cannot save image: 27283\n"
     ]
    },
    {
     "name": "stderr",
     "output_type": "stream",
     "text": [
      "27489it [31:35, 31.44it/s]"
     ]
    },
    {
     "name": "stdout",
     "output_type": "stream",
     "text": [
      "value of mean pixel is too similar. Ignore this image\n",
      "resized_img_st \n",
      " [255.0, 255.0, 255.0, 212.15533980582524]\n",
      "background_img_st \n",
      " [76.51488095238095, 78.49503968253968, 75.28571428571429, 255.0]\n",
      "cannot save image: 27482\n"
     ]
    },
    {
     "name": "stderr",
     "output_type": "stream",
     "text": [
      "27816it [31:46, 32.13it/s]"
     ]
    },
    {
     "name": "stdout",
     "output_type": "stream",
     "text": [
      "value of mean pixel is too similar. Ignore this image\n",
      "resized_img_st \n",
      " [255.0, 255.0, 255.0, 141.90731707317073]\n",
      "background_img_st \n",
      " [70.19048913043478, 70.19048913043478, 70.19048913043478, 255.0]\n",
      "cannot save image: 27810\n"
     ]
    },
    {
     "name": "stderr",
     "output_type": "stream",
     "text": [
      "27824it [31:46, 31.93it/s]"
     ]
    },
    {
     "name": "stdout",
     "output_type": "stream",
     "text": [
      "value of mean pixel is too similar. Ignore this image\n",
      "resized_img_st \n",
      " [255.0, 255.0, 255.0, 214.56028368794327]\n",
      "background_img_st \n",
      " [70.6630859375, 72.60498046875, 69.58203125, 255.0]\n",
      "cannot save image: 27819\n"
     ]
    },
    {
     "name": "stderr",
     "output_type": "stream",
     "text": [
      "27858it [31:47, 32.90it/s]"
     ]
    },
    {
     "name": "stdout",
     "output_type": "stream",
     "text": [
      "value of mean pixel is too similar. Ignore this image\n",
      "resized_img_st \n",
      " [255.0, 255.0, 255.0, 196.76237623762376]\n",
      "background_img_st \n",
      " [71.95368303571429, 71.95368303571429, 71.95368303571429, 255.0]\n",
      "cannot save image: 27853\n"
     ]
    },
    {
     "name": "stderr",
     "output_type": "stream",
     "text": [
      "27867it [31:47, 35.86it/s]"
     ]
    },
    {
     "name": "stdout",
     "output_type": "stream",
     "text": [
      "value of mean pixel is too similar. Ignore this image\n",
      "resized_img_st \n",
      " [253.70994940978076, 253.70994940978076, 253.70994940978076, 191.59865092748734]\n",
      "background_img_st \n",
      " [69.63934426229508, 69.63934426229508, 69.63934426229508, 255.0]\n",
      "cannot save image: 27862\n"
     ]
    },
    {
     "name": "stderr",
     "output_type": "stream",
     "text": [
      "28232it [31:59, 32.87it/s]"
     ]
    },
    {
     "name": "stdout",
     "output_type": "stream",
     "text": [
      "value of mean pixel is too similar. Ignore this image\n",
      "resized_img_st \n",
      " [252.54019292604502, 252.54019292604502, 252.54019292604502, 190.79099678456592]\n",
      "background_img_st \n",
      " [72.21921641791045, 72.21921641791045, 72.21921641791045, 255.0]\n",
      "cannot save image: 28228\n"
     ]
    },
    {
     "name": "stderr",
     "output_type": "stream",
     "text": [
      "28270it [32:00, 32.03it/s]"
     ]
    },
    {
     "name": "stdout",
     "output_type": "stream",
     "text": [
      "value of mean pixel is too similar. Ignore this image\n",
      "resized_img_st \n",
      " [255.0, 255.0, 255.0, 211.46067415730337]\n",
      "background_img_st \n",
      " [70.1765873015873, 70.1765873015873, 70.1765873015873, 255.0]\n",
      "cannot save image: 28268\n"
     ]
    },
    {
     "name": "stderr",
     "output_type": "stream",
     "text": [
      "28308it [32:01, 29.97it/s]"
     ]
    },
    {
     "name": "stdout",
     "output_type": "stream",
     "text": [
      "value of mean pixel is too similar. Ignore this image\n",
      "resized_img_st \n",
      " [255.0, 255.0, 255.0, 208.37142857142857]\n",
      "background_img_st \n",
      " [72.9238782051282, 72.9238782051282, 72.9238782051282, 255.0]\n",
      "cannot save image: 28304\n"
     ]
    },
    {
     "name": "stderr",
     "output_type": "stream",
     "text": [
      "28335it [32:02, 32.77it/s]"
     ]
    },
    {
     "name": "stdout",
     "output_type": "stream",
     "text": [
      "value of mean pixel is too similar. Ignore this image\n",
      "resized_img_st \n",
      " [255.0, 255.0, 255.0, 193.54014598540147]\n",
      "background_img_st \n",
      " [72.24283854166667, 72.24283854166667, 72.24283854166667, 255.0]\n",
      "cannot save image: 28331\n"
     ]
    },
    {
     "name": "stderr",
     "output_type": "stream",
     "text": [
      "28391it [32:04, 38.83it/s]"
     ]
    },
    {
     "name": "stdout",
     "output_type": "stream",
     "text": [
      "value of mean pixel is too similar. Ignore this image\n",
      "resized_img_st \n",
      " [255.0, 255.0, 255.0, 189.3470588235294]\n",
      "background_img_st \n",
      " [75.0281862745098, 76.9908088235294, 73.76470588235294, 255.0]\n",
      "cannot save image: 28385\n"
     ]
    },
    {
     "name": "stderr",
     "output_type": "stream",
     "text": [
      "28402it [32:04, 38.43it/s]"
     ]
    },
    {
     "name": "stdout",
     "output_type": "stream",
     "text": [
      "value of mean pixel is too similar. Ignore this image\n",
      "resized_img_st \n",
      " [255.0, 255.0, 255.0, 219.14697488584474]\n",
      "background_img_st \n",
      " [70.35888392857143, 70.36022321428571, 70.35321428571429, 255.0]\n",
      "cannot save image: 28394\n"
     ]
    },
    {
     "name": "stderr",
     "output_type": "stream",
     "text": [
      "28500it [32:07, 40.30it/s]"
     ]
    },
    {
     "name": "stdout",
     "output_type": "stream",
     "text": [
      "value of mean pixel is too similar. Ignore this image\n",
      "resized_img_st \n",
      " [255.0, 255.0, 255.0, 205.78242677824267]\n",
      "background_img_st \n",
      " [75.13368055555556, 75.13368055555556, 75.13368055555556, 255.0]\n",
      "cannot save image: 28490\n"
     ]
    },
    {
     "name": "stderr",
     "output_type": "stream",
     "text": [
      "28519it [32:07, 34.88it/s]"
     ]
    },
    {
     "name": "stdout",
     "output_type": "stream",
     "text": [
      "value of mean pixel is too similar. Ignore this image\n",
      "resized_img_st \n",
      " [254.28969359331475, 254.28969359331475, 254.28969359331475, 205.56267409470752]\n",
      "background_img_st \n",
      " [70.13541666666667, 70.13541666666667, 70.13541666666667, 255.0]\n",
      "cannot save image: 28512\n"
     ]
    },
    {
     "name": "stderr",
     "output_type": "stream",
     "text": [
      "28589it [32:09, 32.04it/s]"
     ]
    },
    {
     "name": "stdout",
     "output_type": "stream",
     "text": [
      "value of mean pixel is too similar. Ignore this image\n",
      "resized_img_st \n",
      " [255.0, 255.0, 255.0, 179.93421052631578]\n",
      "background_img_st \n",
      " [73.05147058823529, 73.05147058823529, 73.05147058823529, 255.0]\n",
      "cannot save image: 28583\n"
     ]
    },
    {
     "name": "stderr",
     "output_type": "stream",
     "text": [
      "28612it [32:10, 31.42it/s]"
     ]
    },
    {
     "name": "stdout",
     "output_type": "stream",
     "text": [
      "value of mean pixel is too similar. Ignore this image\n",
      "resized_img_st \n",
      " [255.0, 255.0, 255.0, 215.00265957446808]\n",
      "background_img_st \n",
      " [70.3652052238806, 70.3652052238806, 70.3652052238806, 255.0]\n",
      "cannot save image: 28605\n"
     ]
    },
    {
     "name": "stderr",
     "output_type": "stream",
     "text": [
      "28629it [32:11, 34.98it/s]"
     ]
    },
    {
     "name": "stdout",
     "output_type": "stream",
     "text": [
      "value of mean pixel is too similar. Ignore this image\n",
      "resized_img_st \n",
      " [255.0, 255.0, 255.0, 187.54584221748402]\n",
      "background_img_st \n",
      " [71.2594696969697, 71.2594696969697, 71.2594696969697, 255.0]\n",
      "cannot save image: 28623\n"
     ]
    },
    {
     "name": "stderr",
     "output_type": "stream",
     "text": [
      "28852it [32:18, 35.79it/s]"
     ]
    },
    {
     "name": "stdout",
     "output_type": "stream",
     "text": [
      "value of mean pixel is too similar. Ignore this image\n",
      "resized_img_st \n",
      " [252.96, 252.96, 252.96, 194.5]\n",
      "background_img_st \n",
      " [70.67891483516483, 70.67891483516483, 70.67891483516483, 255.0]\n",
      "cannot save image: 28846\n"
     ]
    },
    {
     "name": "stderr",
     "output_type": "stream",
     "text": [
      "28971it [32:21, 30.14it/s]"
     ]
    },
    {
     "name": "stdout",
     "output_type": "stream",
     "text": [
      "value of mean pixel is too similar. Ignore this image\n",
      "resized_img_st \n",
      " [254.3625, 254.3625, 254.3625, 199.555]\n",
      "background_img_st \n",
      " [71.23016826923077, 71.23016826923077, 71.23016826923077, 255.0]\n",
      "cannot save image: 28966\n"
     ]
    },
    {
     "name": "stderr",
     "output_type": "stream",
     "text": [
      "29036it [32:24, 30.16it/s]"
     ]
    },
    {
     "name": "stdout",
     "output_type": "stream",
     "text": [
      "value of mean pixel is too similar. Ignore this image\n",
      "resized_img_st \n",
      " [254.35671039354187, 254.35671039354187, 254.35671039354187, 209.37033299697276]\n",
      "background_img_st \n",
      " [69.90828924162257, 69.90828924162257, 69.90828924162257, 255.0]\n",
      "cannot save image: 29031\n"
     ]
    },
    {
     "name": "stderr",
     "output_type": "stream",
     "text": [
      "29061it [32:24, 29.92it/s]"
     ]
    },
    {
     "name": "stdout",
     "output_type": "stream",
     "text": [
      "value of mean pixel is too similar. Ignore this image\n",
      "resized_img_st \n",
      " [255.0, 255.0, 255.0, 217.16353383458647]\n",
      "background_img_st \n",
      " [73.69068287037037, 73.69068287037037, 73.69068287037037, 255.0]\n",
      "cannot save image: 29055\n"
     ]
    },
    {
     "name": "stderr",
     "output_type": "stream",
     "text": [
      "29287it [32:33, 30.45it/s]"
     ]
    },
    {
     "name": "stdout",
     "output_type": "stream",
     "text": [
      "value of mean pixel is too similar. Ignore this image\n",
      "resized_img_st \n",
      " [255.0, 255.0, 255.0, 197.23798627002287]\n",
      "background_img_st \n",
      " [72.42658390410959, 72.42658390410959, 72.42658390410959, 255.0]\n",
      "cannot save image: 29281\n"
     ]
    },
    {
     "name": "stderr",
     "output_type": "stream",
     "text": [
      "29337it [32:38,  9.77it/s]"
     ]
    },
    {
     "name": "stdout",
     "output_type": "stream",
     "text": [
      "value of mean pixel is too similar. Ignore this image\n",
      "resized_img_st \n",
      " [255.0, 255.0, 255.0, 199.60093896713616]\n",
      "background_img_st \n",
      " [73.02455357142857, 73.02455357142857, 73.02455357142857, 255.0]\n",
      "cannot save image: 29335\n"
     ]
    },
    {
     "name": "stderr",
     "output_type": "stream",
     "text": [
      "29436it [32:49, 11.06it/s]"
     ]
    },
    {
     "name": "stdout",
     "output_type": "stream",
     "text": [
      "value of mean pixel is too similar. Ignore this image\n",
      "resized_img_st \n",
      " [255.0, 255.0, 255.0, 203.95584415584415]\n",
      "background_img_st \n",
      " [71.15837585034014, 71.15837585034014, 71.15837585034014, 255.0]\n",
      "cannot save image: 29432\n"
     ]
    },
    {
     "name": "stderr",
     "output_type": "stream",
     "text": [
      "29455it [32:51, 11.67it/s]"
     ]
    },
    {
     "name": "stdout",
     "output_type": "stream",
     "text": [
      "value of mean pixel is too similar. Ignore this image\n",
      "resized_img_st \n",
      " [255.0, 255.0, 255.0, 183.45525291828793]\n",
      "background_img_st \n",
      " [70.86309523809524, 70.86309523809524, 70.86309523809524, 255.0]\n",
      "cannot save image: 29453\n"
     ]
    },
    {
     "name": "stderr",
     "output_type": "stream",
     "text": [
      "29734it [33:20,  8.83it/s]"
     ]
    },
    {
     "name": "stdout",
     "output_type": "stream",
     "text": [
      "value of mean pixel is too similar. Ignore this image\n",
      "resized_img_st \n",
      " [255.0, 255.0, 255.0, 194.30701754385964]\n",
      "background_img_st \n",
      " [72.03988486842105, 72.03988486842105, 72.03988486842105, 255.0]\n",
      "cannot save image: 29734\n"
     ]
    },
    {
     "name": "stderr",
     "output_type": "stream",
     "text": [
      "29778it [33:24, 14.74it/s]"
     ]
    },
    {
     "name": "stdout",
     "output_type": "stream",
     "text": [
      "value of mean pixel is too similar. Ignore this image\n",
      "resized_img_st \n",
      " [255.0, 255.0, 255.0, 218.83904109589042]\n",
      "background_img_st \n",
      " [70.3828125, 70.3828125, 70.3828125, 255.0]\n",
      "cannot save image: 29775\n"
     ]
    },
    {
     "name": "stderr",
     "output_type": "stream",
     "text": [
      "30000it [33:49, 14.78it/s]\n"
     ]
    }
   ],
   "source": [
    "import os\n",
    "\n",
    "os.makedirs('train_black', exist_ok=True)\n",
    "\n",
    "for i, (img, lbl) in tqdm(enumerate(train_generator)):\n",
    "    image_path = os.path.join('train_black', f'{lbl}_{i}.jpg')\n",
    "    try:\n",
    "        img.save(image_path)\n",
    "    except AttributeError:\n",
    "        print('cannot save image:', i)\n",
    "        \n",
    "    if i == len(training_strings):\n",
    "        break\n",
    "    "
   ]
  },
  {
   "cell_type": "code",
   "execution_count": 494,
   "id": "d2cff3cb",
   "metadata": {},
   "outputs": [
    {
     "name": "stdout",
     "output_type": "stream",
     "text": [
      "30977\n"
     ]
    }
   ],
   "source": [
    "!ls train_black/ | wc -l"
   ]
  },
  {
   "cell_type": "markdown",
   "id": "1ebaa3f5",
   "metadata": {},
   "source": [
    "## Val images"
   ]
  },
  {
   "cell_type": "code",
   "execution_count": 495,
   "id": "6dbe68a9",
   "metadata": {},
   "outputs": [],
   "source": [
    "# The generators use the same arguments as the CLI, only as parameters\n",
    "val_generator = GeneratorFromStrings(\n",
    "    strings=val_strings,\n",
    "    fonts=fonts_pathes,\n",
    "    language='ka',\n",
    "    skewing_angle=5,\n",
    "    random_skew=True,\n",
    "    blur=1,\n",
    "    random_blur=True,\n",
    "    background_type=3,\n",
    "    text_color='#ffffff',\n",
    "    stroke_fill='#ffffff'\n",
    ")"
   ]
  },
  {
   "cell_type": "code",
   "execution_count": 497,
   "id": "f25f0400",
   "metadata": {},
   "outputs": [
    {
     "name": "stderr",
     "output_type": "stream",
     "text": [
      "35it [00:00, 37.36it/s]"
     ]
    },
    {
     "name": "stdout",
     "output_type": "stream",
     "text": [
      "value of mean pixel is too similar. Ignore this image\n",
      "resized_img_st \n",
      " [255.0, 255.0, 255.0, 206.98828125]\n",
      "background_img_st \n",
      " [72.34801136363636, 72.34801136363636, 72.34801136363636, 255.0]\n",
      "cannot save image: 33\n"
     ]
    },
    {
     "name": "stderr",
     "output_type": "stream",
     "text": [
      "66it [00:01, 38.51it/s]"
     ]
    },
    {
     "name": "stdout",
     "output_type": "stream",
     "text": [
      "value of mean pixel is too similar. Ignore this image\n",
      "resized_img_st \n",
      " [255.0, 255.0, 255.0, 205.70224719101122]\n",
      "background_img_st \n",
      " [70.77320544554455, 70.77320544554455, 70.77320544554455, 255.0]\n",
      "cannot save image: 56\n"
     ]
    },
    {
     "name": "stderr",
     "output_type": "stream",
     "text": [
      "91it [00:02, 38.00it/s]"
     ]
    },
    {
     "name": "stdout",
     "output_type": "stream",
     "text": [
      "value of mean pixel is too similar. Ignore this image\n",
      "resized_img_st \n",
      " [254.00778210116732, 254.00778210116732, 254.00778210116732, 204.24902723735408]\n",
      "background_img_st \n",
      " [69.94635416666667, 69.94635416666667, 69.94635416666667, 255.0]\n",
      "cannot save image: 83\n"
     ]
    },
    {
     "name": "stderr",
     "output_type": "stream",
     "text": [
      "358it [00:10, 31.40it/s]"
     ]
    },
    {
     "name": "stdout",
     "output_type": "stream",
     "text": [
      "value of mean pixel is too similar. Ignore this image\n",
      "resized_img_st \n",
      " [254.67631378522466, 254.67631378522466, 254.67631378522466, 210.43488194973344]\n",
      "background_img_st \n",
      " [70.0118670886076, 70.01497513562387, 69.99949141048825, 255.0]\n",
      "cannot save image: 352\n"
     ]
    },
    {
     "name": "stderr",
     "output_type": "stream",
     "text": [
      "366it [00:10, 34.05it/s]"
     ]
    },
    {
     "name": "stdout",
     "output_type": "stream",
     "text": [
      "value of mean pixel is too similar. Ignore this image\n",
      "resized_img_st \n",
      " [252.1875, 252.1875, 252.1875, 199.88970588235293]\n",
      "background_img_st \n",
      " [72.41907051282051, 74.35857371794872, 71.2792467948718, 255.0]\n",
      "cannot save image: 362\n"
     ]
    },
    {
     "name": "stderr",
     "output_type": "stream",
     "text": [
      "524it [00:15, 36.67it/s]"
     ]
    },
    {
     "name": "stdout",
     "output_type": "stream",
     "text": [
      "value of mean pixel is too similar. Ignore this image\n",
      "resized_img_st \n",
      " [255.0, 255.0, 255.0, 199.11173184357543]\n",
      "background_img_st \n",
      " [71.1905048076923, 73.19110576923077, 70.05588942307692, 255.0]\n",
      "cannot save image: 516\n"
     ]
    },
    {
     "name": "stderr",
     "output_type": "stream",
     "text": [
      "532it [00:16, 34.92it/s]"
     ]
    },
    {
     "name": "stdout",
     "output_type": "stream",
     "text": [
      "value of mean pixel is too similar. Ignore this image\n",
      "resized_img_st \n",
      " [253.9920948616601, 253.9920948616601, 253.9920948616601, 207.77470355731225]\n",
      "background_img_st \n",
      " [78.95391949152543, 80.8479872881356, 77.45074152542372, 255.0]\n",
      "cannot save image: 529\n"
     ]
    },
    {
     "name": "stderr",
     "output_type": "stream",
     "text": [
      "624it [00:18, 35.68it/s]"
     ]
    },
    {
     "name": "stdout",
     "output_type": "stream",
     "text": [
      "value of mean pixel is too similar. Ignore this image\n",
      "resized_img_st \n",
      " [255.0, 255.0, 255.0, 213.19113573407202]\n",
      "background_img_st \n",
      " [73.36739130434782, 73.36739130434782, 73.36739130434782, 255.0]\n",
      "cannot save image: 621\n"
     ]
    },
    {
     "name": "stderr",
     "output_type": "stream",
     "text": [
      "735it [00:22, 31.38it/s]"
     ]
    },
    {
     "name": "stdout",
     "output_type": "stream",
     "text": [
      "value of mean pixel is too similar. Ignore this image\n",
      "resized_img_st \n",
      " [255.0, 255.0, 255.0, 215.66666666666666]\n",
      "background_img_st \n",
      " [72.17269736842105, 72.17269736842105, 72.17269736842105, 255.0]\n",
      "cannot save image: 730\n"
     ]
    },
    {
     "name": "stderr",
     "output_type": "stream",
     "text": [
      "756it [00:22, 30.25it/s]"
     ]
    },
    {
     "name": "stdout",
     "output_type": "stream",
     "text": [
      "value of mean pixel is too similar. Ignore this image\n",
      "resized_img_st \n",
      " [255.0, 255.0, 255.0, 186.9820143884892]\n",
      "background_img_st \n",
      " [70.0610632183908, 70.0610632183908, 70.0610632183908, 255.0]\n",
      "cannot save image: 750\n"
     ]
    },
    {
     "name": "stderr",
     "output_type": "stream",
     "text": [
      "1091it [00:33, 29.93it/s]"
     ]
    },
    {
     "name": "stdout",
     "output_type": "stream",
     "text": [
      "value of mean pixel is too similar. Ignore this image\n",
      "resized_img_st \n",
      " [255.0, 255.0, 255.0, 198.9633507853403]\n",
      "background_img_st \n",
      " [74.91045673076923, 74.91045673076923, 74.91045673076923, 255.0]\n",
      "cannot save image: 1086\n"
     ]
    },
    {
     "name": "stderr",
     "output_type": "stream",
     "text": [
      "1416it [00:43, 36.19it/s]"
     ]
    },
    {
     "name": "stdout",
     "output_type": "stream",
     "text": [
      "value of mean pixel is too similar. Ignore this image\n",
      "resized_img_st \n",
      " [255.0, 255.0, 255.0, 198.18823529411765]\n",
      "background_img_st \n",
      " [70.9116847826087, 70.9116847826087, 70.9116847826087, 255.0]\n",
      "cannot save image: 1412\n"
     ]
    },
    {
     "name": "stderr",
     "output_type": "stream",
     "text": [
      "1500it [00:46, 32.29it/s]\n"
     ]
    }
   ],
   "source": [
    "import os\n",
    "\n",
    "os.makedirs('val_black', exist_ok=True)\n",
    "\n",
    "for i, (img, lbl) in tqdm(enumerate(train_generator)):\n",
    "    image_path = os.path.join('val_black', f'{lbl}_{i}.jpg')\n",
    "    try:\n",
    "        img.save(image_path)\n",
    "    except AttributeError:\n",
    "        print('cannot save image:', i)\n",
    "    \n",
    "    if i == len(val_strings):\n",
    "        break\n",
    "    "
   ]
  },
  {
   "cell_type": "markdown",
   "id": "846b756d",
   "metadata": {},
   "source": [
    "## Test images"
   ]
  },
  {
   "cell_type": "code",
   "execution_count": 498,
   "id": "04472ecd",
   "metadata": {},
   "outputs": [],
   "source": [
    "# The generators use the same arguments as the CLI, only as parameters\n",
    "test_generator = GeneratorFromStrings(\n",
    "    strings=test_strings,\n",
    "    fonts=fonts_pathes,\n",
    "    language='ka',\n",
    "    skewing_angle=5,\n",
    "    random_skew=True,\n",
    "    blur=1,\n",
    "    random_blur=True,\n",
    "    background_type=3,\n",
    "    text_color='#ffffff',\n",
    "    stroke_fill='#ffffff'\n",
    ")"
   ]
  },
  {
   "cell_type": "code",
   "execution_count": 499,
   "id": "84946501",
   "metadata": {},
   "outputs": [
    {
     "name": "stderr",
     "output_type": "stream",
     "text": [
      "76it [00:02, 34.77it/s]"
     ]
    },
    {
     "name": "stdout",
     "output_type": "stream",
     "text": [
      "value of mean pixel is too similar. Ignore this image\n",
      "resized_img_st \n",
      " [255.0, 255.0, 255.0, 202.45426829268294]\n",
      "background_img_st \n",
      " [71.12916666666666, 73.134375, 70.00729166666666, 255.0]\n",
      "cannot save image: 70\n"
     ]
    },
    {
     "name": "stderr",
     "output_type": "stream",
     "text": [
      "319it [00:09, 31.25it/s]"
     ]
    },
    {
     "name": "stdout",
     "output_type": "stream",
     "text": [
      "value of mean pixel is too similar. Ignore this image\n",
      "resized_img_st \n",
      " [255.0, 255.0, 255.0, 211.59756097560975]\n",
      "background_img_st \n",
      " [71.55487204724409, 71.55487204724409, 71.55487204724409, 255.0]\n",
      "cannot save image: 314\n"
     ]
    },
    {
     "name": "stderr",
     "output_type": "stream",
     "text": [
      "336it [00:10, 30.43it/s]"
     ]
    },
    {
     "name": "stdout",
     "output_type": "stream",
     "text": [
      "value of mean pixel is too similar. Ignore this image\n",
      "resized_img_st \n",
      " [253.9755295836377, 253.9755295836377, 253.9755295836377, 202.09422936449963]\n",
      "background_img_st \n",
      " [69.81664426523298, 69.81944444444444, 69.80398745519713, 255.0]\n",
      "cannot save image: 331\n"
     ]
    },
    {
     "name": "stderr",
     "output_type": "stream",
     "text": [
      "499it [00:15, 45.15it/s]"
     ]
    },
    {
     "name": "stdout",
     "output_type": "stream",
     "text": [
      "value of mean pixel is too similar. Ignore this image\n",
      "resized_img_st \n",
      " [255.0, 255.0, 255.0, 212.55871886120997]\n",
      "background_img_st \n",
      " [73.12878787878788, 75.12642045454545, 71.94176136363636, 255.0]\n",
      "cannot save image: 494\n"
     ]
    },
    {
     "name": "stderr",
     "output_type": "stream",
     "text": [
      "691it [00:21, 33.53it/s]"
     ]
    },
    {
     "name": "stdout",
     "output_type": "stream",
     "text": [
      "value of mean pixel is too similar. Ignore this image\n",
      "resized_img_st \n",
      " [255.0, 255.0, 255.0, 219.8786610878661]\n",
      "background_img_st \n",
      " [70.13392857142857, 70.13392857142857, 70.13392857142857, 255.0]\n",
      "cannot save image: 687\n"
     ]
    },
    {
     "name": "stderr",
     "output_type": "stream",
     "text": [
      "795it [00:24, 41.83it/s]"
     ]
    },
    {
     "name": "stdout",
     "output_type": "stream",
     "text": [
      "value of mean pixel is too similar. Ignore this image\n",
      "resized_img_st \n",
      " [255.0, 255.0, 255.0, 217.54918032786884]\n",
      "background_img_st \n",
      " [70.27877475247524, 70.27877475247524, 70.27877475247524, 255.0]\n",
      "cannot save image: 789\n"
     ]
    },
    {
     "name": "stderr",
     "output_type": "stream",
     "text": [
      "898it [00:27, 37.53it/s]"
     ]
    },
    {
     "name": "stdout",
     "output_type": "stream",
     "text": [
      "value of mean pixel is too similar. Ignore this image\n",
      "resized_img_st \n",
      " [255.0, 255.0, 255.0, 201.2108108108108]\n",
      "background_img_st \n",
      " [71.11213235294117, 71.11213235294117, 71.11213235294117, 255.0]\n",
      "cannot save image: 893\n"
     ]
    },
    {
     "name": "stderr",
     "output_type": "stream",
     "text": [
      "1007it [00:31, 33.83it/s]"
     ]
    },
    {
     "name": "stdout",
     "output_type": "stream",
     "text": [
      "value of mean pixel is too similar. Ignore this image\n",
      "resized_img_st \n",
      " [255.0, 255.0, 255.0, 192.4984520123839]\n",
      "background_img_st \n",
      " [71.90260922330097, 71.90260922330097, 71.90260922330097, 255.0]\n",
      "cannot save image: 1003\n"
     ]
    },
    {
     "name": "stderr",
     "output_type": "stream",
     "text": [
      "1143it [00:35, 28.19it/s]"
     ]
    },
    {
     "name": "stdout",
     "output_type": "stream",
     "text": [
      "value of mean pixel is too similar. Ignore this image\n",
      "resized_img_st \n",
      " [255.0, 255.0, 255.0, 161.62152777777777]\n",
      "background_img_st \n",
      " [70.23033216783217, 70.23033216783217, 70.23033216783217, 255.0]\n",
      "cannot save image: 1138\n"
     ]
    },
    {
     "name": "stderr",
     "output_type": "stream",
     "text": [
      "1243it [00:38, 43.00it/s]"
     ]
    },
    {
     "name": "stdout",
     "output_type": "stream",
     "text": [
      "value of mean pixel is too similar. Ignore this image\n",
      "resized_img_st \n",
      " [255.0, 255.0, 255.0, 213.42424242424244]\n",
      "background_img_st \n",
      " [70.55733695652174, 70.55733695652174, 70.55733695652174, 255.0]\n",
      "cannot save image: 1238\n"
     ]
    },
    {
     "name": "stderr",
     "output_type": "stream",
     "text": [
      "1363it [00:42, 31.21it/s]"
     ]
    },
    {
     "name": "stdout",
     "output_type": "stream",
     "text": [
      "value of mean pixel is too similar. Ignore this image\n",
      "resized_img_st \n",
      " [255.0, 255.0, 255.0, 206.16780821917808]\n",
      "background_img_st \n",
      " [71.20442708333333, 71.20442708333333, 71.20442708333333, 255.0]\n",
      "cannot save image: 1358\n"
     ]
    },
    {
     "name": "stderr",
     "output_type": "stream",
     "text": [
      "1466it [00:45, 32.28it/s]"
     ]
    },
    {
     "name": "stdout",
     "output_type": "stream",
     "text": [
      "value of mean pixel is too similar. Ignore this image\n",
      "resized_img_st \n",
      " [253.96341463414635, 253.96341463414635, 253.96341463414635, 196.16260162601625]\n",
      "background_img_st \n",
      " [71.50847457627118, 71.50847457627118, 71.50847457627118, 255.0]\n",
      "cannot save image: 1462\n"
     ]
    },
    {
     "name": "stderr",
     "output_type": "stream",
     "text": [
      "1486it [00:46, 31.30it/s]"
     ]
    },
    {
     "name": "stdout",
     "output_type": "stream",
     "text": [
      "value of mean pixel is too similar. Ignore this image\n",
      "resized_img_st \n",
      " [255.0, 255.0, 255.0, 194.45982142857142]\n",
      "background_img_st \n",
      " [70.81298828125, 72.7861328125, 69.75390625, 255.0]\n",
      "cannot save image: 1481\n"
     ]
    },
    {
     "name": "stderr",
     "output_type": "stream",
     "text": [
      "1500it [00:46, 32.03it/s]\n"
     ]
    }
   ],
   "source": [
    "import os\n",
    "\n",
    "os.makedirs('test_black', exist_ok=True)\n",
    "\n",
    "for i, (img, lbl) in tqdm(enumerate(train_generator)):\n",
    "    image_path = os.path.join('test_black', f'{lbl}_{i}.jpg')\n",
    "    try:\n",
    "        img.save(image_path)\n",
    "    except AttributeError:\n",
    "        print('cannot save image:', i)\n",
    "    \n",
    "    if i == len(test_strings):\n",
    "        break\n",
    "    "
   ]
  },
  {
   "cell_type": "markdown",
   "id": "f318dd1b",
   "metadata": {},
   "source": [
    "Move images into one gib folder"
   ]
  },
  {
   "cell_type": "code",
   "execution_count": 500,
   "id": "4e56c445",
   "metadata": {},
   "outputs": [],
   "source": [
    "# !mkdir ./data\n",
    "# !mkdir ./data/train\n",
    "# !mkdir ./data/test\n",
    "# !mkdir ./data/val"
   ]
  },
  {
   "cell_type": "code",
   "execution_count": 512,
   "id": "b5ff5aa3",
   "metadata": {},
   "outputs": [
    {
     "name": "stdout",
     "output_type": "stream",
     "text": [
      "62000\n"
     ]
    }
   ],
   "source": [
    "# !for i in ./train_white/*; do cp \"$i\" ./data/train/; done\n",
    "# !for i in ./train_black/*; do cp \"$i\" ./data/train/; done\n",
    "!ls ./data/train | wc -l"
   ]
  },
  {
   "cell_type": "code",
   "execution_count": 513,
   "id": "4ad12e5a",
   "metadata": {},
   "outputs": [
    {
     "name": "stdout",
     "output_type": "stream",
     "text": [
      "2989\n"
     ]
    }
   ],
   "source": [
    "# !for i in ./test_white/*; do cp \"$i\" ./data/test/; done\n",
    "# !for i in ./test_black/*; do cp \"$i\" ./data/test/; done\n",
    "!ls ./data/test | wc -l"
   ]
  },
  {
   "cell_type": "code",
   "execution_count": 514,
   "id": "16469b83",
   "metadata": {},
   "outputs": [
    {
     "name": "stdout",
     "output_type": "stream",
     "text": [
      "2999\n"
     ]
    }
   ],
   "source": [
    "# !for i in ./val_white/*; do cp \"$i\" ./data/val/; done\n",
    "# !for i in ./val_black/*; do cp \"$i\" ./data/val/; done\n",
    "!ls ./data/val | wc -l"
   ]
  },
  {
   "cell_type": "code",
   "execution_count": null,
   "id": "4750bf9c",
   "metadata": {},
   "outputs": [],
   "source": [
    "# !zip -r data.zip ./data"
   ]
  }
 ],
 "metadata": {
  "kernelspec": {
   "display_name": "conda_amazonei_pytorch_latest_p36",
   "language": "python",
   "name": "conda_amazonei_pytorch_latest_p36"
  },
  "language_info": {
   "codemirror_mode": {
    "name": "ipython",
    "version": 3
   },
   "file_extension": ".py",
   "mimetype": "text/x-python",
   "name": "python",
   "nbconvert_exporter": "python",
   "pygments_lexer": "ipython3",
   "version": "3.6.13"
  }
 },
 "nbformat": 4,
 "nbformat_minor": 5
}
